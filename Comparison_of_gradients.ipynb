{
 "cells": [
  {
   "cell_type": "code",
   "execution_count": 1,
   "metadata": {
    "collapsed": false,
    "execution": {
     "iopub.execute_input": "2022-12-04T20:01:07.111710Z",
     "iopub.status.busy": "2022-12-04T20:01:07.110748Z",
     "iopub.status.idle": "2022-12-04T20:01:07.887778Z",
     "shell.execute_reply": "2022-12-04T20:01:07.886164Z",
     "shell.execute_reply.started": "2022-12-04T20:01:07.111569Z"
    },
    "gradient": {
     "editing": false,
     "execution_count": 2,
     "id": "2bab3caa-e156-4635-bc21-53031ebea60d",
     "kernelId": ""
    },
    "jupyter": {
     "outputs_hidden": false
    }
   },
   "outputs": [
    {
     "name": "stdout",
     "output_type": "stream",
     "text": [
      "Sun Dec  4 20:01:07 2022       \n",
      "+-----------------------------------------------------------------------------+\n",
      "| NVIDIA-SMI 510.73.05    Driver Version: 510.73.05    CUDA Version: 11.6     |\n",
      "|-------------------------------+----------------------+----------------------+\n",
      "| GPU  Name        Persistence-M| Bus-Id        Disp.A | Volatile Uncorr. ECC |\n",
      "| Fan  Temp  Perf  Pwr:Usage/Cap|         Memory-Usage | GPU-Util  Compute M. |\n",
      "|                               |                      |               MIG M. |\n",
      "|===============================+======================+======================|\n",
      "|   0  Quadro M4000        Off  | 00000000:00:05.0 Off |                  N/A |\n",
      "| 46%   28C    P8    11W / 120W |      0MiB /  8192MiB |      0%      Default |\n",
      "|                               |                      |                  N/A |\n",
      "+-------------------------------+----------------------+----------------------+\n",
      "                                                                               \n",
      "+-----------------------------------------------------------------------------+\n",
      "| Processes:                                                                  |\n",
      "|  GPU   GI   CI        PID   Type   Process name                  GPU Memory |\n",
      "|        ID   ID                                                   Usage      |\n",
      "|=============================================================================|\n",
      "|  No running processes found                                                 |\n",
      "+-----------------------------------------------------------------------------+\n"
     ]
    }
   ],
   "source": [
    "! nvidia-smi"
   ]
  },
  {
   "cell_type": "code",
   "execution_count": 2,
   "metadata": {
    "execution": {
     "iopub.execute_input": "2022-12-04T20:01:18.237812Z",
     "iopub.status.busy": "2022-12-04T20:01:18.237112Z",
     "iopub.status.idle": "2022-12-04T20:01:20.086475Z",
     "shell.execute_reply": "2022-12-04T20:01:20.085385Z",
     "shell.execute_reply.started": "2022-12-04T20:01:18.237812Z"
    }
   },
   "outputs": [],
   "source": [
    "import numpy as np\n",
    "import torch\n",
    "import shutil\n",
    "import torch.nn as nn \n",
    "from torchvision import datasets\n",
    "from torchvision import transforms\n",
    "from torch.utils.data.sampler import SubsetRandomSampler\n",
    "from torch.utils.data import DataLoader\n",
    "\n",
    "import sklearn\n",
    "from sklearn.metrics import f1_score   \n",
    "import math\n",
    "import warnings\n",
    "\n",
    "from torch.nn.modules.utils import _pair, _reverse_repeat_tuple\n",
    "from torch.nn.common_types import _size_2_t, _size_any_t\n",
    "from torch import Tensor\n",
    "from torch.nn.parameter import Parameter, UninitializedParameter\n",
    "from torch.nn import functional as F\n",
    "from torch.nn import init\n",
    "from torch._torch_docs import reproducibility_notes\n",
    "from torch.nn import Module\n",
    "import os\n",
    "\n",
    "\n",
    "from typing import Optional, List, Tuple, Union\n",
    "\n",
    "# Device configuration\n",
    "device = torch.device('cuda' if torch.cuda.is_available() else 'cpu')\n",
    "\n",
    "import argparse\n",
    "import torch.optim as optim\n",
    "import time\n",
    "from tqdm.auto import tqdm"
   ]
  },
  {
   "cell_type": "code",
   "execution_count": 3,
   "metadata": {
    "execution": {
     "iopub.execute_input": "2022-12-03T09:42:02.322443Z",
     "iopub.status.busy": "2022-12-03T09:42:02.321999Z",
     "iopub.status.idle": "2022-12-03T09:42:07.058137Z",
     "shell.execute_reply": "2022-12-03T09:42:07.057176Z",
     "shell.execute_reply.started": "2022-12-03T09:42:02.322416Z"
    }
   },
   "outputs": [
    {
     "name": "stdout",
     "output_type": "stream",
     "text": [
      "Collecting kaggle\n",
      "  Downloading kaggle-1.5.12.tar.gz (58 kB)\n",
      "\u001b[2K     \u001b[90m━━━━━━━━━━━━━━━━━━━━━━━━━━━━━━━━━━━━━━━━\u001b[0m \u001b[32m59.0/59.0 kB\u001b[0m \u001b[31m13.5 MB/s\u001b[0m eta \u001b[36m0:00:00\u001b[0m\n",
      "\u001b[?25h  Preparing metadata (setup.py) ... \u001b[?25ldone\n",
      "\u001b[?25hRequirement already satisfied: six>=1.10 in /usr/lib/python3/dist-packages (from kaggle) (1.14.0)\n",
      "Requirement already satisfied: certifi in /usr/lib/python3/dist-packages (from kaggle) (2019.11.28)\n",
      "Requirement already satisfied: python-dateutil in /usr/local/lib/python3.9/dist-packages (from kaggle) (2.8.2)\n",
      "Requirement already satisfied: requests in /usr/local/lib/python3.9/dist-packages (from kaggle) (2.28.1)\n",
      "Requirement already satisfied: tqdm in /usr/local/lib/python3.9/dist-packages (from kaggle) (4.64.0)\n",
      "Requirement already satisfied: python-slugify in /usr/lib/python3/dist-packages (from kaggle) (4.0.0)\n",
      "Requirement already satisfied: urllib3 in /usr/local/lib/python3.9/dist-packages (from kaggle) (1.26.10)\n",
      "Requirement already satisfied: idna<4,>=2.5 in /usr/lib/python3/dist-packages (from requests->kaggle) (2.8)\n",
      "Requirement already satisfied: charset-normalizer<3,>=2 in /usr/local/lib/python3.9/dist-packages (from requests->kaggle) (2.1.0)\n",
      "Building wheels for collected packages: kaggle\n",
      "  Building wheel for kaggle (setup.py) ... \u001b[?25ldone\n",
      "\u001b[?25h  Created wheel for kaggle: filename=kaggle-1.5.12-py3-none-any.whl size=73031 sha256=77d7ab1ed111ea28cebafc310fb34c4e2f2c8072f59b3dbd7ed5a0b1fb6af4c3\n",
      "  Stored in directory: /root/.cache/pip/wheels/ac/b2/c3/fa4706d469b5879105991d1c8be9a3c2ef329ba9fe2ce5085e\n",
      "Successfully built kaggle\n",
      "Installing collected packages: kaggle\n",
      "Successfully installed kaggle-1.5.12\n",
      "\u001b[33mWARNING: Running pip as the 'root' user can result in broken permissions and conflicting behaviour with the system package manager. It is recommended to use a virtual environment instead: https://pip.pypa.io/warnings/venv\u001b[0m\u001b[33m\n",
      "\u001b[0m"
     ]
    }
   ],
   "source": [
    "#!pip install kaggle"
   ]
  },
  {
   "cell_type": "code",
   "execution_count": 3,
   "metadata": {
    "execution": {
     "iopub.execute_input": "2022-12-04T20:01:24.819020Z",
     "iopub.status.busy": "2022-12-04T20:01:24.818460Z",
     "iopub.status.idle": "2022-12-04T20:01:32.113141Z",
     "shell.execute_reply": "2022-12-04T20:01:32.111683Z",
     "shell.execute_reply.started": "2022-12-04T20:01:24.819018Z"
    }
   },
   "outputs": [
    {
     "name": "stdout",
     "output_type": "stream",
     "text": [
      "/bin/bash: kaggle: command not found\n",
      "Archive:  /notebooks/stanford-cars-dataset.zip\n",
      "replace cars_annos.mat? [y]es, [n]o, [A]ll, [N]one, [r]ename: ^C\n"
     ]
    }
   ],
   "source": [
    "\"\"\"\n",
    "! mkdir ~/.kaggle\n",
    "! cp /notebooks/kaggle.json ~/.kaggle/  \n",
    "! chmod 600 ~/.kaggle/kaggle.json\n",
    "!kaggle datasets download -d jessicali9530/stanford-cars-dataset\n",
    "!unzip /notebooks/stanford-cars-dataset.zip\n",
    "\"\"\""
   ]
  },
  {
   "cell_type": "code",
   "execution_count": 29,
   "metadata": {
    "execution": {
     "iopub.execute_input": "2022-12-01T14:38:38.018991Z",
     "iopub.status.busy": "2022-12-01T14:38:38.018655Z",
     "iopub.status.idle": "2022-12-01T14:38:50.623672Z",
     "shell.execute_reply": "2022-12-01T14:38:50.622501Z",
     "shell.execute_reply.started": "2022-12-01T14:38:38.018965Z"
    }
   },
   "outputs": [
    {
     "name": "stdout",
     "output_type": "stream",
     "text": [
      "Archive:  /notebooks/stanford-cars-dataset.zip\n",
      "replace cars_annos.mat? [y]es, [n]o, [A]ll, [N]one, [r]ename: ^C\n"
     ]
    }
   ],
   "source": [
    "#!unzip /notebooks/stanford-cars-dataset.zip"
   ]
  },
  {
   "cell_type": "code",
   "execution_count": 4,
   "metadata": {
    "execution": {
     "iopub.execute_input": "2022-12-04T20:01:37.499311Z",
     "iopub.status.busy": "2022-12-04T20:01:37.498890Z",
     "iopub.status.idle": "2022-12-04T20:01:39.825950Z",
     "shell.execute_reply": "2022-12-04T20:01:39.825202Z",
     "shell.execute_reply.started": "2022-12-04T20:01:37.499279Z"
    }
   },
   "outputs": [
    {
     "name": "stdout",
     "output_type": "stream",
     "text": [
      "8144\n"
     ]
    },
    {
     "name": "stderr",
     "output_type": "stream",
     "text": [
      "/tmp/ipykernel_32/1952084630.py:16: FutureWarning: Could not cast to int32, falling back to object. This behavior is deprecated. In a future version, when a dtype is passed to 'DataFrame', either all columns will be cast to that dtype, or a TypeError will be raised.\n",
      "  class_df=pd.DataFrame(class_df, dtype=np.int32)\n"
     ]
    },
    {
     "name": "stdout",
     "output_type": "stream",
     "text": [
      "8041\n"
     ]
    },
    {
     "name": "stderr",
     "output_type": "stream",
     "text": [
      "/tmp/ipykernel_32/1952084630.py:27: FutureWarning: Could not cast to int32, falling back to object. This behavior is deprecated. In a future version, when a dtype is passed to 'DataFrame', either all columns will be cast to that dtype, or a TypeError will be raised.\n",
      "  class_df1=pd.DataFrame(class_df1, dtype=np.int32)\n"
     ]
    }
   ],
   "source": [
    "import pandas as pd\n",
    "import scipy.io\n",
    "mat = scipy.io.loadmat('/notebooks/Копия cars_meta.mat')\n",
    "mat = dict(class_names=mat['class_names'][0])\n",
    "cars_df = pd.DataFrame(mat)\n",
    "cars_df.to_csv(\"/notebooks/names.csv\")\n",
    "\n",
    "mat = scipy.io.loadmat('/notebooks/Копия cars_train_annos.mat')\n",
    "print(len(mat['annotations'][0]))\n",
    "class_df = dict(label=[], names=[])\n",
    "for c in mat['annotations'][0]:\n",
    "  cl = c[4][0][0] - 1\n",
    "  n = c[5][0]\n",
    "  class_df['label'].append(cl)\n",
    "  class_df['names'].append(n)\n",
    "class_df=pd.DataFrame(class_df, dtype=np.int32)\n",
    "class_df.to_csv(\"/notebooks/anno_train.csv\")\n",
    "\n",
    "mat = scipy.io.loadmat('/notebooks/cars_test_annos_withlabels.mat')\n",
    "print(len(mat['annotations'][0]))\n",
    "class_df1 = dict(label=[], names=[])\n",
    "for c in mat['annotations'][0]:\n",
    "  cl = c[4][0][0] - 1\n",
    "  n = c[5][0]\n",
    "  class_df1['label'].append(cl)\n",
    "  class_df1['names'].append(n)\n",
    "class_df1=pd.DataFrame(class_df1, dtype=np.int32)\n",
    "class_df1.to_csv(\"/notebooks/anno_test.csv\")"
   ]
  },
  {
   "cell_type": "code",
   "execution_count": 5,
   "metadata": {
    "execution": {
     "iopub.execute_input": "2022-12-04T20:01:42.874467Z",
     "iopub.status.busy": "2022-12-04T20:01:42.873149Z",
     "iopub.status.idle": "2022-12-04T20:01:42.883727Z",
     "shell.execute_reply": "2022-12-04T20:01:42.882852Z",
     "shell.execute_reply.started": "2022-12-04T20:01:42.874434Z"
    }
   },
   "outputs": [],
   "source": [
    "def create_dirs():\n",
    "  for l in cars_df['class_names']:\n",
    "\n",
    "    name_dir = l[0]\n",
    "    if '/' in l[0]:\n",
    "      name_dir = l[0].replace('/', '')\n",
    "    \n",
    "    try:\n",
    "      os.mkdir(f'/notebooks/cars_train/cars_train/{name_dir}')\n",
    "\n",
    "    except FileExistsError as F:\n",
    "      continue\n",
    "\n",
    "  for l in cars_df['class_names']:\n",
    "\n",
    "    name_dir = l[0]\n",
    "    if '/' in l[0]:\n",
    "      name_dir = l[0].replace('/', '')\n",
    "    \n",
    "    try:\n",
    "      os.mkdir(f'/notebooks/cars_test/cars_test/{name_dir}')\n",
    "\n",
    "    except FileExistsError as F:\n",
    "      continue\n",
    "    \n",
    "def create_classes(start=0, end=8144):\n",
    "\n",
    "  train_path = '/notebooks/cars_train/cars_train/'\n",
    "  test_path = '/notebooks/cars_test/cars_test/'\n",
    "\n",
    "  for l, img in zip(class_df['label'][start:end], class_df['names'][start:end]):\n",
    "\n",
    "    name_dir = cars_df['class_names'][l][0]\n",
    "    if '/' in name_dir:\n",
    "      name_dir = name_dir.replace('/', '')\n",
    "    name_dir += '/'\n",
    "\n",
    "    shutil.move(train_path+img, train_path+name_dir+img)\n",
    "\n",
    "  for l, img in zip(class_df1['label'][start:end], class_df1['names'][start:end]):\n",
    "\n",
    "    name_dir = cars_df['class_names'][l][0]\n",
    "    if '/' in name_dir:\n",
    "      name_dir = name_dir.replace('/', '')\n",
    "    name_dir += '/'\n",
    "\n",
    "    shutil.move(test_path+img, test_path+name_dir+img)\n",
    "    \n",
    "def DELETE():\n",
    "  shutil.rmtree('/notebooks/cars_train')\n",
    "  shutil.rmtree('/notebooks/cars_test')\n",
    "    \n",
    "    \n",
    "def create_sufficiant_dirs():\n",
    "    root = '/notebooks/cars_train/cars_train'\n",
    "    folders = list(os.walk(root))[1:]\n",
    "\n",
    "    for folder in folders:\n",
    "        # folder example: ('FOLDER/3', [], ['file'])\n",
    "        if not folder[2]:\n",
    "            os.rmdir(folder[0])\n",
    "\n",
    "    root = '/notebooks/cars_test/cars_test'\n",
    "    folders = list(os.walk(root))[1:]\n",
    "\n",
    "    for folder in folders:\n",
    "        # folder example: ('FOLDER/3', [], ['file'])\n",
    "        if not folder[2]:\n",
    "            os.rmdir(folder[0])\n",
    "    \n"
   ]
  },
  {
   "cell_type": "code",
   "execution_count": 6,
   "metadata": {
    "execution": {
     "iopub.execute_input": "2022-12-03T09:42:23.749524Z",
     "iopub.status.busy": "2022-12-03T09:42:23.749157Z",
     "iopub.status.idle": "2022-12-03T09:42:24.795437Z",
     "shell.execute_reply": "2022-12-03T09:42:24.793878Z",
     "shell.execute_reply.started": "2022-12-03T09:42:23.749499Z"
    }
   },
   "outputs": [
    {
     "ename": "FileNotFoundError",
     "evalue": "[Errno 2] No such file or directory: '/notebooks/cars_train/cars_train/00001.jpg'",
     "output_type": "error",
     "traceback": [
      "\u001b[0;31m---------------------------------------------------------------------------\u001b[0m",
      "\u001b[0;31mFileNotFoundError\u001b[0m                         Traceback (most recent call last)",
      "File \u001b[0;32m/usr/lib/python3.9/shutil.py:825\u001b[0m, in \u001b[0;36mmove\u001b[0;34m(src, dst, copy_function)\u001b[0m\n\u001b[1;32m    824\u001b[0m \u001b[38;5;28;01mtry\u001b[39;00m:\n\u001b[0;32m--> 825\u001b[0m     \u001b[43mos\u001b[49m\u001b[38;5;241;43m.\u001b[39;49m\u001b[43mrename\u001b[49m\u001b[43m(\u001b[49m\u001b[43msrc\u001b[49m\u001b[43m,\u001b[49m\u001b[43m \u001b[49m\u001b[43mreal_dst\u001b[49m\u001b[43m)\u001b[49m\n\u001b[1;32m    826\u001b[0m \u001b[38;5;28;01mexcept\u001b[39;00m \u001b[38;5;167;01mOSError\u001b[39;00m:\n",
      "\u001b[0;31mFileNotFoundError\u001b[0m: [Errno 2] No such file or directory: '/notebooks/cars_train/cars_train/00001.jpg' -> '/notebooks/cars_train/cars_train/Audi TTS Coupe 2012/00001.jpg'",
      "\nDuring handling of the above exception, another exception occurred:\n",
      "\u001b[0;31mFileNotFoundError\u001b[0m                         Traceback (most recent call last)",
      "Input \u001b[0;32mIn [6]\u001b[0m, in \u001b[0;36m<cell line: 8>\u001b[0;34m()\u001b[0m\n\u001b[1;32m      1\u001b[0m \u001b[38;5;124;03m\"\"\"\u001b[39;00m\n\u001b[1;32m      2\u001b[0m \u001b[38;5;124;03mDELETE()\u001b[39;00m\n\u001b[1;32m      3\u001b[0m \u001b[38;5;124;03m!unzip /notebooks/stanford-cars-dataset.zip\u001b[39;00m\n\u001b[1;32m      4\u001b[0m \u001b[38;5;124;03mcreate_dirs()\u001b[39;00m\n\u001b[1;32m      5\u001b[0m \u001b[38;5;124;03mcreate_classes(start=0, end=8144\u001b[39;00m\n\u001b[1;32m      6\u001b[0m \u001b[38;5;124;03m\"\"\"\u001b[39;00m\n\u001b[1;32m      7\u001b[0m create_dirs()\n\u001b[0;32m----> 8\u001b[0m \u001b[43mcreate_classes\u001b[49m\u001b[43m(\u001b[49m\u001b[43mstart\u001b[49m\u001b[38;5;241;43m=\u001b[39;49m\u001b[38;5;241;43m0\u001b[39;49m\u001b[43m,\u001b[49m\u001b[43m \u001b[49m\u001b[43mend\u001b[49m\u001b[38;5;241;43m=\u001b[39;49m\u001b[38;5;241;43m8144\u001b[39;49m\u001b[43m)\u001b[49m\n",
      "Input \u001b[0;32mIn [5]\u001b[0m, in \u001b[0;36mcreate_classes\u001b[0;34m(start, end)\u001b[0m\n\u001b[1;32m     35\u001b[0m     name_dir \u001b[38;5;241m=\u001b[39m name_dir\u001b[38;5;241m.\u001b[39mreplace(\u001b[38;5;124m'\u001b[39m\u001b[38;5;124m/\u001b[39m\u001b[38;5;124m'\u001b[39m, \u001b[38;5;124m'\u001b[39m\u001b[38;5;124m'\u001b[39m)\n\u001b[1;32m     36\u001b[0m   name_dir \u001b[38;5;241m+\u001b[39m\u001b[38;5;241m=\u001b[39m \u001b[38;5;124m'\u001b[39m\u001b[38;5;124m/\u001b[39m\u001b[38;5;124m'\u001b[39m\n\u001b[0;32m---> 38\u001b[0m   \u001b[43mshutil\u001b[49m\u001b[38;5;241;43m.\u001b[39;49m\u001b[43mmove\u001b[49m\u001b[43m(\u001b[49m\u001b[43mtrain_path\u001b[49m\u001b[38;5;241;43m+\u001b[39;49m\u001b[43mimg\u001b[49m\u001b[43m,\u001b[49m\u001b[43m \u001b[49m\u001b[43mtrain_path\u001b[49m\u001b[38;5;241;43m+\u001b[39;49m\u001b[43mname_dir\u001b[49m\u001b[38;5;241;43m+\u001b[39;49m\u001b[43mimg\u001b[49m\u001b[43m)\u001b[49m\n\u001b[1;32m     40\u001b[0m \u001b[38;5;28;01mfor\u001b[39;00m l, img \u001b[38;5;129;01min\u001b[39;00m \u001b[38;5;28mzip\u001b[39m(class_df1[\u001b[38;5;124m'\u001b[39m\u001b[38;5;124mlabel\u001b[39m\u001b[38;5;124m'\u001b[39m][start:end], class_df1[\u001b[38;5;124m'\u001b[39m\u001b[38;5;124mnames\u001b[39m\u001b[38;5;124m'\u001b[39m][start:end]):\n\u001b[1;32m     42\u001b[0m   name_dir \u001b[38;5;241m=\u001b[39m cars_df[\u001b[38;5;124m'\u001b[39m\u001b[38;5;124mclass_names\u001b[39m\u001b[38;5;124m'\u001b[39m][l][\u001b[38;5;241m0\u001b[39m]\n",
      "File \u001b[0;32m/usr/lib/python3.9/shutil.py:845\u001b[0m, in \u001b[0;36mmove\u001b[0;34m(src, dst, copy_function)\u001b[0m\n\u001b[1;32m    843\u001b[0m         rmtree(src)\n\u001b[1;32m    844\u001b[0m     \u001b[38;5;28;01melse\u001b[39;00m:\n\u001b[0;32m--> 845\u001b[0m         \u001b[43mcopy_function\u001b[49m\u001b[43m(\u001b[49m\u001b[43msrc\u001b[49m\u001b[43m,\u001b[49m\u001b[43m \u001b[49m\u001b[43mreal_dst\u001b[49m\u001b[43m)\u001b[49m\n\u001b[1;32m    846\u001b[0m         os\u001b[38;5;241m.\u001b[39munlink(src)\n\u001b[1;32m    847\u001b[0m \u001b[38;5;28;01mreturn\u001b[39;00m real_dst\n",
      "File \u001b[0;32m/usr/lib/python3.9/shutil.py:444\u001b[0m, in \u001b[0;36mcopy2\u001b[0;34m(src, dst, follow_symlinks)\u001b[0m\n\u001b[1;32m    442\u001b[0m \u001b[38;5;28;01mif\u001b[39;00m os\u001b[38;5;241m.\u001b[39mpath\u001b[38;5;241m.\u001b[39misdir(dst):\n\u001b[1;32m    443\u001b[0m     dst \u001b[38;5;241m=\u001b[39m os\u001b[38;5;241m.\u001b[39mpath\u001b[38;5;241m.\u001b[39mjoin(dst, os\u001b[38;5;241m.\u001b[39mpath\u001b[38;5;241m.\u001b[39mbasename(src))\n\u001b[0;32m--> 444\u001b[0m \u001b[43mcopyfile\u001b[49m\u001b[43m(\u001b[49m\u001b[43msrc\u001b[49m\u001b[43m,\u001b[49m\u001b[43m \u001b[49m\u001b[43mdst\u001b[49m\u001b[43m,\u001b[49m\u001b[43m \u001b[49m\u001b[43mfollow_symlinks\u001b[49m\u001b[38;5;241;43m=\u001b[39;49m\u001b[43mfollow_symlinks\u001b[49m\u001b[43m)\u001b[49m\n\u001b[1;32m    445\u001b[0m copystat(src, dst, follow_symlinks\u001b[38;5;241m=\u001b[39mfollow_symlinks)\n\u001b[1;32m    446\u001b[0m \u001b[38;5;28;01mreturn\u001b[39;00m dst\n",
      "File \u001b[0;32m/usr/lib/python3.9/shutil.py:264\u001b[0m, in \u001b[0;36mcopyfile\u001b[0;34m(src, dst, follow_symlinks)\u001b[0m\n\u001b[1;32m    262\u001b[0m     os\u001b[38;5;241m.\u001b[39msymlink(os\u001b[38;5;241m.\u001b[39mreadlink(src), dst)\n\u001b[1;32m    263\u001b[0m \u001b[38;5;28;01melse\u001b[39;00m:\n\u001b[0;32m--> 264\u001b[0m     \u001b[38;5;28;01mwith\u001b[39;00m \u001b[38;5;28;43mopen\u001b[39;49m\u001b[43m(\u001b[49m\u001b[43msrc\u001b[49m\u001b[43m,\u001b[49m\u001b[43m \u001b[49m\u001b[38;5;124;43m'\u001b[39;49m\u001b[38;5;124;43mrb\u001b[39;49m\u001b[38;5;124;43m'\u001b[39;49m\u001b[43m)\u001b[49m \u001b[38;5;28;01mas\u001b[39;00m fsrc:\n\u001b[1;32m    265\u001b[0m         \u001b[38;5;28;01mtry\u001b[39;00m:\n\u001b[1;32m    266\u001b[0m             \u001b[38;5;28;01mwith\u001b[39;00m \u001b[38;5;28mopen\u001b[39m(dst, \u001b[38;5;124m'\u001b[39m\u001b[38;5;124mwb\u001b[39m\u001b[38;5;124m'\u001b[39m) \u001b[38;5;28;01mas\u001b[39;00m fdst:\n\u001b[1;32m    267\u001b[0m                 \u001b[38;5;66;03m# macOS\u001b[39;00m\n",
      "\u001b[0;31mFileNotFoundError\u001b[0m: [Errno 2] No such file or directory: '/notebooks/cars_train/cars_train/00001.jpg'"
     ]
    }
   ],
   "source": [
    "\"\"\"\n",
    "DELETE()\n",
    "!unzip /notebooks/stanford-cars-dataset.zip\n",
    "create_dirs()\n",
    "create_classes(start=0, end=8144\n",
    "\n",
    "create_dirs()\n",
    "create_classes(start=0, end=8144)\n",
    "\"\"\""
   ]
  },
  {
   "cell_type": "code",
   "execution_count": 6,
   "metadata": {
    "execution": {
     "iopub.execute_input": "2022-12-04T20:01:48.825437Z",
     "iopub.status.busy": "2022-12-04T20:01:48.824912Z",
     "iopub.status.idle": "2022-12-04T20:01:48.844592Z",
     "shell.execute_reply": "2022-12-04T20:01:48.843796Z",
     "shell.execute_reply.started": "2022-12-04T20:01:48.825409Z"
    }
   },
   "outputs": [],
   "source": [
    "from torch.optim import Optimizer\n",
    "\n",
    "\n",
    "class AdaBound(Optimizer):\n",
    "    \"\"\"Implements AdaBound algorithm.\n",
    "    It has been proposed in `Adaptive Gradient Methods with Dynamic Bound of Learning Rate`_.\n",
    "    Arguments:\n",
    "        params (iterable): iterable of parameters to optimize or dicts defining\n",
    "            parameter groups\n",
    "        lr (float, optional): Adam learning rate (default: 1e-3)\n",
    "        betas (Tuple[float, float], optional): coefficients used for computing\n",
    "            running averages of gradient and its square (default: (0.9, 0.999))\n",
    "        final_lr (float, optional): final (SGD) learning rate (default: 0.1)\n",
    "        gamma (float, optional): convergence speed of the bound functions (default: 1e-3)\n",
    "        eps (float, optional): term added to the denominator to improve\n",
    "            numerical stability (default: 1e-8)\n",
    "        weight_decay (float, optional): weight decay (L2 penalty) (default: 0)\n",
    "        amsbound (boolean, optional): whether to use the AMSBound variant of this algorithm\n",
    "    .. Adaptive Gradient Methods with Dynamic Bound of Learning Rate:\n",
    "        https://openreview.net/forum?id=Bkg3g2R9FX\n",
    "    \"\"\"\n",
    "\n",
    "    def __init__(self, params, lr=1e-3, betas=(0.9, 0.999), final_lr=0.1, gamma=1e-3,\n",
    "                 eps=1e-8, weight_decay=0, amsbound=False):\n",
    "        if not 0.0 <= lr:\n",
    "            raise ValueError(\"Invalid learning rate: {}\".format(lr))\n",
    "        if not 0.0 <= eps:\n",
    "            raise ValueError(\"Invalid epsilon value: {}\".format(eps))\n",
    "        if not 0.0 <= betas[0] < 1.0:\n",
    "            raise ValueError(\"Invalid beta parameter at index 0: {}\".format(betas[0]))\n",
    "        if not 0.0 <= betas[1] < 1.0:\n",
    "            raise ValueError(\"Invalid beta parameter at index 1: {}\".format(betas[1]))\n",
    "        if not 0.0 <= final_lr:\n",
    "            raise ValueError(\"Invalid final learning rate: {}\".format(final_lr))\n",
    "        if not 0.0 <= gamma < 1.0:\n",
    "            raise ValueError(\"Invalid gamma parameter: {}\".format(gamma))\n",
    "        defaults = dict(lr=lr, betas=betas, final_lr=final_lr, gamma=gamma, eps=eps,\n",
    "                        weight_decay=weight_decay, amsbound=amsbound)\n",
    "        super(AdaBound, self).__init__(params, defaults)\n",
    "\n",
    "        self.base_lrs = list(map(lambda group: group['lr'], self.param_groups))\n",
    "\n",
    "    def __setstate__(self, state):\n",
    "        super(AdaBound, self).__setstate__(state)\n",
    "        for group in self.param_groups:\n",
    "            group.setdefault('amsbound', False)\n",
    "\n",
    "    def step(self, closure=None):\n",
    "        \"\"\"Performs a single optimization step.\n",
    "        Arguments:\n",
    "            closure (callable, optional): A closure that reevaluates the model\n",
    "                and returns the loss.\n",
    "        \"\"\"\n",
    "        loss = None\n",
    "        if closure is not None:\n",
    "            loss = closure()\n",
    "\n",
    "        for group, base_lr in zip(self.param_groups, self.base_lrs):\n",
    "            for p in group['params']:\n",
    "                if p.grad is None:\n",
    "                    continue\n",
    "                grad = p.grad.data\n",
    "                if grad.is_sparse:\n",
    "                    raise RuntimeError(\n",
    "                        'Adam does not support sparse gradients, please consider SparseAdam instead')\n",
    "                amsbound = group['amsbound']\n",
    "\n",
    "                state = self.state[p]\n",
    "\n",
    "                # State initialization\n",
    "                if len(state) == 0:\n",
    "                    state['step'] = 0\n",
    "                    # Exponential moving average of gradient values\n",
    "                    state['exp_avg'] = torch.zeros_like(p.data)\n",
    "                    # Exponential moving average of squared gradient values\n",
    "                    state['exp_avg_sq'] = torch.zeros_like(p.data)\n",
    "                    if amsbound:\n",
    "                        # Maintains max of all exp. moving avg. of sq. grad. values\n",
    "                        state['max_exp_avg_sq'] = torch.zeros_like(p.data)\n",
    "\n",
    "                exp_avg, exp_avg_sq = state['exp_avg'], state['exp_avg_sq']\n",
    "                if amsbound:\n",
    "                    max_exp_avg_sq = state['max_exp_avg_sq']\n",
    "                beta1, beta2 = group['betas']\n",
    "\n",
    "                state['step'] += 1\n",
    "\n",
    "                if group['weight_decay'] != 0:\n",
    "                    grad = grad.add(group['weight_decay'], p.data)\n",
    "\n",
    "                # Decay the first and second moment running average coefficient\n",
    "                exp_avg.mul_(beta1).add_(1 - beta1, grad)\n",
    "                exp_avg_sq.mul_(beta2).addcmul_(1 - beta2, grad, grad)\n",
    "                if amsbound:\n",
    "                    # Maintains the maximum of all 2nd moment running avg. till now\n",
    "                    torch.max(max_exp_avg_sq, exp_avg_sq, out=max_exp_avg_sq)\n",
    "                    # Use the max. for normalizing running avg. of gradient\n",
    "                    denom = max_exp_avg_sq.sqrt().add_(group['eps'])\n",
    "                else:\n",
    "                    denom = exp_avg_sq.sqrt().add_(group['eps'])\n",
    "\n",
    "                bias_correction1 = 1 - beta1 ** state['step']\n",
    "                bias_correction2 = 1 - beta2 ** state['step']\n",
    "                step_size = group['lr'] * math.sqrt(bias_correction2) / bias_correction1\n",
    "\n",
    "                # Applies bounds on actual learning rate\n",
    "                # lr_scheduler cannot affect final_lr, this is a workaround to apply lr decay\n",
    "                final_lr = group['final_lr'] * group['lr'] / base_lr\n",
    "                lower_bound = final_lr * (1 - 1 / (group['gamma'] * state['step'] + 1))\n",
    "                upper_bound = final_lr * (1 + 1 / (group['gamma'] * state['step']))\n",
    "                step_size = torch.full_like(denom, step_size)\n",
    "                step_size.div_(denom).clamp_(lower_bound, upper_bound).mul_(exp_avg)\n",
    "\n",
    "                p.data.add_(-step_size)\n",
    "\n",
    "        return loss"
   ]
  },
  {
   "cell_type": "code",
   "execution_count": 7,
   "metadata": {
    "execution": {
     "iopub.execute_input": "2022-12-04T20:01:49.490590Z",
     "iopub.status.busy": "2022-12-04T20:01:49.489777Z",
     "iopub.status.idle": "2022-12-04T20:01:49.510503Z",
     "shell.execute_reply": "2022-12-04T20:01:49.509748Z",
     "shell.execute_reply.started": "2022-12-04T20:01:49.490562Z"
    }
   },
   "outputs": [],
   "source": [
    "class _ConvNd(Module):\n",
    "\n",
    "        __constants__ = ['stride', 'padding', 'dilation', 'groups',\n",
    "                        'padding_mode', 'output_padding', 'in_channels',\n",
    "                        'out_channels', 'kernel_size']\n",
    "        __annotations__ = {'bias': Optional[torch.Tensor]}\n",
    "\n",
    "        def _conv_forward(self, input: Tensor, weight: Tensor, bias: Optional[Tensor]) -> Tensor:\n",
    "            ...\n",
    "\n",
    "        in_channels: int\n",
    "        _reversed_padding_repeated_twice: List[int]\n",
    "        out_channels: int\n",
    "        kernel_size: Tuple[int, ...]\n",
    "        stride: Tuple[int, ...]\n",
    "        padding: Union[str, Tuple[int, ...]]\n",
    "        dilation: Tuple[int, ...]\n",
    "        transposed: bool\n",
    "        output_padding: Tuple[int, ...]\n",
    "        groups: int\n",
    "        padding_mode: str\n",
    "        weight: Tensor\n",
    "        bias: Optional[Tensor]\n",
    "        def __init__(self,in_channels: int, out_channels: int, kernel_size: Tuple[int, ...],stride: Tuple[int, ...], padding: Tuple[int, ...],\n",
    "                     dilation: Tuple[int, ...], transposed: bool, output_padding: Tuple[int, ...],groups: int, bias: bool, padding_mode: str,\n",
    "                     device=None, dtype=None) -> None:\n",
    "            factory_kwargs = {'device': device, 'dtype': dtype}\n",
    "            super(_ConvNd, self).__init__()\n",
    "            if groups <= 0:\n",
    "                raise ValueError('groups must be a positive integer')\n",
    "            if in_channels % groups != 0:\n",
    "                raise ValueError('in_channels must be divisible by groups')\n",
    "            if out_channels % groups != 0:\n",
    "                raise ValueError('out_channels must be divisible by groups')\n",
    "            valid_padding_strings = {'same', 'valid'}\n",
    "            if isinstance(padding, str):\n",
    "                if padding not in valid_padding_strings:\n",
    "                    raise ValueError(\n",
    "                        \"Invalid padding string {!r}, should be one of {}\".format(\n",
    "                            padding, valid_padding_strings))\n",
    "                if padding == 'same' and any(s != 1 for s in stride):\n",
    "                    raise ValueError(\"padding='same' is not supported for strided convolutions\")\n",
    "\n",
    "            valid_padding_modes = {'zeros', 'reflect', 'replicate', 'circular'}\n",
    "            if padding_mode not in valid_padding_modes:\n",
    "                raise ValueError(\"padding_mode must be one of {}, but got padding_mode='{}'\".format(\n",
    "                    valid_padding_modes, padding_mode))\n",
    "            self.in_channels = in_channels\n",
    "            self.out_channels = out_channels\n",
    "            self.kernel_size = kernel_size\n",
    "            self.stride = stride\n",
    "            self.padding = padding\n",
    "            self.dilation = dilation\n",
    "            self.transposed = transposed\n",
    "            self.output_padding = output_padding\n",
    "            self.groups = groups\n",
    "            self.padding_mode = padding_mode\n",
    "            # `_reversed_padding_repeated_twice` is the padding to be passed to\n",
    "            # `F.pad` if needed (e.g., for non-zero padding types that are\n",
    "            # implemented as two ops: padding + conv). `F.pad` accepts paddings in\n",
    "            # reverse order than the dimension.\n",
    "            if isinstance(self.padding, str):\n",
    "                self._reversed_padding_repeated_twice = [0, 0] * len(kernel_size)\n",
    "                if padding == 'same':\n",
    "                    for d, k, i in zip(dilation, kernel_size,\n",
    "                                      range(len(kernel_size) - 1, -1, -1)):\n",
    "                        total_padding = d * (k - 1)\n",
    "                        left_pad = total_padding // 2\n",
    "                        self._reversed_padding_repeated_twice[2 * i] = left_pad\n",
    "                        self._reversed_padding_repeated_twice[2 * i + 1] = (\n",
    "                            total_padding - left_pad)\n",
    "            else:\n",
    "                self._reversed_padding_repeated_twice = _reverse_repeat_tuple(self.padding, 2)\n",
    "\n",
    "            if transposed:\n",
    "                self.weight = Parameter(torch.empty(\n",
    "                    (in_channels, out_channels // groups, *kernel_size), **factory_kwargs))\n",
    "            else:\n",
    "                self.weight = Parameter(torch.empty(\n",
    "                    (out_channels, in_channels // groups, *kernel_size), **factory_kwargs))\n",
    "            if bias:\n",
    "                self.bias = Parameter(torch.empty(out_channels, **factory_kwargs))\n",
    "            else:\n",
    "                self.register_parameter('bias', None)\n",
    "            self.reset_parameters()\n",
    "\n",
    "        def reset_parameters(self) -> None:\n",
    "            # Setting a=sqrt(5) in kaiming_uniform is the same as initializing with\n",
    "            # uniform(-1/sqrt(k), 1/sqrt(k)), where k = weight.size(1) * prod(*kernel_size)\n",
    "            # For more details see: https://github.com/pytorch/pytorch/issues/15314#issuecomment-477448573\n",
    "            init.kaiming_uniform_(self.weight, a=math.sqrt(5))\n",
    "            if self.bias is not None:\n",
    "                fan_in, _ = init._calculate_fan_in_and_fan_out(self.weight)\n",
    "                if fan_in != 0:\n",
    "                    bound = 1 / math.sqrt(fan_in)\n",
    "                    init.uniform_(self.bias, -bound, bound)\n",
    "\n",
    "        def extra_repr(self):\n",
    "            s = ('{in_channels}, {out_channels}, kernel_size={kernel_size}'\n",
    "                ', stride={stride}')\n",
    "            if self.padding != (0,) * len(self.padding):\n",
    "                s += ', padding={padding}'\n",
    "            if self.dilation != (1,) * len(self.dilation):\n",
    "                s += ', dilation={dilation}'\n",
    "            if self.output_padding != (0,) * len(self.output_padding):\n",
    "                s += ', output_padding={output_padding}'\n",
    "            if self.groups != 1:\n",
    "                s += ', groups={groups}'\n",
    "            if self.bias is None:\n",
    "                s += ', bias=False'\n",
    "            if self.padding_mode != 'zeros':\n",
    "                s += ', padding_mode={padding_mode}'\n",
    "            return s.format(**self.__dict__)\n",
    "\n",
    "        def __setstate__(self, state):\n",
    "            super(_ConvNd, self).__setstate__(state)\n",
    "            if not hasattr(self, 'padding_mode'):\n",
    "                self.padding_mode = 'zeros'"
   ]
  },
  {
   "cell_type": "code",
   "execution_count": 8,
   "metadata": {
    "execution": {
     "iopub.execute_input": "2022-12-04T20:01:49.863979Z",
     "iopub.status.busy": "2022-12-04T20:01:49.862814Z",
     "iopub.status.idle": "2022-12-04T20:01:49.874482Z",
     "shell.execute_reply": "2022-12-04T20:01:49.873061Z",
     "shell.execute_reply.started": "2022-12-04T20:01:49.863921Z"
    }
   },
   "outputs": [],
   "source": [
    "class Conv2d(_ConvNd):\n",
    "    def __init__(self, in_channels: int, out_channels: int, kernel_size: _size_2_t, stride: _size_2_t = 1, padding: Union[str, _size_2_t] = 0,\n",
    "                 dilation: _size_2_t = 1, groups: int = 1, bias: bool = True,padding_mode: str = 'zeros', device=None,dtype=None) -> None:\n",
    "        factory_kwargs = {'device': device, 'dtype': dtype}\n",
    "        kernel_size_ = _pair(kernel_size)\n",
    "        stride_ = _pair(stride)\n",
    "        padding_ = padding if isinstance(padding, str) else _pair(padding)\n",
    "        dilation_ = _pair(dilation)\n",
    "        super(Conv2d, self).__init__(in_channels, out_channels, kernel_size_, stride_, padding_, dilation_,\n",
    "                                     False, _pair(0), groups, bias, padding_mode, **factory_kwargs)\n",
    "\n",
    "    def _conv_forward(self, input: Tensor, weight: Tensor, bias: Optional[Tensor]):\n",
    "        if self.padding_mode != 'zeros':\n",
    "            return F.conv2d(F.pad(input, self._reversed_padding_repeated_twice, mode=self.padding_mode),\n",
    "                                weight, bias, self.stride,\n",
    "                                _pair(0), self.dilation, self.groups)\n",
    "        return F.conv2d(input, weight, bias, self.stride,\n",
    "                            self.padding, self.dilation, self.groups)\n",
    "\n",
    "    def forward(self, input: Tensor) -> Tensor:\n",
    "        return self._conv_forward(input, self.weight, self.bias)"
   ]
  },
  {
   "cell_type": "code",
   "execution_count": 9,
   "metadata": {
    "execution": {
     "iopub.execute_input": "2022-12-04T20:01:50.170180Z",
     "iopub.status.busy": "2022-12-04T20:01:50.169713Z",
     "iopub.status.idle": "2022-12-04T20:01:50.255085Z",
     "shell.execute_reply": "2022-12-04T20:01:50.253876Z",
     "shell.execute_reply.started": "2022-12-04T20:01:50.170150Z"
    }
   },
   "outputs": [
    {
     "name": "stdout",
     "output_type": "stream",
     "text": [
      "torch.Size([2, 32, 30, 30])\n"
     ]
    }
   ],
   "source": [
    "m = Conv2d(3, 32, 3, stride=1)\n",
    "# non-square kernels and unequal stride and with padding\n",
    "\n",
    "input = torch.randn(2, 3, 32, 32)\n",
    "output = m(input)\n",
    "print(output.shape)"
   ]
  },
  {
   "cell_type": "code",
   "execution_count": 10,
   "metadata": {
    "execution": {
     "iopub.execute_input": "2022-12-04T20:01:50.500420Z",
     "iopub.status.busy": "2022-12-04T20:01:50.500101Z",
     "iopub.status.idle": "2022-12-04T20:01:50.511684Z",
     "shell.execute_reply": "2022-12-04T20:01:50.510750Z",
     "shell.execute_reply.started": "2022-12-04T20:01:50.500370Z"
    }
   },
   "outputs": [],
   "source": [
    "class Linear(Module):\n",
    "    __constants__ = ['in_features', 'out_features']\n",
    "    in_features: int\n",
    "    out_features: int\n",
    "    weight: Tensor\n",
    "\n",
    "    def __init__(self, in_features: int, out_features: int, bias: bool = True,\n",
    "                 device=None, dtype=None) -> None:\n",
    "        factory_kwargs = {'device': device, 'dtype': dtype}\n",
    "        super(Linear, self).__init__()\n",
    "        self.in_features = in_features\n",
    "        self.out_features = out_features\n",
    "        self.weight = Parameter(torch.empty((out_features, in_features), **factory_kwargs))\n",
    "        if bias:\n",
    "            self.bias = Parameter(torch.empty(out_features, **factory_kwargs))\n",
    "        else:\n",
    "            self.register_parameter('bias', None)\n",
    "        self.reset_parameters()\n",
    "\n",
    "    def reset_parameters(self) -> None:\n",
    "        # Setting a=sqrt(5) in kaiming_uniform is the same as initializing with\n",
    "        # uniform(-1/sqrt(in_features), 1/sqrt(in_features)). For details, see\n",
    "        # https://github.com/pytorch/pytorch/issues/57109\n",
    "        init.kaiming_uniform_(self.weight, a=math.sqrt(5))\n",
    "        if self.bias is not None:\n",
    "            fan_in, _ = init._calculate_fan_in_and_fan_out(self.weight)\n",
    "            bound = 1 / math.sqrt(fan_in) if fan_in > 0 else 0\n",
    "            init.uniform_(self.bias, -bound, bound)\n",
    "\n",
    "    def forward(self, input: Tensor) -> Tensor:\n",
    "        return F.linear(input, self.weight, self.bias)\n",
    "\n",
    "    def extra_repr(self) -> str:\n",
    "        return 'in_features={}, out_features={}, bias={}'.format(\n",
    "            self.in_features, self.out_features, self.bias is not None\n",
    "        )\n"
   ]
  },
  {
   "cell_type": "code",
   "execution_count": 11,
   "metadata": {
    "execution": {
     "iopub.execute_input": "2022-12-04T20:01:50.871117Z",
     "iopub.status.busy": "2022-12-04T20:01:50.869998Z",
     "iopub.status.idle": "2022-12-04T20:01:50.901492Z",
     "shell.execute_reply": "2022-12-04T20:01:50.900410Z",
     "shell.execute_reply.started": "2022-12-04T20:01:50.871075Z"
    }
   },
   "outputs": [
    {
     "name": "stdout",
     "output_type": "stream",
     "text": [
      "torch.Size([128, 30])\n"
     ]
    }
   ],
   "source": [
    "m = Linear(20, 30)\n",
    "input = torch.randn(128, 20)\n",
    "output = m.forward(input)\n",
    "print(output.size())"
   ]
  },
  {
   "cell_type": "code",
   "execution_count": 12,
   "metadata": {
    "execution": {
     "iopub.execute_input": "2022-12-04T20:01:51.204643Z",
     "iopub.status.busy": "2022-12-04T20:01:51.204110Z",
     "iopub.status.idle": "2022-12-04T20:01:51.217438Z",
     "shell.execute_reply": "2022-12-04T20:01:51.215793Z",
     "shell.execute_reply.started": "2022-12-04T20:01:51.204643Z"
    }
   },
   "outputs": [],
   "source": [
    "class _Loss(Module):\n",
    "    reduction: str\n",
    "\n",
    "    def __init__(self, size_average=None, reduce=None, reduction: str = 'mean') -> None:\n",
    "        super(_Loss, self).__init__()\n",
    "        if size_average is not None or reduce is not None:\n",
    "            self.reduction: str = _Reduction.legacy_get_string(size_average, reduce)\n",
    "        else:\n",
    "            self.reduction = reduction\n",
    "\n",
    "class _WeightedLoss(_Loss):\n",
    "    def __init__(self, weight: Optional[Tensor] = None, size_average=None, reduce=None, reduction: str = 'mean') -> None:\n",
    "        super(_WeightedLoss, self).__init__(size_average, reduce, reduction)\n",
    "        self.register_buffer('weight', weight)\n",
    "        self.weight: Optional[Tensor]\n",
    "\n",
    "class CrossEntropyLoss(_WeightedLoss):\n",
    "    __constants__ = ['ignore_index', 'reduction', 'label_smoothing']\n",
    "    ignore_index: int\n",
    "    label_smoothing: float\n",
    "\n",
    "    def __init__(self, weight: Optional[Tensor] = None, size_average=None, ignore_index: int = -100,\n",
    "                 reduce=None, reduction: str = 'mean', label_smoothing: float = 0.0) -> None:\n",
    "        super(CrossEntropyLoss, self).__init__(weight, size_average, reduce, reduction)\n",
    "        self.ignore_index = ignore_index\n",
    "        self.label_smoothing = label_smoothing\n",
    "\n",
    "    def forward(self, input: Tensor, target: Tensor) -> Tensor:\n",
    "        return F.cross_entropy(input, target, weight=self.weight,\n",
    "                               ignore_index=self.ignore_index, reduction=self.reduction,\n",
    "                               label_smoothing=self.label_smoothing)\n"
   ]
  },
  {
   "cell_type": "code",
   "execution_count": 13,
   "metadata": {
    "execution": {
     "iopub.execute_input": "2022-12-04T20:01:51.458704Z",
     "iopub.status.busy": "2022-12-04T20:01:51.458632Z",
     "iopub.status.idle": "2022-12-04T20:01:51.468626Z",
     "shell.execute_reply": "2022-12-04T20:01:51.467190Z",
     "shell.execute_reply.started": "2022-12-04T20:01:51.458677Z"
    }
   },
   "outputs": [],
   "source": [
    "class _MaxPoolNd(Module):\n",
    "    __constants__ = ['kernel_size', 'stride', 'padding', 'dilation',\n",
    "                     'return_indices', 'ceil_mode']\n",
    "    return_indices: bool\n",
    "    ceil_mode: bool\n",
    "\n",
    "    def __init__(self, kernel_size: _size_any_t, stride: Optional[_size_any_t] = None,\n",
    "                 padding: _size_any_t = 0, dilation: _size_any_t = 1,\n",
    "                 return_indices: bool = False, ceil_mode: bool = False) -> None:\n",
    "        super(_MaxPoolNd, self).__init__()\n",
    "        self.kernel_size = kernel_size\n",
    "        self.stride = stride if (stride is not None) else kernel_size\n",
    "        self.padding = padding\n",
    "        self.dilation = dilation\n",
    "        self.return_indices = return_indices\n",
    "        self.ceil_mode = ceil_mode\n",
    "\n",
    "    def extra_repr(self) -> str:\n",
    "        return 'kernel_size={kernel_size}, stride={stride}, padding={padding}' \\\n",
    "            ', dilation={dilation}, ceil_mode={ceil_mode}'.format(**self.__dict__)\n",
    "\n",
    "class MaxPool2d(_MaxPoolNd):\n",
    "    kernel_size: _size_2_t\n",
    "    stride: _size_2_t\n",
    "    padding: _size_2_t\n",
    "    dilation: _size_2_t\n",
    "\n",
    "    def forward(self, input: Tensor):\n",
    "        return F.max_pool2d(input, self.kernel_size, self.stride,\n",
    "                            self.padding, self.dilation, ceil_mode=self.ceil_mode,\n",
    "                            return_indices=self.return_indices)"
   ]
  },
  {
   "cell_type": "code",
   "execution_count": 14,
   "metadata": {
    "execution": {
     "iopub.execute_input": "2022-12-04T20:01:51.761172Z",
     "iopub.status.busy": "2022-12-04T20:01:51.760765Z",
     "iopub.status.idle": "2022-12-04T20:01:51.769150Z",
     "shell.execute_reply": "2022-12-04T20:01:51.767758Z",
     "shell.execute_reply.started": "2022-12-04T20:01:51.761145Z"
    }
   },
   "outputs": [],
   "source": [
    "class ReLU(Module):\n",
    "    __constants__ = ['inplace']\n",
    "    inplace: bool\n",
    "\n",
    "    def __init__(self, inplace: bool = False):\n",
    "        super(ReLU, self).__init__()\n",
    "        self.inplace = inplace\n",
    "\n",
    "    def forward(self, input: Tensor) -> Tensor:\n",
    "        return F.relu(input, inplace=self.inplace)\n",
    "\n",
    "    def extra_repr(self) -> str:\n",
    "        inplace_str = 'inplace=True' if self.inplace else ''\n",
    "        return inplace_str"
   ]
  },
  {
   "cell_type": "code",
   "execution_count": 15,
   "metadata": {
    "execution": {
     "iopub.execute_input": "2022-12-04T20:01:52.071647Z",
     "iopub.status.busy": "2022-12-04T20:01:52.071250Z",
     "iopub.status.idle": "2022-12-04T20:01:52.089156Z",
     "shell.execute_reply": "2022-12-04T20:01:52.088101Z",
     "shell.execute_reply.started": "2022-12-04T20:01:52.071620Z"
    }
   },
   "outputs": [],
   "source": [
    "class VGG16(Module):\n",
    "\n",
    "    def __init__(self, num_classes=10, shrink=7):\n",
    "        super(VGG16, self).__init__()\n",
    "\n",
    "        self.layer1 = nn.Sequential(\n",
    "            Conv2d(3, 64, kernel_size=3, stride=1, padding=1),\n",
    "            ReLU())\n",
    "        \n",
    "        self.layer2 = nn.Sequential(\n",
    "            Conv2d(64, 64, kernel_size=3, stride=1, padding=1),\n",
    "            ReLU(), \n",
    "            MaxPool2d(kernel_size = 2, stride = 2))\n",
    "        \n",
    "        self.layer3 = nn.Sequential(\n",
    "            Conv2d(64, 128, kernel_size=3, stride=1, padding=1),\n",
    "            ReLU())\n",
    "        self.layer4 = nn.Sequential(\n",
    "            Conv2d(128, 128, kernel_size=3, stride=1, padding=1),\n",
    "            ReLU(),\n",
    "            MaxPool2d(kernel_size = 2, stride = 2))\n",
    "        \n",
    "        self.layer5 = nn.Sequential(\n",
    "            Conv2d(128, 256, kernel_size=3, stride=1, padding=1),\n",
    "            ReLU())\n",
    "        \n",
    "        self.layer6 = nn.Sequential(\n",
    "            Conv2d(256, 256, kernel_size=3, stride=1, padding=1),\n",
    "            ReLU())\n",
    "        \n",
    "        self.layer7 = nn.Sequential(\n",
    "            Conv2d(256, 256, kernel_size=3, stride=1, padding=1),\n",
    "            ReLU(),\n",
    "            MaxPool2d(kernel_size = 2, stride = 2))\n",
    "        \n",
    "        self.layer8 = nn.Sequential(\n",
    "            Conv2d(256, 512, kernel_size=3, stride=1, padding=1),\n",
    "            ReLU())\n",
    "        \n",
    "        self.layer9 = nn.Sequential(\n",
    "            Conv2d(512, 512, kernel_size=3, stride=1, padding=1),\n",
    "            ReLU())\n",
    "        \n",
    "        self.layer10 = nn.Sequential(\n",
    "            Conv2d(512, 512, kernel_size=3, stride=1, padding=1),\n",
    "            ReLU(),\n",
    "            MaxPool2d(kernel_size = 2, stride = 2))\n",
    "        \n",
    "        self.layer11 = nn.Sequential(\n",
    "            Conv2d(512, 512, kernel_size=3, stride=1, padding=1),\n",
    "            ReLU())\n",
    "        \n",
    "        self.layer12 = nn.Sequential(\n",
    "            Conv2d(512, 512, kernel_size=3, stride=1, padding=1),\n",
    "            ReLU())\n",
    "        \n",
    "        self.layer13 = nn.Sequential(\n",
    "            Conv2d(512, 512, kernel_size=3, stride=1, padding=1),\n",
    "            ReLU(),\n",
    "            MaxPool2d(kernel_size = 2, stride = 2))\n",
    "        \n",
    "        self.fc = nn.Sequential(\n",
    "            Linear(shrink*shrink*512, 4096),\n",
    "            ReLU())\n",
    "        \n",
    "        self.fc1 = nn.Sequential(\n",
    "            Linear(4096, 4096),\n",
    "            ReLU())\n",
    "        \n",
    "        self.fc2= nn.Sequential(\n",
    "            Linear(4096, num_classes))\n",
    "        \n",
    "    def forward(self, x):\n",
    "        out = self.layer1.forward(x)\n",
    "        out = self.layer2(out)\n",
    "        out = self.layer3(out)\n",
    "        out = self.layer4(out)\n",
    "        out = self.layer5(out)\n",
    "        out = self.layer6(out)\n",
    "        out = self.layer7(out)\n",
    "        out = self.layer8(out)\n",
    "        out = self.layer9(out)\n",
    "        out = self.layer10(out)\n",
    "        out = self.layer11(out)\n",
    "        out = self.layer12(out)\n",
    "        out = self.layer13(out)\n",
    "        out = out.reshape(out.size(0), -1)\n",
    "        out = self.fc(out)\n",
    "        out = self.fc1(out)\n",
    "        out = self.fc2(out)\n",
    " #       out = F.softmax(out)\n",
    "        return out"
   ]
  },
  {
   "cell_type": "code",
   "execution_count": 16,
   "metadata": {
    "execution": {
     "iopub.execute_input": "2022-12-04T20:01:52.419344Z",
     "iopub.status.busy": "2022-12-04T20:01:52.418570Z",
     "iopub.status.idle": "2022-12-04T20:01:54.363257Z",
     "shell.execute_reply": "2022-12-04T20:01:54.361429Z",
     "shell.execute_reply.started": "2022-12-04T20:01:52.419163Z"
    }
   },
   "outputs": [
    {
     "name": "stdout",
     "output_type": "stream",
     "text": [
      "torch.Size([2, 3, 224, 224])\n",
      "torch.Size([2, 3])\n"
     ]
    }
   ],
   "source": [
    "model = VGG16(num_classes=3,shrink=7)\n",
    "x = torch.randn(2, 3, 224, 224)\n",
    "print(x.shape)\n",
    "out = model(x)\n",
    "print(out.shape)"
   ]
  },
  {
   "cell_type": "code",
   "execution_count": 17,
   "metadata": {
    "execution": {
     "iopub.execute_input": "2022-12-04T20:01:54.365838Z",
     "iopub.status.busy": "2022-12-04T20:01:54.365376Z",
     "iopub.status.idle": "2022-12-04T20:01:55.943206Z",
     "shell.execute_reply": "2022-12-04T20:01:55.941783Z",
     "shell.execute_reply.started": "2022-12-04T20:01:54.365799Z"
    }
   },
   "outputs": [],
   "source": [
    "import torch\n",
    "import matplotlib\n",
    "import matplotlib.pyplot as plt\n",
    "matplotlib.style.use('ggplot')\n",
    "def save_model(epochs, model, optimizer, criterion, dir):\n",
    "    \"\"\"\n",
    "    Function to save the trained model to disk.\n",
    "    \"\"\"\n",
    "    torch.save({\n",
    "                'epoch': epochs,\n",
    "                'model_state_dict': model.state_dict(),\n",
    "                'optimizer_state_dict': optimizer.state_dict(),\n",
    "                'loss': criterion,\n",
    "                }, f\"{dir}/model.pth\")\n",
    "def save_plots(train_acc, valid_acc, train_loss, valid_loss, f1, dir):\n",
    "    \"\"\"\n",
    "    Function to save the loss and accuracy plots to disk.\n",
    "    \"\"\"\n",
    "    # Accuracy plots.\n",
    "    plt.figure(figsize=(10, 7))\n",
    "    plt.plot(\n",
    "        train_acc, color='green', linestyle='-', \n",
    "        label='train accuracy'\n",
    "    )\n",
    "    plt.plot(\n",
    "        valid_acc, color='blue', linestyle='-', \n",
    "        label='validataion accuracy'\n",
    "    )\n",
    "    plt.xlabel('Epochs')\n",
    "    plt.ylabel('Accuracy')\n",
    "    plt.legend()\n",
    "    plt.savefig(f\"{dir}/accuracy.png\")\n",
    "    \n",
    "    # Loss plots.\n",
    "    plt.figure(figsize=(10, 7))\n",
    "    plt.plot(\n",
    "        train_loss, color='orange', linestyle='-', \n",
    "        label='train loss'\n",
    "    )\n",
    "    plt.plot(\n",
    "        valid_loss, color='red', linestyle='-', \n",
    "        label='validataion loss'\n",
    "    )\n",
    "    plt.xlabel('Epochs')\n",
    "    plt.ylabel('Loss')\n",
    "    plt.legend()\n",
    "    plt.savefig(f\"{dir}/loss.png\")\n",
    "\n",
    "    # Accuracy plots.\n",
    "    plt.figure(figsize=(10, 7))\n",
    "    plt.plot(\n",
    "        f1, color='red', linestyle='-', \n",
    "        label='F1'\n",
    "    )\n",
    "\n",
    "    \n",
    "    plt.xlabel('Epochs')\n",
    "    plt.ylabel('F1_macro')\n",
    "    plt.legend()\n",
    "    plt.savefig(f\"{dir}/F1_macro.png\")"
   ]
  },
  {
   "cell_type": "code",
   "execution_count": 18,
   "metadata": {
    "execution": {
     "iopub.execute_input": "2022-12-04T20:01:55.945145Z",
     "iopub.status.busy": "2022-12-04T20:01:55.944703Z",
     "iopub.status.idle": "2022-12-04T20:01:55.954628Z",
     "shell.execute_reply": "2022-12-04T20:01:55.953666Z",
     "shell.execute_reply.started": "2022-12-04T20:01:55.945117Z"
    }
   },
   "outputs": [],
   "source": [
    "def get_train_transform(IMAGE_SIZE):\n",
    "    train_transform = transforms.Compose([\n",
    "        transforms.Resize((IMAGE_SIZE, IMAGE_SIZE)),\n",
    "        transforms.RandomHorizontalFlip(p=0.5),\n",
    "        transforms.RandomRotation(35),\n",
    "        transforms.RandomAdjustSharpness(sharpness_factor=2, p=0.5),\n",
    "        transforms.RandomGrayscale(p=0.5),\n",
    "        transforms.RandomPerspective(distortion_scale=0.5, p=0.5),\n",
    "        transforms.RandomPosterize(bits=2, p=0.5),\n",
    "        transforms.ToTensor(),\n",
    "        transforms.Normalize(\n",
    "            mean=[0.485, 0.456, 0.406],\n",
    "            std=[0.229, 0.224, 0.225]\n",
    "            )\n",
    "    ])\n",
    "    return train_transform\n",
    "# Validation transforms\n",
    "def get_valid_transform(IMAGE_SIZE):\n",
    "    valid_transform = transforms.Compose([\n",
    "        transforms.Resize((IMAGE_SIZE, IMAGE_SIZE)),\n",
    "        transforms.ToTensor(),\n",
    "        transforms.Normalize(\n",
    "            mean=[0.485, 0.456, 0.406],\n",
    "            std=[0.229, 0.224, 0.225]\n",
    "            )\n",
    "    ])\n",
    "    return valid_transform"
   ]
  },
  {
   "cell_type": "code",
   "execution_count": 19,
   "metadata": {
    "execution": {
     "iopub.execute_input": "2022-12-04T20:01:55.957683Z",
     "iopub.status.busy": "2022-12-04T20:01:55.957259Z",
     "iopub.status.idle": "2022-12-04T20:01:55.965260Z",
     "shell.execute_reply": "2022-12-04T20:01:55.964212Z",
     "shell.execute_reply.started": "2022-12-04T20:01:55.957654Z"
    }
   },
   "outputs": [],
   "source": [
    "def get_datasets():\n",
    "    \"\"\"\n",
    "    Function to prepare the Datasets.\n",
    "    Returns the training and validation datasets along \n",
    "    with the class names.\n",
    "    \"\"\"\n",
    "    dataset_train = datasets.ImageFolder(\n",
    "        TRAIN_DIR, \n",
    "        transform=(get_train_transform(IMAGE_SIZE))\n",
    "    )\n",
    "    dataset_valid = datasets.ImageFolder(\n",
    "        VALID_DIR, \n",
    "        transform=(get_valid_transform(IMAGE_SIZE))\n",
    "    )\n",
    "    return dataset_train, dataset_valid, dataset_train.classes\n",
    "def get_data_loaders(dataset_train, dataset_valid):\n",
    "    \"\"\"\n",
    "    Prepares the training and validation data loaders.\n",
    "    :param dataset_train: The training dataset.\n",
    "    :param dataset_valid: The validation dataset.\n",
    "    Returns the training and validation data loaders.\n",
    "    \"\"\"\n",
    "    train_loader = DataLoader(\n",
    "        dataset_train, batch_size=BATCH_SIZE, \n",
    "        shuffle=True, num_workers=NUM_WORKERS\n",
    "    )\n",
    "    valid_loader = DataLoader(\n",
    "        dataset_valid, batch_size=BATCH_SIZE, \n",
    "        shuffle=False, num_workers=NUM_WORKERS\n",
    "    )\n",
    "    return train_loader, valid_loader "
   ]
  },
  {
   "cell_type": "code",
   "execution_count": 21,
   "metadata": {
    "execution": {
     "iopub.execute_input": "2022-12-04T20:01:55.973944Z",
     "iopub.status.busy": "2022-12-04T20:01:55.973586Z",
     "iopub.status.idle": "2022-12-04T20:01:55.986758Z",
     "shell.execute_reply": "2022-12-04T20:01:55.985380Z",
     "shell.execute_reply.started": "2022-12-04T20:01:55.973907Z"
    }
   },
   "outputs": [],
   "source": [
    "def train(model, trainloader, optimizer, criterion):\n",
    "    model.train()\n",
    "    print('Training')\n",
    "    train_running_loss = 0.0\n",
    "    train_running_correct = 0\n",
    "    counter = 0\n",
    "    y_preds, y_true=[], []\n",
    "    for i, data in tqdm(enumerate(trainloader), total=len(trainloader)):\n",
    "        counter += 1\n",
    "        image, labels = data\n",
    "        image = image.to(device)\n",
    "        labels = labels.to(device)\n",
    "        optimizer.zero_grad()\n",
    "        # Forward pass.\n",
    "        outputs = model(image)\n",
    "        # Calculate the loss.\n",
    "     #   print(outputs)\n",
    "        loss = criterion(outputs, labels)\n",
    "        train_running_loss += loss.item()\n",
    "        # Calculate the accuracy.\n",
    "        _, preds = torch.max(outputs.data, 1)\n",
    "      #  print(preds, preds)\n",
    "      #  print(labels, labels.shape)\n",
    "      #  y_preds.extend(preds.cpu())\n",
    "      #  y_true.extend(labels.data.cpu())\n",
    "        \n",
    "        train_running_correct += (preds == labels).sum().item()\n",
    "        # Backpropagation.\n",
    "        loss.backward()\n",
    "        # Update the weights.\n",
    "        optimizer.step()\n",
    "    \n",
    "    # Loss and accuracy for the complete epoch.\n",
    "    epoch_loss = train_running_loss / counter\n",
    "    epoch_acc = 100. * (train_running_correct / len(trainloader.dataset))\n",
    "   # f1 = f1_score(np.array(y_true), np.array(y_preds), average='macro')\n",
    "    return epoch_loss, epoch_acc\n",
    "\n",
    "def validate(model, testloader, criterion, class_names):\n",
    "    model.eval()\n",
    "    print('Validation')\n",
    "    valid_running_loss = 0.0\n",
    "    valid_running_correct = 0\n",
    "    counter = 0\n",
    "    y_preds, y_true = [], []\n",
    "    with torch.no_grad():\n",
    "        for i, data in tqdm(enumerate(testloader), total=len(testloader)):\n",
    "            counter += 1\n",
    "            \n",
    "            image, labels = data\n",
    "            image = image.to(device)\n",
    "            labels = labels.to(device)\n",
    "            # Forward pass.\n",
    "            outputs = model(image)\n",
    "            # Calculate the loss.\n",
    "            loss = criterion(outputs, labels)\n",
    "            valid_running_loss += loss.item()\n",
    "            # Calculate the accuracy.\n",
    "            _, preds = torch.max(outputs.data, 1)\n",
    "            y_preds.extend(preds.cpu())\n",
    "            y_true.extend(labels.data.cpu())\n",
    "            valid_running_correct += (preds == labels).sum().item()\n",
    "            \n",
    "        \n",
    "    # Loss and accuracy for the complete epoch.\n",
    "    epoch_loss = valid_running_loss / counter\n",
    "    epoch_acc = 100. * (valid_running_correct / len(testloader.dataset))\n",
    "    f1 = f1_score(np.array(y_true), np.array(y_preds), average='macro')\n",
    "    return epoch_loss, epoch_acc, f1 "
   ]
  },
  {
   "cell_type": "code",
   "execution_count": 22,
   "metadata": {
    "execution": {
     "iopub.execute_input": "2022-12-04T20:01:57.752594Z",
     "iopub.status.busy": "2022-12-04T20:01:57.751785Z",
     "iopub.status.idle": "2022-12-04T20:01:57.763006Z",
     "shell.execute_reply": "2022-12-04T20:01:57.761639Z",
     "shell.execute_reply.started": "2022-12-04T20:01:57.752594Z"
    }
   },
   "outputs": [],
   "source": [
    "def Train(epochs, model, train_loader, optimizer, criterion, valid_loader, dataset_classes, dir):\n",
    "\n",
    "  # Lists to keep track of losses and accuracies.\n",
    "  train_loss, valid_loss = [], []\n",
    "  train_acc, valid_acc, f1_sp = [], [],[]\n",
    "\n",
    "\n",
    "  for epoch in range(epochs):\n",
    "    print(f\"[INFO]: Epoch {epoch+1} of {epochs}\")\n",
    "\n",
    "    train_epoch_loss, train_epoch_acc = train(model, train_loader,optimizer, criterion)\n",
    "    print(f\"Training loss: {train_epoch_loss:.3f}, training acc: {train_epoch_acc:.3f}\")\n",
    "    valid_epoch_loss, valid_epoch_acc, f1_epoch = validate(model, valid_loader, criterion, dataset_classes)\n",
    "\n",
    "    train_loss.append(train_epoch_loss)\n",
    "    valid_loss.append(valid_epoch_loss)\n",
    "    f1_sp.append(f1_epoch)\n",
    "\n",
    "    train_acc.append(train_epoch_acc)\n",
    "    valid_acc.append(valid_epoch_acc)\n",
    "\n",
    "    \n",
    "    print(f\"Validation loss: {valid_epoch_loss:.3f}, validation acc: {valid_epoch_acc:.3f}\")\n",
    "    print(f\"f1 for epoch: {f1_epoch}\")\n",
    "\n",
    "    print('-'*50)\n",
    "    time.sleep(2)\n",
    "      # Save the trained model weights.\n",
    "  #save_model(epochs, model, optimizer, criterion, dir=dir)\n",
    "      # Save the loss and accuracy plots.\n",
    "  save_plots(train_acc, valid_acc, train_loss, valid_loss, f1_sp, dir=dir)\n",
    "  print('TRAINING COMPLETE')\n",
    "  return train_acc, valid_acc, train_loss, valid_loss, f1_sp, model"
   ]
  },
  {
   "cell_type": "code",
   "execution_count": 25,
   "metadata": {
    "execution": {
     "iopub.execute_input": "2022-12-03T09:44:02.937056Z",
     "iopub.status.busy": "2022-12-03T09:44:02.936271Z",
     "iopub.status.idle": "2022-12-03T09:44:09.376421Z",
     "shell.execute_reply": "2022-12-03T09:44:09.375389Z",
     "shell.execute_reply.started": "2022-12-03T09:44:02.937028Z"
    }
   },
   "outputs": [
    {
     "name": "stderr",
     "output_type": "stream",
     "text": [
      "/usr/local/lib/python3.9/dist-packages/torchvision/models/_utils.py:208: UserWarning: The parameter 'pretrained' is deprecated since 0.13 and will be removed in 0.15, please use 'weights' instead.\n",
      "  warnings.warn(\n",
      "/usr/local/lib/python3.9/dist-packages/torchvision/models/_utils.py:223: UserWarning: Arguments other than a weight enum or `None` for 'weights' are deprecated since 0.13 and will be removed in 0.15. The current behavior is equivalent to passing `weights=VGG16_Weights.IMAGENET1K_V1`. You can also use `weights=VGG16_Weights.DEFAULT` to get the most up-to-date weights.\n",
      "  warnings.warn(msg)\n",
      "Downloading: \"https://download.pytorch.org/models/vgg16-397923af.pth\" to /root/.cache/torch/hub/checkpoints/vgg16-397923af.pth\n"
     ]
    },
    {
     "data": {
      "application/vnd.jupyter.widget-view+json": {
       "model_id": "7819865166d3447cb81bd9c2fc3c9abf",
       "version_major": 2,
       "version_minor": 0
      },
      "text/plain": [
       "  0%|          | 0.00/528M [00:00<?, ?B/s]"
      ]
     },
     "metadata": {},
     "output_type": "display_data"
    }
   ],
   "source": [
    "import torchvision\n",
    "model = torchvision.models.vgg16(pretrained=True)\n",
    "for param in model.parameters():\n",
    "    param.requires_grad = False\n",
    "    \n",
    "\n",
    "# Parameters of newly constructed modules have requires_grad=True by default\n",
    "num_ftrs = model.classifier[-1].in_features\n",
    "model.classifier[-1] = Linear(num_ftrs, 196)\n",
    "model.classifier[-4] = Linear(4096, 4096)\n",
    "model.classifier[-7] = Linear(25088, 4096)"
   ]
  },
  {
   "cell_type": "code",
   "execution_count": 31,
   "metadata": {
    "execution": {
     "iopub.execute_input": "2022-12-01T17:19:22.576913Z",
     "iopub.status.busy": "2022-12-01T17:19:22.575568Z",
     "iopub.status.idle": "2022-12-01T17:19:22.584356Z",
     "shell.execute_reply": "2022-12-01T17:19:22.583275Z",
     "shell.execute_reply.started": "2022-12-01T17:19:22.576869Z"
    }
   },
   "outputs": [
    {
     "data": {
      "text/plain": [
       "<bound method Module.parameters of VGG(\n",
       "  (features): Sequential(\n",
       "    (0): Conv2d(3, 64, kernel_size=(3, 3), stride=(1, 1), padding=(1, 1))\n",
       "    (1): ReLU(inplace=True)\n",
       "    (2): Conv2d(64, 64, kernel_size=(3, 3), stride=(1, 1), padding=(1, 1))\n",
       "    (3): ReLU(inplace=True)\n",
       "    (4): MaxPool2d(kernel_size=2, stride=2, padding=0, dilation=1, ceil_mode=False)\n",
       "    (5): Conv2d(64, 128, kernel_size=(3, 3), stride=(1, 1), padding=(1, 1))\n",
       "    (6): ReLU(inplace=True)\n",
       "    (7): Conv2d(128, 128, kernel_size=(3, 3), stride=(1, 1), padding=(1, 1))\n",
       "    (8): ReLU(inplace=True)\n",
       "    (9): MaxPool2d(kernel_size=2, stride=2, padding=0, dilation=1, ceil_mode=False)\n",
       "    (10): Conv2d(128, 256, kernel_size=(3, 3), stride=(1, 1), padding=(1, 1))\n",
       "    (11): ReLU(inplace=True)\n",
       "    (12): Conv2d(256, 256, kernel_size=(3, 3), stride=(1, 1), padding=(1, 1))\n",
       "    (13): ReLU(inplace=True)\n",
       "    (14): Conv2d(256, 256, kernel_size=(3, 3), stride=(1, 1), padding=(1, 1))\n",
       "    (15): ReLU(inplace=True)\n",
       "    (16): MaxPool2d(kernel_size=2, stride=2, padding=0, dilation=1, ceil_mode=False)\n",
       "    (17): Conv2d(256, 512, kernel_size=(3, 3), stride=(1, 1), padding=(1, 1))\n",
       "    (18): ReLU(inplace=True)\n",
       "    (19): Conv2d(512, 512, kernel_size=(3, 3), stride=(1, 1), padding=(1, 1))\n",
       "    (20): ReLU(inplace=True)\n",
       "    (21): Conv2d(512, 512, kernel_size=(3, 3), stride=(1, 1), padding=(1, 1))\n",
       "    (22): ReLU(inplace=True)\n",
       "    (23): MaxPool2d(kernel_size=2, stride=2, padding=0, dilation=1, ceil_mode=False)\n",
       "    (24): Conv2d(512, 512, kernel_size=(3, 3), stride=(1, 1), padding=(1, 1))\n",
       "    (25): ReLU(inplace=True)\n",
       "    (26): Conv2d(512, 512, kernel_size=(3, 3), stride=(1, 1), padding=(1, 1))\n",
       "    (27): ReLU(inplace=True)\n",
       "    (28): Conv2d(512, 512, kernel_size=(3, 3), stride=(1, 1), padding=(1, 1))\n",
       "    (29): ReLU(inplace=True)\n",
       "    (30): MaxPool2d(kernel_size=2, stride=2, padding=0, dilation=1, ceil_mode=False)\n",
       "  )\n",
       "  (avgpool): AdaptiveAvgPool2d(output_size=(7, 7))\n",
       "  (classifier): Sequential(\n",
       "    (0): Linear(in_features=25088, out_features=4096, bias=True)\n",
       "    (1): ReLU(inplace=True)\n",
       "    (2): Dropout(p=0.5, inplace=False)\n",
       "    (3): Linear(in_features=4096, out_features=4096, bias=True)\n",
       "    (4): ReLU(inplace=True)\n",
       "    (5): Dropout(p=0.5, inplace=False)\n",
       "    (6): Linear(in_features=4096, out_features=196, bias=True)\n",
       "  )\n",
       ")>"
      ]
     },
     "execution_count": 31,
     "metadata": {},
     "output_type": "execute_result"
    }
   ],
   "source": [
    "model.parameters"
   ]
  },
  {
   "cell_type": "code",
   "execution_count": 32,
   "metadata": {
    "execution": {
     "iopub.execute_input": "2022-12-01T17:19:22.586508Z",
     "iopub.status.busy": "2022-12-01T17:19:22.585694Z",
     "iopub.status.idle": "2022-12-01T17:19:22.835836Z",
     "shell.execute_reply": "2022-12-01T17:19:22.835102Z",
     "shell.execute_reply.started": "2022-12-01T17:19:22.586467Z"
    }
   },
   "outputs": [
    {
     "name": "stdout",
     "output_type": "stream",
     "text": [
      "[INFO]: Number of training images: 8144\n",
      "[INFO]: Number of validation images: 8041\n",
      "Computation device: cuda\n",
      "Learning rate: 0.0001\n",
      "Epochs to train for: 50\n",
      "\n",
      "135,063,556 total parameters.\n",
      "120,348,868 training parameters.\n"
     ]
    }
   ],
   "source": [
    "# Required constants.\n",
    "TRAIN_DIR = '/notebooks/cars_train/cars_train'\n",
    "VALID_DIR = '/notebooks/cars_test/cars_test/'\n",
    "IMAGE_SIZE = 224 # Image size of resize when applying transforms.\n",
    "BATCH_SIZE = 64\n",
    "NUM_WORKERS = 2\n",
    "\n",
    "dataset_train, dataset_valid, dataset_classes = get_datasets()\n",
    "print(f\"[INFO]: Number of training images: {len(dataset_train)}\")\n",
    "print(f\"[INFO]: Number of validation images: {len(dataset_valid)}\")\n",
    "        # Load the training and validation data loaders.\n",
    "train_loader, valid_loader = get_data_loaders(dataset_train, dataset_valid)\n",
    "        # Learning_parameters. \n",
    "lr = 0.0001\n",
    "epochs = 50\n",
    "device = ('cuda' if torch.cuda.is_available() else 'cpu')\n",
    "print(f\"Computation device: {device}\")\n",
    "print(f\"Learning rate: {lr}\")\n",
    "print(f\"Epochs to train for: {epochs}\\n\")\n",
    "\n",
    "total_params = sum(p.numel() for p in model.parameters())\n",
    "print(f\"{total_params:,} total parameters.\")\n",
    "total_trainable_params = sum(p.numel() for p in model.parameters() if p.requires_grad)\n",
    "print(f\"{total_trainable_params:,} training parameters.\")\n",
    "# Optimizer.\n",
    "optimizer = optim.Adam(model.parameters(), lr=lr)\n",
    "# Loss function.\n",
    "criterion = CrossEntropyLoss()\n",
    "\n",
    "\n",
    "model = model.to(device)"
   ]
  },
  {
   "cell_type": "code",
   "execution_count": 33,
   "metadata": {
    "execution": {
     "iopub.execute_input": "2022-12-01T17:19:24.098140Z",
     "iopub.status.busy": "2022-12-01T17:19:24.097510Z",
     "iopub.status.idle": "2022-12-01T17:19:24.267796Z",
     "shell.execute_reply": "2022-12-01T17:19:24.266578Z",
     "shell.execute_reply.started": "2022-12-01T17:19:24.098108Z"
    }
   },
   "outputs": [],
   "source": [
    "import gc\n",
    "gc.collect()\n",
    "torch.cuda.empty_cache()"
   ]
  },
  {
   "cell_type": "code",
   "execution_count": 34,
   "metadata": {
    "execution": {
     "iopub.execute_input": "2022-12-01T17:19:26.610610Z",
     "iopub.status.busy": "2022-12-01T17:19:26.609977Z",
     "iopub.status.idle": "2022-12-01T19:32:10.484036Z",
     "shell.execute_reply": "2022-12-01T19:32:10.483046Z",
     "shell.execute_reply.started": "2022-12-01T17:19:26.610581Z"
    }
   },
   "outputs": [
    {
     "name": "stdout",
     "output_type": "stream",
     "text": [
      "[INFO]: Epoch 1 of 50\n",
      "Training\n"
     ]
    },
    {
     "data": {
      "application/vnd.jupyter.widget-view+json": {
       "model_id": "0747a0ce67574991a5374fdf651e6efb",
       "version_major": 2,
       "version_minor": 0
      },
      "text/plain": [
       "  0%|          | 0/128 [00:00<?, ?it/s]"
      ]
     },
     "metadata": {},
     "output_type": "display_data"
    },
    {
     "name": "stdout",
     "output_type": "stream",
     "text": [
      "Validation\n"
     ]
    },
    {
     "data": {
      "application/vnd.jupyter.widget-view+json": {
       "model_id": "d04ff26cd9c64d409e715aa3e00b3009",
       "version_major": 2,
       "version_minor": 0
      },
      "text/plain": [
       "  0%|          | 0/126 [00:00<?, ?it/s]"
      ]
     },
     "metadata": {},
     "output_type": "display_data"
    },
    {
     "name": "stdout",
     "output_type": "stream",
     "text": [
      "Training loss: 5.344, training acc: 0.688\n",
      "Validation loss: 5.183, validation acc: 1.592\n",
      "f1 for epoch: 0.0036844142518291582\n",
      "--------------------------------------------------\n",
      "[INFO]: Epoch 2 of 50\n",
      "Training\n"
     ]
    },
    {
     "data": {
      "application/vnd.jupyter.widget-view+json": {
       "model_id": "e0f4ff6c03bd4920be4c6b35a85432ed",
       "version_major": 2,
       "version_minor": 0
      },
      "text/plain": [
       "  0%|          | 0/128 [00:00<?, ?it/s]"
      ]
     },
     "metadata": {},
     "output_type": "display_data"
    },
    {
     "name": "stdout",
     "output_type": "stream",
     "text": [
      "Validation\n"
     ]
    },
    {
     "data": {
      "application/vnd.jupyter.widget-view+json": {
       "model_id": "b41fbeb9292a4677888f45d22387f480",
       "version_major": 2,
       "version_minor": 0
      },
      "text/plain": [
       "  0%|          | 0/126 [00:00<?, ?it/s]"
      ]
     },
     "metadata": {},
     "output_type": "display_data"
    },
    {
     "name": "stdout",
     "output_type": "stream",
     "text": [
      "Training loss: 5.199, training acc: 1.412\n",
      "Validation loss: 4.865, validation acc: 2.786\n",
      "f1 for epoch: 0.007992637796086971\n",
      "--------------------------------------------------\n",
      "[INFO]: Epoch 3 of 50\n",
      "Training\n"
     ]
    },
    {
     "data": {
      "application/vnd.jupyter.widget-view+json": {
       "model_id": "20c56f71aed64067860c79bc28206b27",
       "version_major": 2,
       "version_minor": 0
      },
      "text/plain": [
       "  0%|          | 0/128 [00:00<?, ?it/s]"
      ]
     },
     "metadata": {},
     "output_type": "display_data"
    },
    {
     "name": "stdout",
     "output_type": "stream",
     "text": [
      "Validation\n"
     ]
    },
    {
     "data": {
      "application/vnd.jupyter.widget-view+json": {
       "model_id": "beae1c0bc681481d8710d46b8e5303dd",
       "version_major": 2,
       "version_minor": 0
      },
      "text/plain": [
       "  0%|          | 0/126 [00:00<?, ?it/s]"
      ]
     },
     "metadata": {},
     "output_type": "display_data"
    },
    {
     "name": "stdout",
     "output_type": "stream",
     "text": [
      "Training loss: 4.994, training acc: 2.161\n",
      "Validation loss: 4.582, validation acc: 3.843\n",
      "f1 for epoch: 0.016660299882131826\n",
      "--------------------------------------------------\n",
      "[INFO]: Epoch 4 of 50\n",
      "Training\n"
     ]
    },
    {
     "data": {
      "application/vnd.jupyter.widget-view+json": {
       "model_id": "a603cc4547b64d1983199bb6774ef3f3",
       "version_major": 2,
       "version_minor": 0
      },
      "text/plain": [
       "  0%|          | 0/128 [00:00<?, ?it/s]"
      ]
     },
     "metadata": {},
     "output_type": "display_data"
    },
    {
     "name": "stdout",
     "output_type": "stream",
     "text": [
      "Validation\n"
     ]
    },
    {
     "data": {
      "application/vnd.jupyter.widget-view+json": {
       "model_id": "d7399b6d5da34841a8cdb81d950cd36f",
       "version_major": 2,
       "version_minor": 0
      },
      "text/plain": [
       "  0%|          | 0/126 [00:00<?, ?it/s]"
      ]
     },
     "metadata": {},
     "output_type": "display_data"
    },
    {
     "name": "stdout",
     "output_type": "stream",
     "text": [
      "Training loss: 4.820, training acc: 2.947\n",
      "Validation loss: 4.333, validation acc: 5.870\n",
      "f1 for epoch: 0.029391344839333172\n",
      "--------------------------------------------------\n",
      "[INFO]: Epoch 5 of 50\n",
      "Training\n"
     ]
    },
    {
     "data": {
      "application/vnd.jupyter.widget-view+json": {
       "model_id": "50279ffecd6d4f4f8633aa7549fba6d8",
       "version_major": 2,
       "version_minor": 0
      },
      "text/plain": [
       "  0%|          | 0/128 [00:00<?, ?it/s]"
      ]
     },
     "metadata": {},
     "output_type": "display_data"
    },
    {
     "name": "stdout",
     "output_type": "stream",
     "text": [
      "Validation\n"
     ]
    },
    {
     "data": {
      "application/vnd.jupyter.widget-view+json": {
       "model_id": "ea53dc6a13b24c90a1ca453ccbfd80f0",
       "version_major": 2,
       "version_minor": 0
      },
      "text/plain": [
       "  0%|          | 0/126 [00:00<?, ?it/s]"
      ]
     },
     "metadata": {},
     "output_type": "display_data"
    },
    {
     "name": "stdout",
     "output_type": "stream",
     "text": [
      "Training loss: 4.642, training acc: 4.408\n",
      "Validation loss: 4.128, validation acc: 8.245\n",
      "f1 for epoch: 0.04714506109180612\n",
      "--------------------------------------------------\n",
      "[INFO]: Epoch 6 of 50\n",
      "Training\n"
     ]
    },
    {
     "data": {
      "application/vnd.jupyter.widget-view+json": {
       "model_id": "5d9803ca7d2f4fa2bc1b48d004680e37",
       "version_major": 2,
       "version_minor": 0
      },
      "text/plain": [
       "  0%|          | 0/128 [00:00<?, ?it/s]"
      ]
     },
     "metadata": {},
     "output_type": "display_data"
    },
    {
     "name": "stdout",
     "output_type": "stream",
     "text": [
      "Validation\n"
     ]
    },
    {
     "data": {
      "application/vnd.jupyter.widget-view+json": {
       "model_id": "7f067d7ef0fa4646ba07ae40b991fada",
       "version_major": 2,
       "version_minor": 0
      },
      "text/plain": [
       "  0%|          | 0/126 [00:00<?, ?it/s]"
      ]
     },
     "metadata": {},
     "output_type": "display_data"
    },
    {
     "name": "stdout",
     "output_type": "stream",
     "text": [
      "Training loss: 4.496, training acc: 5.648\n",
      "Validation loss: 3.953, validation acc: 10.372\n",
      "f1 for epoch: 0.06850366302873785\n",
      "--------------------------------------------------\n",
      "[INFO]: Epoch 7 of 50\n",
      "Training\n"
     ]
    },
    {
     "data": {
      "application/vnd.jupyter.widget-view+json": {
       "model_id": "bfd981d897824e9a818bd294c5a3d627",
       "version_major": 2,
       "version_minor": 0
      },
      "text/plain": [
       "  0%|          | 0/128 [00:00<?, ?it/s]"
      ]
     },
     "metadata": {},
     "output_type": "display_data"
    },
    {
     "name": "stdout",
     "output_type": "stream",
     "text": [
      "Validation\n"
     ]
    },
    {
     "data": {
      "application/vnd.jupyter.widget-view+json": {
       "model_id": "a06e916b548a4850845eb8cc7cc9ca91",
       "version_major": 2,
       "version_minor": 0
      },
      "text/plain": [
       "  0%|          | 0/126 [00:00<?, ?it/s]"
      ]
     },
     "metadata": {},
     "output_type": "display_data"
    },
    {
     "name": "stdout",
     "output_type": "stream",
     "text": [
      "Training loss: 4.364, training acc: 6.373\n",
      "Validation loss: 3.766, validation acc: 12.088\n",
      "f1 for epoch: 0.09075251350769994\n",
      "--------------------------------------------------\n",
      "[INFO]: Epoch 8 of 50\n",
      "Training\n"
     ]
    },
    {
     "data": {
      "application/vnd.jupyter.widget-view+json": {
       "model_id": "8c12c73f670c448ab3bd6da9552d74d2",
       "version_major": 2,
       "version_minor": 0
      },
      "text/plain": [
       "  0%|          | 0/128 [00:00<?, ?it/s]"
      ]
     },
     "metadata": {},
     "output_type": "display_data"
    },
    {
     "name": "stdout",
     "output_type": "stream",
     "text": [
      "Validation\n"
     ]
    },
    {
     "data": {
      "application/vnd.jupyter.widget-view+json": {
       "model_id": "ef292dc6afa84d60bbbbd0c95ebd986a",
       "version_major": 2,
       "version_minor": 0
      },
      "text/plain": [
       "  0%|          | 0/126 [00:00<?, ?it/s]"
      ]
     },
     "metadata": {},
     "output_type": "display_data"
    },
    {
     "name": "stdout",
     "output_type": "stream",
     "text": [
      "Training loss: 4.240, training acc: 8.239\n",
      "Validation loss: 3.629, validation acc: 12.971\n",
      "f1 for epoch: 0.1001113933169846\n",
      "--------------------------------------------------\n",
      "[INFO]: Epoch 9 of 50\n",
      "Training\n"
     ]
    },
    {
     "data": {
      "application/vnd.jupyter.widget-view+json": {
       "model_id": "8aed973eb30a439a9bbf34737bc6e5ef",
       "version_major": 2,
       "version_minor": 0
      },
      "text/plain": [
       "  0%|          | 0/128 [00:00<?, ?it/s]"
      ]
     },
     "metadata": {},
     "output_type": "display_data"
    },
    {
     "name": "stdout",
     "output_type": "stream",
     "text": [
      "Validation\n"
     ]
    },
    {
     "data": {
      "application/vnd.jupyter.widget-view+json": {
       "model_id": "1e65ac7f098e4a1a8e687c7d3fd01600",
       "version_major": 2,
       "version_minor": 0
      },
      "text/plain": [
       "  0%|          | 0/126 [00:00<?, ?it/s]"
      ]
     },
     "metadata": {},
     "output_type": "display_data"
    },
    {
     "name": "stdout",
     "output_type": "stream",
     "text": [
      "Training loss: 4.138, training acc: 9.369\n",
      "Validation loss: 3.508, validation acc: 15.831\n",
      "f1 for epoch: 0.12399762505717835\n",
      "--------------------------------------------------\n",
      "[INFO]: Epoch 10 of 50\n",
      "Training\n"
     ]
    },
    {
     "data": {
      "application/vnd.jupyter.widget-view+json": {
       "model_id": "de951271b74340cfa5af280a1ee3d584",
       "version_major": 2,
       "version_minor": 0
      },
      "text/plain": [
       "  0%|          | 0/128 [00:00<?, ?it/s]"
      ]
     },
     "metadata": {},
     "output_type": "display_data"
    },
    {
     "name": "stdout",
     "output_type": "stream",
     "text": [
      "Validation\n"
     ]
    },
    {
     "data": {
      "application/vnd.jupyter.widget-view+json": {
       "model_id": "a44cd6ee2a4742279731a36a2932732e",
       "version_major": 2,
       "version_minor": 0
      },
      "text/plain": [
       "  0%|          | 0/126 [00:00<?, ?it/s]"
      ]
     },
     "metadata": {},
     "output_type": "display_data"
    },
    {
     "name": "stdout",
     "output_type": "stream",
     "text": [
      "Training loss: 4.079, training acc: 10.118\n",
      "Validation loss: 3.393, validation acc: 17.647\n",
      "f1 for epoch: 0.14840552063294465\n",
      "--------------------------------------------------\n",
      "[INFO]: Epoch 11 of 50\n",
      "Training\n"
     ]
    },
    {
     "data": {
      "application/vnd.jupyter.widget-view+json": {
       "model_id": "d9d4f29b9c36499388c9f74629c99f45",
       "version_major": 2,
       "version_minor": 0
      },
      "text/plain": [
       "  0%|          | 0/128 [00:00<?, ?it/s]"
      ]
     },
     "metadata": {},
     "output_type": "display_data"
    },
    {
     "name": "stdout",
     "output_type": "stream",
     "text": [
      "Validation\n"
     ]
    },
    {
     "data": {
      "application/vnd.jupyter.widget-view+json": {
       "model_id": "09299d30b3904e2089c119d6449b47de",
       "version_major": 2,
       "version_minor": 0
      },
      "text/plain": [
       "  0%|          | 0/126 [00:00<?, ?it/s]"
      ]
     },
     "metadata": {},
     "output_type": "display_data"
    },
    {
     "name": "stdout",
     "output_type": "stream",
     "text": [
      "Training loss: 3.978, training acc: 12.340\n",
      "Validation loss: 3.318, validation acc: 19.251\n",
      "f1 for epoch: 0.1606249657165024\n",
      "--------------------------------------------------\n",
      "[INFO]: Epoch 12 of 50\n",
      "Training\n"
     ]
    },
    {
     "data": {
      "application/vnd.jupyter.widget-view+json": {
       "model_id": "6242caef67864111a187413df30f9347",
       "version_major": 2,
       "version_minor": 0
      },
      "text/plain": [
       "  0%|          | 0/128 [00:00<?, ?it/s]"
      ]
     },
     "metadata": {},
     "output_type": "display_data"
    },
    {
     "name": "stdout",
     "output_type": "stream",
     "text": [
      "Validation\n"
     ]
    },
    {
     "data": {
      "application/vnd.jupyter.widget-view+json": {
       "model_id": "a4ad67eee5f046dcb265e8b12896b093",
       "version_major": 2,
       "version_minor": 0
      },
      "text/plain": [
       "  0%|          | 0/126 [00:00<?, ?it/s]"
      ]
     },
     "metadata": {},
     "output_type": "display_data"
    },
    {
     "name": "stdout",
     "output_type": "stream",
     "text": [
      "Training loss: 3.923, training acc: 12.623\n",
      "Validation loss: 3.235, validation acc: 20.744\n",
      "f1 for epoch: 0.1811951505299659\n",
      "--------------------------------------------------\n",
      "[INFO]: Epoch 13 of 50\n",
      "Training\n"
     ]
    },
    {
     "data": {
      "application/vnd.jupyter.widget-view+json": {
       "model_id": "daa287b305e2450eac196747196eb281",
       "version_major": 2,
       "version_minor": 0
      },
      "text/plain": [
       "  0%|          | 0/128 [00:00<?, ?it/s]"
      ]
     },
     "metadata": {},
     "output_type": "display_data"
    },
    {
     "name": "stdout",
     "output_type": "stream",
     "text": [
      "Validation\n"
     ]
    },
    {
     "data": {
      "application/vnd.jupyter.widget-view+json": {
       "model_id": "d6362d6e2fc945ebb1a416301db5ce91",
       "version_major": 2,
       "version_minor": 0
      },
      "text/plain": [
       "  0%|          | 0/126 [00:00<?, ?it/s]"
      ]
     },
     "metadata": {},
     "output_type": "display_data"
    },
    {
     "name": "stdout",
     "output_type": "stream",
     "text": [
      "Training loss: 3.857, training acc: 13.777\n",
      "Validation loss: 3.207, validation acc: 20.371\n",
      "f1 for epoch: 0.17663136520949754\n",
      "--------------------------------------------------\n",
      "[INFO]: Epoch 14 of 50\n",
      "Training\n"
     ]
    },
    {
     "data": {
      "application/vnd.jupyter.widget-view+json": {
       "model_id": "4bfc9e17425d40ce969d1b3355126853",
       "version_major": 2,
       "version_minor": 0
      },
      "text/plain": [
       "  0%|          | 0/128 [00:00<?, ?it/s]"
      ]
     },
     "metadata": {},
     "output_type": "display_data"
    },
    {
     "name": "stdout",
     "output_type": "stream",
     "text": [
      "Validation\n"
     ]
    },
    {
     "data": {
      "application/vnd.jupyter.widget-view+json": {
       "model_id": "59652395b67d440caecea85711bf5c6e",
       "version_major": 2,
       "version_minor": 0
      },
      "text/plain": [
       "  0%|          | 0/126 [00:00<?, ?it/s]"
      ]
     },
     "metadata": {},
     "output_type": "display_data"
    },
    {
     "name": "stdout",
     "output_type": "stream",
     "text": [
      "Training loss: 3.804, training acc: 14.452\n",
      "Validation loss: 3.123, validation acc: 22.758\n",
      "f1 for epoch: 0.20158571124544147\n",
      "--------------------------------------------------\n",
      "[INFO]: Epoch 15 of 50\n",
      "Training\n"
     ]
    },
    {
     "data": {
      "application/vnd.jupyter.widget-view+json": {
       "model_id": "b22234d23de442f3b39b87fc8b6d7061",
       "version_major": 2,
       "version_minor": 0
      },
      "text/plain": [
       "  0%|          | 0/128 [00:00<?, ?it/s]"
      ]
     },
     "metadata": {},
     "output_type": "display_data"
    },
    {
     "name": "stdout",
     "output_type": "stream",
     "text": [
      "Validation\n"
     ]
    },
    {
     "data": {
      "application/vnd.jupyter.widget-view+json": {
       "model_id": "971cb7ee7d334897a2cfeeaa6a4f4e20",
       "version_major": 2,
       "version_minor": 0
      },
      "text/plain": [
       "  0%|          | 0/126 [00:00<?, ?it/s]"
      ]
     },
     "metadata": {},
     "output_type": "display_data"
    },
    {
     "name": "stdout",
     "output_type": "stream",
     "text": [
      "Training loss: 3.721, training acc: 15.336\n",
      "Validation loss: 3.072, validation acc: 23.716\n",
      "f1 for epoch: 0.20873106683329926\n",
      "--------------------------------------------------\n",
      "[INFO]: Epoch 16 of 50\n",
      "Training\n"
     ]
    },
    {
     "data": {
      "application/vnd.jupyter.widget-view+json": {
       "model_id": "a43bc4b723714409974ab14bf209491f",
       "version_major": 2,
       "version_minor": 0
      },
      "text/plain": [
       "  0%|          | 0/128 [00:00<?, ?it/s]"
      ]
     },
     "metadata": {},
     "output_type": "display_data"
    },
    {
     "name": "stdout",
     "output_type": "stream",
     "text": [
      "Validation\n"
     ]
    },
    {
     "data": {
      "application/vnd.jupyter.widget-view+json": {
       "model_id": "5ab013a3981e4d3499c425660e0f30b2",
       "version_major": 2,
       "version_minor": 0
      },
      "text/plain": [
       "  0%|          | 0/126 [00:00<?, ?it/s]"
      ]
     },
     "metadata": {},
     "output_type": "display_data"
    },
    {
     "name": "stdout",
     "output_type": "stream",
     "text": [
      "Training loss: 3.672, training acc: 16.442\n",
      "Validation loss: 3.011, validation acc: 24.624\n",
      "f1 for epoch: 0.22672008143797925\n",
      "--------------------------------------------------\n",
      "[INFO]: Epoch 17 of 50\n",
      "Training\n"
     ]
    },
    {
     "data": {
      "application/vnd.jupyter.widget-view+json": {
       "model_id": "24b250d8ce614b9995555eb65d32dc1b",
       "version_major": 2,
       "version_minor": 0
      },
      "text/plain": [
       "  0%|          | 0/128 [00:00<?, ?it/s]"
      ]
     },
     "metadata": {},
     "output_type": "display_data"
    },
    {
     "name": "stdout",
     "output_type": "stream",
     "text": [
      "Validation\n"
     ]
    },
    {
     "data": {
      "application/vnd.jupyter.widget-view+json": {
       "model_id": "a6149257de0c4d2ebfce2598bf7f0a42",
       "version_major": 2,
       "version_minor": 0
      },
      "text/plain": [
       "  0%|          | 0/126 [00:00<?, ?it/s]"
      ]
     },
     "metadata": {},
     "output_type": "display_data"
    },
    {
     "name": "stdout",
     "output_type": "stream",
     "text": [
      "Training loss: 3.624, training acc: 17.805\n",
      "Validation loss: 2.999, validation acc: 23.965\n",
      "f1 for epoch: 0.21375888499561257\n",
      "--------------------------------------------------\n",
      "[INFO]: Epoch 18 of 50\n",
      "Training\n"
     ]
    },
    {
     "data": {
      "application/vnd.jupyter.widget-view+json": {
       "model_id": "619dd15ea98d4105b78f816462134e65",
       "version_major": 2,
       "version_minor": 0
      },
      "text/plain": [
       "  0%|          | 0/128 [00:00<?, ?it/s]"
      ]
     },
     "metadata": {},
     "output_type": "display_data"
    },
    {
     "name": "stdout",
     "output_type": "stream",
     "text": [
      "Validation\n"
     ]
    },
    {
     "data": {
      "application/vnd.jupyter.widget-view+json": {
       "model_id": "2a162950d91c43bbb072147107851352",
       "version_major": 2,
       "version_minor": 0
      },
      "text/plain": [
       "  0%|          | 0/126 [00:00<?, ?it/s]"
      ]
     },
     "metadata": {},
     "output_type": "display_data"
    },
    {
     "name": "stdout",
     "output_type": "stream",
     "text": [
      "Training loss: 3.575, training acc: 17.596\n",
      "Validation loss: 3.011, validation acc: 23.853\n",
      "f1 for epoch: 0.2144265449451234\n",
      "--------------------------------------------------\n",
      "[INFO]: Epoch 19 of 50\n",
      "Training\n"
     ]
    },
    {
     "data": {
      "application/vnd.jupyter.widget-view+json": {
       "model_id": "7f2083ce0bce4a1086798d2b3837548c",
       "version_major": 2,
       "version_minor": 0
      },
      "text/plain": [
       "  0%|          | 0/128 [00:00<?, ?it/s]"
      ]
     },
     "metadata": {},
     "output_type": "display_data"
    },
    {
     "name": "stdout",
     "output_type": "stream",
     "text": [
      "Validation\n"
     ]
    },
    {
     "data": {
      "application/vnd.jupyter.widget-view+json": {
       "model_id": "b20b74a83afd4fec9df208d2194f702f",
       "version_major": 2,
       "version_minor": 0
      },
      "text/plain": [
       "  0%|          | 0/126 [00:00<?, ?it/s]"
      ]
     },
     "metadata": {},
     "output_type": "display_data"
    },
    {
     "name": "stdout",
     "output_type": "stream",
     "text": [
      "Training loss: 3.526, training acc: 18.492\n",
      "Validation loss: 2.887, validation acc: 26.701\n",
      "f1 for epoch: 0.2436338308010322\n",
      "--------------------------------------------------\n",
      "[INFO]: Epoch 20 of 50\n",
      "Training\n"
     ]
    },
    {
     "data": {
      "application/vnd.jupyter.widget-view+json": {
       "model_id": "4bb294ddc3f64fbd8d5cfe551eb2e7b8",
       "version_major": 2,
       "version_minor": 0
      },
      "text/plain": [
       "  0%|          | 0/128 [00:00<?, ?it/s]"
      ]
     },
     "metadata": {},
     "output_type": "display_data"
    },
    {
     "name": "stdout",
     "output_type": "stream",
     "text": [
      "Validation\n"
     ]
    },
    {
     "data": {
      "application/vnd.jupyter.widget-view+json": {
       "model_id": "2242ce9183494a8aa76aa848a2452cbb",
       "version_major": 2,
       "version_minor": 0
      },
      "text/plain": [
       "  0%|          | 0/126 [00:00<?, ?it/s]"
      ]
     },
     "metadata": {},
     "output_type": "display_data"
    },
    {
     "name": "stdout",
     "output_type": "stream",
     "text": [
      "Training loss: 3.484, training acc: 19.229\n",
      "Validation loss: 2.851, validation acc: 27.596\n",
      "f1 for epoch: 0.2548226100127859\n",
      "--------------------------------------------------\n",
      "[INFO]: Epoch 21 of 50\n",
      "Training\n"
     ]
    },
    {
     "data": {
      "application/vnd.jupyter.widget-view+json": {
       "model_id": "02426916cde44852b0d8a7fbbeee1582",
       "version_major": 2,
       "version_minor": 0
      },
      "text/plain": [
       "  0%|          | 0/128 [00:00<?, ?it/s]"
      ]
     },
     "metadata": {},
     "output_type": "display_data"
    },
    {
     "name": "stdout",
     "output_type": "stream",
     "text": [
      "Validation\n"
     ]
    },
    {
     "data": {
      "application/vnd.jupyter.widget-view+json": {
       "model_id": "a58111b2602c4062928fe6faf06e1f7e",
       "version_major": 2,
       "version_minor": 0
      },
      "text/plain": [
       "  0%|          | 0/126 [00:00<?, ?it/s]"
      ]
     },
     "metadata": {},
     "output_type": "display_data"
    },
    {
     "name": "stdout",
     "output_type": "stream",
     "text": [
      "Training loss: 3.455, training acc: 19.389\n",
      "Validation loss: 2.823, validation acc: 28.317\n",
      "f1 for epoch: 0.26456961284308345\n",
      "--------------------------------------------------\n",
      "[INFO]: Epoch 22 of 50\n",
      "Training\n"
     ]
    },
    {
     "data": {
      "application/vnd.jupyter.widget-view+json": {
       "model_id": "3dad816e51ce43d99f198337d988ecb3",
       "version_major": 2,
       "version_minor": 0
      },
      "text/plain": [
       "  0%|          | 0/128 [00:00<?, ?it/s]"
      ]
     },
     "metadata": {},
     "output_type": "display_data"
    },
    {
     "name": "stdout",
     "output_type": "stream",
     "text": [
      "Validation\n"
     ]
    },
    {
     "data": {
      "application/vnd.jupyter.widget-view+json": {
       "model_id": "d3cf75ce074e42af9f8a17dddd49f92d",
       "version_major": 2,
       "version_minor": 0
      },
      "text/plain": [
       "  0%|          | 0/126 [00:00<?, ?it/s]"
      ]
     },
     "metadata": {},
     "output_type": "display_data"
    },
    {
     "name": "stdout",
     "output_type": "stream",
     "text": [
      "Training loss: 3.390, training acc: 20.813\n",
      "Validation loss: 2.765, validation acc: 29.350\n",
      "f1 for epoch: 0.27188394680415606\n",
      "--------------------------------------------------\n",
      "[INFO]: Epoch 23 of 50\n",
      "Training\n"
     ]
    },
    {
     "data": {
      "application/vnd.jupyter.widget-view+json": {
       "model_id": "386707e21b924bd9badb034e8359a726",
       "version_major": 2,
       "version_minor": 0
      },
      "text/plain": [
       "  0%|          | 0/128 [00:00<?, ?it/s]"
      ]
     },
     "metadata": {},
     "output_type": "display_data"
    },
    {
     "name": "stdout",
     "output_type": "stream",
     "text": [
      "Validation\n"
     ]
    },
    {
     "data": {
      "application/vnd.jupyter.widget-view+json": {
       "model_id": "7563fb78b6fb4fb19a308efce96c2915",
       "version_major": 2,
       "version_minor": 0
      },
      "text/plain": [
       "  0%|          | 0/126 [00:00<?, ?it/s]"
      ]
     },
     "metadata": {},
     "output_type": "display_data"
    },
    {
     "name": "stdout",
     "output_type": "stream",
     "text": [
      "Training loss: 3.348, training acc: 21.451\n",
      "Validation loss: 2.787, validation acc: 28.902\n",
      "f1 for epoch: 0.26427949464176076\n",
      "--------------------------------------------------\n",
      "[INFO]: Epoch 24 of 50\n",
      "Training\n"
     ]
    },
    {
     "data": {
      "application/vnd.jupyter.widget-view+json": {
       "model_id": "e8736c28406f4a7ca6ed419aec89c5df",
       "version_major": 2,
       "version_minor": 0
      },
      "text/plain": [
       "  0%|          | 0/128 [00:00<?, ?it/s]"
      ]
     },
     "metadata": {},
     "output_type": "display_data"
    },
    {
     "name": "stdout",
     "output_type": "stream",
     "text": [
      "Validation\n"
     ]
    },
    {
     "data": {
      "application/vnd.jupyter.widget-view+json": {
       "model_id": "65aacb9a0d144935abbf266e31649df1",
       "version_major": 2,
       "version_minor": 0
      },
      "text/plain": [
       "  0%|          | 0/126 [00:00<?, ?it/s]"
      ]
     },
     "metadata": {},
     "output_type": "display_data"
    },
    {
     "name": "stdout",
     "output_type": "stream",
     "text": [
      "Training loss: 3.285, training acc: 22.704\n",
      "Validation loss: 2.725, validation acc: 30.817\n",
      "f1 for epoch: 0.285936388654361\n",
      "--------------------------------------------------\n",
      "[INFO]: Epoch 25 of 50\n",
      "Training\n"
     ]
    },
    {
     "data": {
      "application/vnd.jupyter.widget-view+json": {
       "model_id": "a4982840a8164933b167e8e34109431b",
       "version_major": 2,
       "version_minor": 0
      },
      "text/plain": [
       "  0%|          | 0/128 [00:00<?, ?it/s]"
      ]
     },
     "metadata": {},
     "output_type": "display_data"
    },
    {
     "name": "stdout",
     "output_type": "stream",
     "text": [
      "Validation\n"
     ]
    },
    {
     "data": {
      "application/vnd.jupyter.widget-view+json": {
       "model_id": "24557b7437334b90853d5d984541dcaa",
       "version_major": 2,
       "version_minor": 0
      },
      "text/plain": [
       "  0%|          | 0/126 [00:00<?, ?it/s]"
      ]
     },
     "metadata": {},
     "output_type": "display_data"
    },
    {
     "name": "stdout",
     "output_type": "stream",
     "text": [
      "Training loss: 3.278, training acc: 23.183\n",
      "Validation loss: 2.702, validation acc: 30.543\n",
      "f1 for epoch: 0.2855061499302392\n",
      "--------------------------------------------------\n",
      "[INFO]: Epoch 26 of 50\n",
      "Training\n"
     ]
    },
    {
     "data": {
      "application/vnd.jupyter.widget-view+json": {
       "model_id": "e98e4d3e622049758fa8addab40c65fe",
       "version_major": 2,
       "version_minor": 0
      },
      "text/plain": [
       "  0%|          | 0/128 [00:00<?, ?it/s]"
      ]
     },
     "metadata": {},
     "output_type": "display_data"
    },
    {
     "name": "stdout",
     "output_type": "stream",
     "text": [
      "Validation\n"
     ]
    },
    {
     "data": {
      "application/vnd.jupyter.widget-view+json": {
       "model_id": "2c2182604b704bd487b794e4b6f467e3",
       "version_major": 2,
       "version_minor": 0
      },
      "text/plain": [
       "  0%|          | 0/126 [00:00<?, ?it/s]"
      ]
     },
     "metadata": {},
     "output_type": "display_data"
    },
    {
     "name": "stdout",
     "output_type": "stream",
     "text": [
      "Training loss: 3.226, training acc: 23.060\n",
      "Validation loss: 2.721, validation acc: 30.257\n",
      "f1 for epoch: 0.2850246140082094\n",
      "--------------------------------------------------\n",
      "[INFO]: Epoch 27 of 50\n",
      "Training\n"
     ]
    },
    {
     "data": {
      "application/vnd.jupyter.widget-view+json": {
       "model_id": "429b75bdac604244911df5248a6957e6",
       "version_major": 2,
       "version_minor": 0
      },
      "text/plain": [
       "  0%|          | 0/128 [00:00<?, ?it/s]"
      ]
     },
     "metadata": {},
     "output_type": "display_data"
    },
    {
     "name": "stdout",
     "output_type": "stream",
     "text": [
      "Validation\n"
     ]
    },
    {
     "data": {
      "application/vnd.jupyter.widget-view+json": {
       "model_id": "42391eb266074b5a8aafa667d07b38d9",
       "version_major": 2,
       "version_minor": 0
      },
      "text/plain": [
       "  0%|          | 0/126 [00:00<?, ?it/s]"
      ]
     },
     "metadata": {},
     "output_type": "display_data"
    },
    {
     "name": "stdout",
     "output_type": "stream",
     "text": [
      "Training loss: 3.231, training acc: 23.772\n",
      "Validation loss: 2.615, validation acc: 32.484\n",
      "f1 for epoch: 0.3100201425552031\n",
      "--------------------------------------------------\n",
      "[INFO]: Epoch 28 of 50\n",
      "Training\n"
     ]
    },
    {
     "data": {
      "application/vnd.jupyter.widget-view+json": {
       "model_id": "745bcd1c6dd4419fa3fcd46de5c8eef0",
       "version_major": 2,
       "version_minor": 0
      },
      "text/plain": [
       "  0%|          | 0/128 [00:00<?, ?it/s]"
      ]
     },
     "metadata": {},
     "output_type": "display_data"
    },
    {
     "name": "stdout",
     "output_type": "stream",
     "text": [
      "Validation\n"
     ]
    },
    {
     "data": {
      "application/vnd.jupyter.widget-view+json": {
       "model_id": "3e8a9590ae274363857ac99ff52e2aa4",
       "version_major": 2,
       "version_minor": 0
      },
      "text/plain": [
       "  0%|          | 0/126 [00:00<?, ?it/s]"
      ]
     },
     "metadata": {},
     "output_type": "display_data"
    },
    {
     "name": "stdout",
     "output_type": "stream",
     "text": [
      "Training loss: 3.193, training acc: 23.907\n",
      "Validation loss: 2.654, validation acc: 31.750\n",
      "f1 for epoch: 0.3023789764070685\n",
      "--------------------------------------------------\n",
      "[INFO]: Epoch 29 of 50\n",
      "Training\n"
     ]
    },
    {
     "data": {
      "application/vnd.jupyter.widget-view+json": {
       "model_id": "e54b6a5747a245218c41e16fb07aae91",
       "version_major": 2,
       "version_minor": 0
      },
      "text/plain": [
       "  0%|          | 0/128 [00:00<?, ?it/s]"
      ]
     },
     "metadata": {},
     "output_type": "display_data"
    },
    {
     "name": "stdout",
     "output_type": "stream",
     "text": [
      "Validation\n"
     ]
    },
    {
     "data": {
      "application/vnd.jupyter.widget-view+json": {
       "model_id": "c7a05eb3da53494d9d4bf6b992fecbb8",
       "version_major": 2,
       "version_minor": 0
      },
      "text/plain": [
       "  0%|          | 0/126 [00:00<?, ?it/s]"
      ]
     },
     "metadata": {},
     "output_type": "display_data"
    },
    {
     "name": "stdout",
     "output_type": "stream",
     "text": [
      "Training loss: 3.114, training acc: 26.130\n",
      "Validation loss: 2.585, validation acc: 33.006\n",
      "f1 for epoch: 0.3183524685934062\n",
      "--------------------------------------------------\n",
      "[INFO]: Epoch 30 of 50\n",
      "Training\n"
     ]
    },
    {
     "data": {
      "application/vnd.jupyter.widget-view+json": {
       "model_id": "0ea739941cfb452e9920d7008c5c5d45",
       "version_major": 2,
       "version_minor": 0
      },
      "text/plain": [
       "  0%|          | 0/128 [00:00<?, ?it/s]"
      ]
     },
     "metadata": {},
     "output_type": "display_data"
    },
    {
     "name": "stdout",
     "output_type": "stream",
     "text": [
      "Validation\n"
     ]
    },
    {
     "data": {
      "application/vnd.jupyter.widget-view+json": {
       "model_id": "8e429b8a6941440398b6d49249c3f164",
       "version_major": 2,
       "version_minor": 0
      },
      "text/plain": [
       "  0%|          | 0/126 [00:00<?, ?it/s]"
      ]
     },
     "metadata": {},
     "output_type": "display_data"
    },
    {
     "name": "stdout",
     "output_type": "stream",
     "text": [
      "Training loss: 3.118, training acc: 25.368\n",
      "Validation loss: 2.583, validation acc: 33.080\n",
      "f1 for epoch: 0.3202991224254412\n",
      "--------------------------------------------------\n",
      "[INFO]: Epoch 31 of 50\n",
      "Training\n"
     ]
    },
    {
     "data": {
      "application/vnd.jupyter.widget-view+json": {
       "model_id": "112207095f484dbe97d4c84e20f301c0",
       "version_major": 2,
       "version_minor": 0
      },
      "text/plain": [
       "  0%|          | 0/128 [00:00<?, ?it/s]"
      ]
     },
     "metadata": {},
     "output_type": "display_data"
    },
    {
     "name": "stdout",
     "output_type": "stream",
     "text": [
      "Validation\n"
     ]
    },
    {
     "data": {
      "application/vnd.jupyter.widget-view+json": {
       "model_id": "2638683aabba4862af68d019629c383d",
       "version_major": 2,
       "version_minor": 0
      },
      "text/plain": [
       "  0%|          | 0/126 [00:00<?, ?it/s]"
      ]
     },
     "metadata": {},
     "output_type": "display_data"
    },
    {
     "name": "stdout",
     "output_type": "stream",
     "text": [
      "Training loss: 3.081, training acc: 26.609\n",
      "Validation loss: 2.600, validation acc: 33.155\n",
      "f1 for epoch: 0.3212497314279206\n",
      "--------------------------------------------------\n",
      "[INFO]: Epoch 32 of 50\n",
      "Training\n"
     ]
    },
    {
     "data": {
      "application/vnd.jupyter.widget-view+json": {
       "model_id": "3c9797d489c54b34a3aa729246c064c1",
       "version_major": 2,
       "version_minor": 0
      },
      "text/plain": [
       "  0%|          | 0/128 [00:00<?, ?it/s]"
      ]
     },
     "metadata": {},
     "output_type": "display_data"
    },
    {
     "name": "stdout",
     "output_type": "stream",
     "text": [
      "Validation\n"
     ]
    },
    {
     "data": {
      "application/vnd.jupyter.widget-view+json": {
       "model_id": "ffc03616fa70465e8fab90c9ec8aae72",
       "version_major": 2,
       "version_minor": 0
      },
      "text/plain": [
       "  0%|          | 0/126 [00:00<?, ?it/s]"
      ]
     },
     "metadata": {},
     "output_type": "display_data"
    },
    {
     "name": "stdout",
     "output_type": "stream",
     "text": [
      "Training loss: 3.060, training acc: 27.529\n",
      "Validation loss: 2.570, validation acc: 33.379\n",
      "f1 for epoch: 0.32125931949866415\n",
      "--------------------------------------------------\n",
      "[INFO]: Epoch 33 of 50\n",
      "Training\n"
     ]
    },
    {
     "data": {
      "application/vnd.jupyter.widget-view+json": {
       "model_id": "1833cca5cb2841d6a6588f7f07fa61cf",
       "version_major": 2,
       "version_minor": 0
      },
      "text/plain": [
       "  0%|          | 0/128 [00:00<?, ?it/s]"
      ]
     },
     "metadata": {},
     "output_type": "display_data"
    },
    {
     "name": "stdout",
     "output_type": "stream",
     "text": [
      "Validation\n"
     ]
    },
    {
     "data": {
      "application/vnd.jupyter.widget-view+json": {
       "model_id": "292d155277794ef6bcd00c33dbf834a9",
       "version_major": 2,
       "version_minor": 0
      },
      "text/plain": [
       "  0%|          | 0/126 [00:00<?, ?it/s]"
      ]
     },
     "metadata": {},
     "output_type": "display_data"
    },
    {
     "name": "stdout",
     "output_type": "stream",
     "text": [
      "Training loss: 3.042, training acc: 27.824\n",
      "Validation loss: 2.580, validation acc: 32.944\n",
      "f1 for epoch: 0.31678565911336637\n",
      "--------------------------------------------------\n",
      "[INFO]: Epoch 34 of 50\n",
      "Training\n"
     ]
    },
    {
     "data": {
      "application/vnd.jupyter.widget-view+json": {
       "model_id": "ad96fab7b9784eea96c4da5eaffe4500",
       "version_major": 2,
       "version_minor": 0
      },
      "text/plain": [
       "  0%|          | 0/128 [00:00<?, ?it/s]"
      ]
     },
     "metadata": {},
     "output_type": "display_data"
    },
    {
     "name": "stdout",
     "output_type": "stream",
     "text": [
      "Validation\n"
     ]
    },
    {
     "data": {
      "application/vnd.jupyter.widget-view+json": {
       "model_id": "fd8d8c7b0e2544a9905f36205798a81c",
       "version_major": 2,
       "version_minor": 0
      },
      "text/plain": [
       "  0%|          | 0/126 [00:00<?, ?it/s]"
      ]
     },
     "metadata": {},
     "output_type": "display_data"
    },
    {
     "name": "stdout",
     "output_type": "stream",
     "text": [
      "Training loss: 3.005, training acc: 27.873\n",
      "Validation loss: 2.620, validation acc: 32.235\n",
      "f1 for epoch: 0.3049361120344023\n",
      "--------------------------------------------------\n",
      "[INFO]: Epoch 35 of 50\n",
      "Training\n"
     ]
    },
    {
     "data": {
      "application/vnd.jupyter.widget-view+json": {
       "model_id": "350ff162d3e94fc9ad51ffd35b11d807",
       "version_major": 2,
       "version_minor": 0
      },
      "text/plain": [
       "  0%|          | 0/128 [00:00<?, ?it/s]"
      ]
     },
     "metadata": {},
     "output_type": "display_data"
    },
    {
     "name": "stdout",
     "output_type": "stream",
     "text": [
      "Validation\n"
     ]
    },
    {
     "data": {
      "application/vnd.jupyter.widget-view+json": {
       "model_id": "d6b693674560495081cb447613276ad8",
       "version_major": 2,
       "version_minor": 0
      },
      "text/plain": [
       "  0%|          | 0/126 [00:00<?, ?it/s]"
      ]
     },
     "metadata": {},
     "output_type": "display_data"
    },
    {
     "name": "stdout",
     "output_type": "stream",
     "text": [
      "Training loss: 2.956, training acc: 28.782\n",
      "Validation loss: 2.552, validation acc: 34.337\n",
      "f1 for epoch: 0.33187429159462506\n",
      "--------------------------------------------------\n",
      "[INFO]: Epoch 36 of 50\n",
      "Training\n"
     ]
    },
    {
     "data": {
      "application/vnd.jupyter.widget-view+json": {
       "model_id": "2bc5bfbc42374d5185f16c1f218be98c",
       "version_major": 2,
       "version_minor": 0
      },
      "text/plain": [
       "  0%|          | 0/128 [00:00<?, ?it/s]"
      ]
     },
     "metadata": {},
     "output_type": "display_data"
    },
    {
     "name": "stdout",
     "output_type": "stream",
     "text": [
      "Validation\n"
     ]
    },
    {
     "data": {
      "application/vnd.jupyter.widget-view+json": {
       "model_id": "48200f564fb24bf89969d42aa133c286",
       "version_major": 2,
       "version_minor": 0
      },
      "text/plain": [
       "  0%|          | 0/126 [00:00<?, ?it/s]"
      ]
     },
     "metadata": {},
     "output_type": "display_data"
    },
    {
     "name": "stdout",
     "output_type": "stream",
     "text": [
      "Training loss: 2.948, training acc: 29.371\n",
      "Validation loss: 2.602, validation acc: 33.292\n",
      "f1 for epoch: 0.3192797796807206\n",
      "--------------------------------------------------\n",
      "[INFO]: Epoch 37 of 50\n",
      "Training\n"
     ]
    },
    {
     "data": {
      "application/vnd.jupyter.widget-view+json": {
       "model_id": "484d27fa9f424e79915f5878c60e3c58",
       "version_major": 2,
       "version_minor": 0
      },
      "text/plain": [
       "  0%|          | 0/128 [00:00<?, ?it/s]"
      ]
     },
     "metadata": {},
     "output_type": "display_data"
    },
    {
     "name": "stdout",
     "output_type": "stream",
     "text": [
      "Validation\n"
     ]
    },
    {
     "data": {
      "application/vnd.jupyter.widget-view+json": {
       "model_id": "e9cf10f8aa5c427cb66f9fa69af1ebf5",
       "version_major": 2,
       "version_minor": 0
      },
      "text/plain": [
       "  0%|          | 0/126 [00:00<?, ?it/s]"
      ]
     },
     "metadata": {},
     "output_type": "display_data"
    },
    {
     "name": "stdout",
     "output_type": "stream",
     "text": [
      "Training loss: 2.914, training acc: 29.727\n",
      "Validation loss: 2.533, validation acc: 34.424\n",
      "f1 for epoch: 0.3311427700680554\n",
      "--------------------------------------------------\n",
      "[INFO]: Epoch 38 of 50\n",
      "Training\n"
     ]
    },
    {
     "data": {
      "application/vnd.jupyter.widget-view+json": {
       "model_id": "c718c8734c04492f8eac527e8f9f8bcd",
       "version_major": 2,
       "version_minor": 0
      },
      "text/plain": [
       "  0%|          | 0/128 [00:00<?, ?it/s]"
      ]
     },
     "metadata": {},
     "output_type": "display_data"
    },
    {
     "name": "stdout",
     "output_type": "stream",
     "text": [
      "Validation\n"
     ]
    },
    {
     "data": {
      "application/vnd.jupyter.widget-view+json": {
       "model_id": "a9b43811b3da47a38f606c6e92ccacda",
       "version_major": 2,
       "version_minor": 0
      },
      "text/plain": [
       "  0%|          | 0/126 [00:00<?, ?it/s]"
      ]
     },
     "metadata": {},
     "output_type": "display_data"
    },
    {
     "name": "stdout",
     "output_type": "stream",
     "text": [
      "Training loss: 2.896, training acc: 30.034\n",
      "Validation loss: 2.469, validation acc: 35.729\n",
      "f1 for epoch: 0.34220866218360496\n",
      "--------------------------------------------------\n",
      "[INFO]: Epoch 39 of 50\n",
      "Training\n"
     ]
    },
    {
     "data": {
      "application/vnd.jupyter.widget-view+json": {
       "model_id": "37803c08ad384973ad3f48338cd36a3a",
       "version_major": 2,
       "version_minor": 0
      },
      "text/plain": [
       "  0%|          | 0/128 [00:00<?, ?it/s]"
      ]
     },
     "metadata": {},
     "output_type": "display_data"
    },
    {
     "name": "stdout",
     "output_type": "stream",
     "text": [
      "Validation\n"
     ]
    },
    {
     "data": {
      "application/vnd.jupyter.widget-view+json": {
       "model_id": "80cef88003f34fc4bb517cf028035762",
       "version_major": 2,
       "version_minor": 0
      },
      "text/plain": [
       "  0%|          | 0/126 [00:00<?, ?it/s]"
      ]
     },
     "metadata": {},
     "output_type": "display_data"
    },
    {
     "name": "stdout",
     "output_type": "stream",
     "text": [
      "Training loss: 2.870, training acc: 31.066\n",
      "Validation loss: 2.495, validation acc: 35.978\n",
      "f1 for epoch: 0.350463371994959\n",
      "--------------------------------------------------\n",
      "[INFO]: Epoch 40 of 50\n",
      "Training\n"
     ]
    },
    {
     "data": {
      "application/vnd.jupyter.widget-view+json": {
       "model_id": "616f193ff9af4a49952d51bf5b60a56e",
       "version_major": 2,
       "version_minor": 0
      },
      "text/plain": [
       "  0%|          | 0/128 [00:00<?, ?it/s]"
      ]
     },
     "metadata": {},
     "output_type": "display_data"
    },
    {
     "name": "stdout",
     "output_type": "stream",
     "text": [
      "Validation\n"
     ]
    },
    {
     "data": {
      "application/vnd.jupyter.widget-view+json": {
       "model_id": "61c79c671cd14233bcb2a286ae96001a",
       "version_major": 2,
       "version_minor": 0
      },
      "text/plain": [
       "  0%|          | 0/126 [00:00<?, ?it/s]"
      ]
     },
     "metadata": {},
     "output_type": "display_data"
    },
    {
     "name": "stdout",
     "output_type": "stream",
     "text": [
      "Training loss: 2.839, training acc: 30.661\n",
      "Validation loss: 2.450, validation acc: 36.824\n",
      "f1 for epoch: 0.35883084698663686\n",
      "--------------------------------------------------\n",
      "[INFO]: Epoch 41 of 50\n",
      "Training\n"
     ]
    },
    {
     "data": {
      "application/vnd.jupyter.widget-view+json": {
       "model_id": "f5842d4d378847b184670a6c1758a233",
       "version_major": 2,
       "version_minor": 0
      },
      "text/plain": [
       "  0%|          | 0/128 [00:00<?, ?it/s]"
      ]
     },
     "metadata": {},
     "output_type": "display_data"
    },
    {
     "name": "stdout",
     "output_type": "stream",
     "text": [
      "Validation\n"
     ]
    },
    {
     "data": {
      "application/vnd.jupyter.widget-view+json": {
       "model_id": "ca5fc2cf710b46a58767b31a03a33f19",
       "version_major": 2,
       "version_minor": 0
      },
      "text/plain": [
       "  0%|          | 0/126 [00:00<?, ?it/s]"
      ]
     },
     "metadata": {},
     "output_type": "display_data"
    },
    {
     "name": "stdout",
     "output_type": "stream",
     "text": [
      "Training loss: 2.794, training acc: 32.048\n",
      "Validation loss: 2.440, validation acc: 36.463\n",
      "f1 for epoch: 0.35555729914917245\n",
      "--------------------------------------------------\n",
      "[INFO]: Epoch 42 of 50\n",
      "Training\n"
     ]
    },
    {
     "data": {
      "application/vnd.jupyter.widget-view+json": {
       "model_id": "3bb0f98764fa417597a78a5b7e0f2d3b",
       "version_major": 2,
       "version_minor": 0
      },
      "text/plain": [
       "  0%|          | 0/128 [00:00<?, ?it/s]"
      ]
     },
     "metadata": {},
     "output_type": "display_data"
    },
    {
     "name": "stdout",
     "output_type": "stream",
     "text": [
      "Validation\n"
     ]
    },
    {
     "data": {
      "application/vnd.jupyter.widget-view+json": {
       "model_id": "f939e13e78514b6981a03fbddb7a969f",
       "version_major": 2,
       "version_minor": 0
      },
      "text/plain": [
       "  0%|          | 0/126 [00:00<?, ?it/s]"
      ]
     },
     "metadata": {},
     "output_type": "display_data"
    },
    {
     "name": "stdout",
     "output_type": "stream",
     "text": [
      "Training loss: 2.827, training acc: 31.680\n",
      "Validation loss: 2.450, validation acc: 36.165\n",
      "f1 for epoch: 0.3546647137212949\n",
      "--------------------------------------------------\n",
      "[INFO]: Epoch 43 of 50\n",
      "Training\n"
     ]
    },
    {
     "data": {
      "application/vnd.jupyter.widget-view+json": {
       "model_id": "c5cc90549b884a3da4665568fb469c7f",
       "version_major": 2,
       "version_minor": 0
      },
      "text/plain": [
       "  0%|          | 0/128 [00:00<?, ?it/s]"
      ]
     },
     "metadata": {},
     "output_type": "display_data"
    },
    {
     "name": "stdout",
     "output_type": "stream",
     "text": [
      "Validation\n"
     ]
    },
    {
     "data": {
      "application/vnd.jupyter.widget-view+json": {
       "model_id": "89919d4b9d83491eaee4b2700c1abe68",
       "version_major": 2,
       "version_minor": 0
      },
      "text/plain": [
       "  0%|          | 0/126 [00:00<?, ?it/s]"
      ]
     },
     "metadata": {},
     "output_type": "display_data"
    },
    {
     "name": "stdout",
     "output_type": "stream",
     "text": [
      "Training loss: 2.781, training acc: 32.785\n",
      "Validation loss: 2.478, validation acc: 35.692\n",
      "f1 for epoch: 0.34229711968721727\n",
      "--------------------------------------------------\n",
      "[INFO]: Epoch 44 of 50\n",
      "Training\n"
     ]
    },
    {
     "data": {
      "application/vnd.jupyter.widget-view+json": {
       "model_id": "1bca55b5e5dd4b3680d4ae8e7fa9af1d",
       "version_major": 2,
       "version_minor": 0
      },
      "text/plain": [
       "  0%|          | 0/128 [00:00<?, ?it/s]"
      ]
     },
     "metadata": {},
     "output_type": "display_data"
    },
    {
     "name": "stdout",
     "output_type": "stream",
     "text": [
      "Validation\n"
     ]
    },
    {
     "data": {
      "application/vnd.jupyter.widget-view+json": {
       "model_id": "ee6f64bcf4fc4f9389c768a999bfb337",
       "version_major": 2,
       "version_minor": 0
      },
      "text/plain": [
       "  0%|          | 0/126 [00:00<?, ?it/s]"
      ]
     },
     "metadata": {},
     "output_type": "display_data"
    },
    {
     "name": "stdout",
     "output_type": "stream",
     "text": [
      "Training loss: 2.775, training acc: 32.367\n",
      "Validation loss: 2.453, validation acc: 37.023\n",
      "f1 for epoch: 0.35952000553102464\n",
      "--------------------------------------------------\n",
      "[INFO]: Epoch 45 of 50\n",
      "Training\n"
     ]
    },
    {
     "data": {
      "application/vnd.jupyter.widget-view+json": {
       "model_id": "a154e627eaad4995a8fb72c03bd65211",
       "version_major": 2,
       "version_minor": 0
      },
      "text/plain": [
       "  0%|          | 0/128 [00:00<?, ?it/s]"
      ]
     },
     "metadata": {},
     "output_type": "display_data"
    },
    {
     "name": "stdout",
     "output_type": "stream",
     "text": [
      "Validation\n"
     ]
    },
    {
     "data": {
      "application/vnd.jupyter.widget-view+json": {
       "model_id": "15d3acc6c5344fbc8f25e29ccb546ad7",
       "version_major": 2,
       "version_minor": 0
      },
      "text/plain": [
       "  0%|          | 0/126 [00:00<?, ?it/s]"
      ]
     },
     "metadata": {},
     "output_type": "display_data"
    },
    {
     "name": "stdout",
     "output_type": "stream",
     "text": [
      "Training loss: 2.752, training acc: 32.466\n",
      "Validation loss: 2.404, validation acc: 36.824\n",
      "f1 for epoch: 0.3557628287931666\n",
      "--------------------------------------------------\n",
      "[INFO]: Epoch 46 of 50\n",
      "Training\n"
     ]
    },
    {
     "data": {
      "application/vnd.jupyter.widget-view+json": {
       "model_id": "f34801891a8e4330871e93b62359b7b8",
       "version_major": 2,
       "version_minor": 0
      },
      "text/plain": [
       "  0%|          | 0/128 [00:00<?, ?it/s]"
      ]
     },
     "metadata": {},
     "output_type": "display_data"
    },
    {
     "name": "stdout",
     "output_type": "stream",
     "text": [
      "Validation\n"
     ]
    },
    {
     "data": {
      "application/vnd.jupyter.widget-view+json": {
       "model_id": "ba241631772c4058a8b529f0031284ba",
       "version_major": 2,
       "version_minor": 0
      },
      "text/plain": [
       "  0%|          | 0/126 [00:00<?, ?it/s]"
      ]
     },
     "metadata": {},
     "output_type": "display_data"
    },
    {
     "name": "stdout",
     "output_type": "stream",
     "text": [
      "Training loss: 2.732, training acc: 33.374\n",
      "Validation loss: 2.404, validation acc: 37.545\n",
      "f1 for epoch: 0.3617739205173253\n",
      "--------------------------------------------------\n",
      "[INFO]: Epoch 47 of 50\n",
      "Training\n"
     ]
    },
    {
     "data": {
      "application/vnd.jupyter.widget-view+json": {
       "model_id": "2556adf31bb04e0c8b0f10ec6db455aa",
       "version_major": 2,
       "version_minor": 0
      },
      "text/plain": [
       "  0%|          | 0/128 [00:00<?, ?it/s]"
      ]
     },
     "metadata": {},
     "output_type": "display_data"
    },
    {
     "name": "stdout",
     "output_type": "stream",
     "text": [
      "Validation\n"
     ]
    },
    {
     "data": {
      "application/vnd.jupyter.widget-view+json": {
       "model_id": "cca734c213a54a43a0e5ba0505af7681",
       "version_major": 2,
       "version_minor": 0
      },
      "text/plain": [
       "  0%|          | 0/126 [00:00<?, ?it/s]"
      ]
     },
     "metadata": {},
     "output_type": "display_data"
    },
    {
     "name": "stdout",
     "output_type": "stream",
     "text": [
      "Training loss: 2.726, training acc: 33.190\n",
      "Validation loss: 2.409, validation acc: 37.545\n",
      "f1 for epoch: 0.36741247320814835\n",
      "--------------------------------------------------\n",
      "[INFO]: Epoch 48 of 50\n",
      "Training\n"
     ]
    },
    {
     "data": {
      "application/vnd.jupyter.widget-view+json": {
       "model_id": "d9850b2a5af147a48c99eb373c2c80fc",
       "version_major": 2,
       "version_minor": 0
      },
      "text/plain": [
       "  0%|          | 0/128 [00:00<?, ?it/s]"
      ]
     },
     "metadata": {},
     "output_type": "display_data"
    },
    {
     "name": "stdout",
     "output_type": "stream",
     "text": [
      "Validation\n"
     ]
    },
    {
     "data": {
      "application/vnd.jupyter.widget-view+json": {
       "model_id": "87a099b3a3f141569e7713a2e637cb80",
       "version_major": 2,
       "version_minor": 0
      },
      "text/plain": [
       "  0%|          | 0/126 [00:00<?, ?it/s]"
      ]
     },
     "metadata": {},
     "output_type": "display_data"
    },
    {
     "name": "stdout",
     "output_type": "stream",
     "text": [
      "Training loss: 2.679, training acc: 34.381\n",
      "Validation loss: 2.396, validation acc: 37.483\n",
      "f1 for epoch: 0.3675893558057277\n",
      "--------------------------------------------------\n",
      "[INFO]: Epoch 49 of 50\n",
      "Training\n"
     ]
    },
    {
     "data": {
      "application/vnd.jupyter.widget-view+json": {
       "model_id": "85ffadf31f3b44c6b22daa4ad036e08e",
       "version_major": 2,
       "version_minor": 0
      },
      "text/plain": [
       "  0%|          | 0/128 [00:00<?, ?it/s]"
      ]
     },
     "metadata": {},
     "output_type": "display_data"
    },
    {
     "name": "stdout",
     "output_type": "stream",
     "text": [
      "Validation\n"
     ]
    },
    {
     "data": {
      "application/vnd.jupyter.widget-view+json": {
       "model_id": "4d0f9d8b00564966a5196a2124b6e173",
       "version_major": 2,
       "version_minor": 0
      },
      "text/plain": [
       "  0%|          | 0/126 [00:00<?, ?it/s]"
      ]
     },
     "metadata": {},
     "output_type": "display_data"
    },
    {
     "name": "stdout",
     "output_type": "stream",
     "text": [
      "Training loss: 2.633, training acc: 35.044\n",
      "Validation loss: 2.383, validation acc: 37.707\n",
      "f1 for epoch: 0.36659819275552\n",
      "--------------------------------------------------\n",
      "[INFO]: Epoch 50 of 50\n",
      "Training\n"
     ]
    },
    {
     "data": {
      "application/vnd.jupyter.widget-view+json": {
       "model_id": "6e1aeef5e66e495ca2001af7a1b200bf",
       "version_major": 2,
       "version_minor": 0
      },
      "text/plain": [
       "  0%|          | 0/128 [00:00<?, ?it/s]"
      ]
     },
     "metadata": {},
     "output_type": "display_data"
    },
    {
     "name": "stdout",
     "output_type": "stream",
     "text": [
      "Validation\n"
     ]
    },
    {
     "data": {
      "application/vnd.jupyter.widget-view+json": {
       "model_id": "2f94a71df9a549619917db4fc536b1f0",
       "version_major": 2,
       "version_minor": 0
      },
      "text/plain": [
       "  0%|          | 0/126 [00:00<?, ?it/s]"
      ]
     },
     "metadata": {},
     "output_type": "display_data"
    },
    {
     "name": "stdout",
     "output_type": "stream",
     "text": [
      "Training loss: 2.634, training acc: 35.363\n",
      "Validation loss: 2.407, validation acc: 37.993\n",
      "f1 for epoch: 0.374504143330704\n",
      "--------------------------------------------------\n",
      "TRAINING COMPLETE\n"
     ]
    },
    {
     "data": {
      "image/png": "[encoded data removed]",
      "text/plain": [
       "<Figure size 720x504 with 1 Axes>"
      ]
     },
     "metadata": {
      "needs_background": "light"
     },
     "output_type": "display_data"
    },
    {
     "data": {
      "image/png": "[encoded data removed]",
      "text/plain": [
       "<Figure size 720x504 with 1 Axes>"
      ]
     },
     "metadata": {
      "needs_background": "light"
     },
     "output_type": "display_data"
    },
    {
     "data": {
      "image/png": "[encoded data removed]",
      "text/plain": [
       "<Figure size 720x504 with 1 Axes>"
      ]
     },
     "metadata": {
      "needs_background": "light"
     },
     "output_type": "display_data"
    }
   ],
   "source": [
    " train_acc, valid_acc, train_loss, valid_loss, f1_sp, model = Train(epochs=epochs, model=model, train_loader=train_loader,\n",
    "                                                             optimizer=optimizer, valid_loader=valid_loader,\n",
    "                                                             dataset_classes=dataset_classes, criterion=criterion,\n",
    "                                                             dir='/notebooks/outputs_Adam_full_dataset')"
   ]
  },
  {
   "cell_type": "code",
   "execution_count": 25,
   "metadata": {
    "execution": {
     "iopub.execute_input": "2022-12-04T20:02:49.434097Z",
     "iopub.status.busy": "2022-12-04T20:02:49.433677Z",
     "iopub.status.idle": "2022-12-04T20:02:56.675065Z",
     "shell.execute_reply": "2022-12-04T20:02:56.673741Z",
     "shell.execute_reply.started": "2022-12-04T20:02:49.434069Z"
    }
   },
   "outputs": [
    {
     "name": "stderr",
     "output_type": "stream",
     "text": [
      "/usr/local/lib/python3.9/dist-packages/torchvision/models/_utils.py:208: UserWarning: The parameter 'pretrained' is deprecated since 0.13 and will be removed in 0.15, please use 'weights' instead.\n",
      "  warnings.warn(\n",
      "/usr/local/lib/python3.9/dist-packages/torchvision/models/_utils.py:223: UserWarning: Arguments other than a weight enum or `None` for 'weights' are deprecated since 0.13 and will be removed in 0.15. The current behavior is equivalent to passing `weights=VGG16_Weights.IMAGENET1K_V1`. You can also use `weights=VGG16_Weights.DEFAULT` to get the most up-to-date weights.\n",
      "  warnings.warn(msg)\n",
      "Downloading: \"https://download.pytorch.org/models/vgg16-397923af.pth\" to /root/.cache/torch/hub/checkpoints/vgg16-397923af.pth\n"
     ]
    },
    {
     "data": {
      "application/vnd.jupyter.widget-view+json": {
       "model_id": "4378be131e8840cb88f1d0b114a05a52",
       "version_major": 2,
       "version_minor": 0
      },
      "text/plain": [
       "  0%|          | 0.00/528M [00:00<?, ?B/s]"
      ]
     },
     "metadata": {},
     "output_type": "display_data"
    }
   ],
   "source": [
    "import torchvision\n",
    "model2 = torchvision.models.vgg16(pretrained=True)\n",
    "for param in model2.parameters():\n",
    "    param.requires_grad = False\n",
    "\n",
    "# Parameters of newly constructed modules have requires_grad=True by default\n",
    "num_ftrs = model2.classifier[-1].in_features\n",
    "model2.classifier[-1] = Linear(num_ftrs, 196)\n",
    "model2.classifier[-4] = Linear(4096, 4096)\n",
    "model2.classifier[-7] = Linear(25088, 4096)"
   ]
  },
  {
   "cell_type": "code",
   "execution_count": 26,
   "metadata": {
    "execution": {
     "iopub.execute_input": "2022-12-04T20:04:55.097019Z",
     "iopub.status.busy": "2022-12-04T20:04:55.096341Z",
     "iopub.status.idle": "2022-12-04T20:05:00.045935Z",
     "shell.execute_reply": "2022-12-04T20:05:00.044968Z",
     "shell.execute_reply.started": "2022-12-04T20:04:55.097019Z"
    }
   },
   "outputs": [
    {
     "name": "stdout",
     "output_type": "stream",
     "text": [
      "[INFO]: Number of training images: 8144\n",
      "[INFO]: Number of validation images: 8041\n",
      "Computation device: cuda\n",
      "Learning rate: 0.00025\n",
      "Epochs to train for: 50\n",
      "\n",
      "135,063,556 total parameters.\n",
      "120,348,868 training parameters.\n"
     ]
    }
   ],
   "source": [
    "# Required constants.\n",
    "TRAIN_DIR = '/notebooks/cars_train/cars_train'\n",
    "VALID_DIR = '/notebooks/cars_test/cars_test/'\n",
    "IMAGE_SIZE = 224 # Image size of resize when applying transforms.\n",
    "BATCH_SIZE = 64\n",
    "NUM_WORKERS = 2\n",
    "\n",
    "dataset_train, dataset_valid, dataset_classes = get_datasets()\n",
    "print(f\"[INFO]: Number of training images: {len(dataset_train)}\")\n",
    "print(f\"[INFO]: Number of validation images: {len(dataset_valid)}\")\n",
    "        # Load the training and validation data loaders.\n",
    "train_loader, valid_loader = get_data_loaders(dataset_train, dataset_valid)\n",
    "        # Learning_parameters. \n",
    "lr = 0.00025\n",
    "final_lr = 0.01\n",
    "gamma = 0.00001\n",
    "epochs = 50\n",
    "device = ('cuda' if torch.cuda.is_available() else 'cpu')\n",
    "print(f\"Computation device: {device}\")\n",
    "print(f\"Learning rate: {lr}\")\n",
    "print(f\"Epochs to train for: {epochs}\\n\")\n",
    "\n",
    "total_params = sum(p.numel() for p in model2.parameters())\n",
    "print(f\"{total_params:,} total parameters.\")\n",
    "total_trainable_params = sum(p.numel() for p in model2.parameters() if p.requires_grad)\n",
    "print(f\"{total_trainable_params:,} training parameters.\")\n",
    "# Optimizer.\n",
    "optimizer = AdaBound(model2.parameters(), lr=lr, final_lr=final_lr, gamma=gamma)\n",
    "# Loss function.\n",
    "criterion = CrossEntropyLoss()\n",
    "\n",
    "\n",
    "model2 = model2.to(device)"
   ]
  },
  {
   "cell_type": "code",
   "execution_count": 27,
   "metadata": {
    "execution": {
     "iopub.execute_input": "2022-12-04T20:05:03.244910Z",
     "iopub.status.busy": "2022-12-04T20:05:03.244510Z",
     "iopub.status.idle": "2022-12-04T20:05:03.388409Z",
     "shell.execute_reply": "2022-12-04T20:05:03.387090Z",
     "shell.execute_reply.started": "2022-12-04T20:05:03.244881Z"
    }
   },
   "outputs": [],
   "source": [
    "import gc\n",
    "gc.collect()\n",
    "torch.cuda.empty_cache()"
   ]
  },
  {
   "cell_type": "code",
   "execution_count": 28,
   "metadata": {
    "execution": {
     "iopub.execute_input": "2022-12-04T20:05:08.368131Z",
     "iopub.status.busy": "2022-12-04T20:05:08.367246Z",
     "iopub.status.idle": "2022-12-04T22:21:25.610438Z",
     "shell.execute_reply": "2022-12-04T22:21:25.609335Z",
     "shell.execute_reply.started": "2022-12-04T20:05:08.368131Z"
    }
   },
   "outputs": [
    {
     "name": "stdout",
     "output_type": "stream",
     "text": [
      "[INFO]: Epoch 1 of 50\n",
      "Training\n"
     ]
    },
    {
     "data": {
      "application/vnd.jupyter.widget-view+json": {
       "model_id": "fc9c03dfced14110a33290507bd23b28",
       "version_major": 2,
       "version_minor": 0
      },
      "text/plain": [
       "  0%|          | 0/128 [00:00<?, ?it/s]"
      ]
     },
     "metadata": {},
     "output_type": "display_data"
    },
    {
     "name": "stderr",
     "output_type": "stream",
     "text": [
      "/tmp/ipykernel_32/3245925117.py:92: UserWarning: This overload of add_ is deprecated:\n",
      "\tadd_(Number alpha, Tensor other)\n",
      "Consider using one of the following signatures instead:\n",
      "\tadd_(Tensor other, *, Number alpha) (Triggered internally at  ../torch/csrc/utils/python_arg_parser.cpp:1174.)\n",
      "  exp_avg.mul_(beta1).add_(1 - beta1, grad)\n"
     ]
    },
    {
     "name": "stdout",
     "output_type": "stream",
     "text": [
      "Training loss: 5.370, training acc: 0.823\n",
      "Validation\n"
     ]
    },
    {
     "data": {
      "application/vnd.jupyter.widget-view+json": {
       "model_id": "8cb31676a94c4aa880b760ca662e3e6b",
       "version_major": 2,
       "version_minor": 0
      },
      "text/plain": [
       "  0%|          | 0/126 [00:00<?, ?it/s]"
      ]
     },
     "metadata": {},
     "output_type": "display_data"
    },
    {
     "name": "stdout",
     "output_type": "stream",
     "text": [
      "Validation loss: 5.091, validation acc: 1.952\n",
      "f1 for epoch: 0.004986693119182213\n",
      "--------------------------------------------------\n",
      "[INFO]: Epoch 2 of 50\n",
      "Training\n"
     ]
    },
    {
     "data": {
      "application/vnd.jupyter.widget-view+json": {
       "model_id": "6a4421a81c684e21b3718a260719dd8b",
       "version_major": 2,
       "version_minor": 0
      },
      "text/plain": [
       "  0%|          | 0/128 [00:00<?, ?it/s]"
      ]
     },
     "metadata": {},
     "output_type": "display_data"
    },
    {
     "name": "stdout",
     "output_type": "stream",
     "text": [
      "Training loss: 5.100, training acc: 1.486\n",
      "Validation\n"
     ]
    },
    {
     "data": {
      "application/vnd.jupyter.widget-view+json": {
       "model_id": "3d103344e6934b4cbb47312104de1158",
       "version_major": 2,
       "version_minor": 0
      },
      "text/plain": [
       "  0%|          | 0/126 [00:00<?, ?it/s]"
      ]
     },
     "metadata": {},
     "output_type": "display_data"
    },
    {
     "name": "stdout",
     "output_type": "stream",
     "text": [
      "Validation loss: 4.689, validation acc: 3.569\n",
      "f1 for epoch: 0.010056505982786504\n",
      "--------------------------------------------------\n",
      "[INFO]: Epoch 3 of 50\n",
      "Training\n"
     ]
    },
    {
     "data": {
      "application/vnd.jupyter.widget-view+json": {
       "model_id": "b3cf40a689f54b978df4e2215c166215",
       "version_major": 2,
       "version_minor": 0
      },
      "text/plain": [
       "  0%|          | 0/128 [00:00<?, ?it/s]"
      ]
     },
     "metadata": {},
     "output_type": "display_data"
    },
    {
     "name": "stdout",
     "output_type": "stream",
     "text": [
      "Training loss: 4.910, training acc: 2.014\n",
      "Validation\n"
     ]
    },
    {
     "data": {
      "application/vnd.jupyter.widget-view+json": {
       "model_id": "4c6161754baa4b5ebeddf7eb644ad260",
       "version_major": 2,
       "version_minor": 0
      },
      "text/plain": [
       "  0%|          | 0/126 [00:00<?, ?it/s]"
      ]
     },
     "metadata": {},
     "output_type": "display_data"
    },
    {
     "name": "stdout",
     "output_type": "stream",
     "text": [
      "Validation loss: 4.421, validation acc: 4.378\n",
      "f1 for epoch: 0.019009382306020155\n",
      "--------------------------------------------------\n",
      "[INFO]: Epoch 4 of 50\n",
      "Training\n"
     ]
    },
    {
     "data": {
      "application/vnd.jupyter.widget-view+json": {
       "model_id": "cf6270ff0c794a19b73e6dc090aefa36",
       "version_major": 2,
       "version_minor": 0
      },
      "text/plain": [
       "  0%|          | 0/128 [00:00<?, ?it/s]"
      ]
     },
     "metadata": {},
     "output_type": "display_data"
    },
    {
     "name": "stdout",
     "output_type": "stream",
     "text": [
      "Training loss: 4.761, training acc: 3.180\n",
      "Validation\n"
     ]
    },
    {
     "data": {
      "application/vnd.jupyter.widget-view+json": {
       "model_id": "c2a812c2364c457a96e0a79739a1c43c",
       "version_major": 2,
       "version_minor": 0
      },
      "text/plain": [
       "  0%|          | 0/126 [00:00<?, ?it/s]"
      ]
     },
     "metadata": {},
     "output_type": "display_data"
    },
    {
     "name": "stdout",
     "output_type": "stream",
     "text": [
      "Validation loss: 4.257, validation acc: 5.472\n",
      "f1 for epoch: 0.026671891029382694\n",
      "--------------------------------------------------\n",
      "[INFO]: Epoch 5 of 50\n",
      "Training\n"
     ]
    },
    {
     "data": {
      "application/vnd.jupyter.widget-view+json": {
       "model_id": "11e7bb4af04943f78d92e4a95d2705f2",
       "version_major": 2,
       "version_minor": 0
      },
      "text/plain": [
       "  0%|          | 0/128 [00:00<?, ?it/s]"
      ]
     },
     "metadata": {},
     "output_type": "display_data"
    },
    {
     "name": "stdout",
     "output_type": "stream",
     "text": [
      "Training loss: 4.627, training acc: 4.064\n",
      "Validation\n"
     ]
    },
    {
     "data": {
      "application/vnd.jupyter.widget-view+json": {
       "model_id": "4fa5258fd4fb41eda447d6e02278e983",
       "version_major": 2,
       "version_minor": 0
      },
      "text/plain": [
       "  0%|          | 0/126 [00:00<?, ?it/s]"
      ]
     },
     "metadata": {},
     "output_type": "display_data"
    },
    {
     "name": "stdout",
     "output_type": "stream",
     "text": [
      "Validation loss: 4.053, validation acc: 8.195\n",
      "f1 for epoch: 0.054181379347461076\n",
      "--------------------------------------------------\n",
      "[INFO]: Epoch 6 of 50\n",
      "Training\n"
     ]
    },
    {
     "data": {
      "application/vnd.jupyter.widget-view+json": {
       "model_id": "fa6ae9f3543843968935aac33fd0e5d9",
       "version_major": 2,
       "version_minor": 0
      },
      "text/plain": [
       "  0%|          | 0/128 [00:00<?, ?it/s]"
      ]
     },
     "metadata": {},
     "output_type": "display_data"
    },
    {
     "name": "stdout",
     "output_type": "stream",
     "text": [
      "Training loss: 4.402, training acc: 5.980\n",
      "Validation\n"
     ]
    },
    {
     "data": {
      "application/vnd.jupyter.widget-view+json": {
       "model_id": "fdec83b4802f437fba3def7cca3e3c09",
       "version_major": 2,
       "version_minor": 0
      },
      "text/plain": [
       "  0%|          | 0/126 [00:00<?, ?it/s]"
      ]
     },
     "metadata": {},
     "output_type": "display_data"
    },
    {
     "name": "stdout",
     "output_type": "stream",
     "text": [
      "Validation loss: 3.804, validation acc: 11.305\n",
      "f1 for epoch: 0.07931259638742656\n",
      "--------------------------------------------------\n",
      "[INFO]: Epoch 8 of 50\n",
      "Training\n"
     ]
    },
    {
     "data": {
      "application/vnd.jupyter.widget-view+json": {
       "model_id": "27ed095971a848f9869ac71c1ac079f7",
       "version_major": 2,
       "version_minor": 0
      },
      "text/plain": [
       "  0%|          | 0/128 [00:00<?, ?it/s]"
      ]
     },
     "metadata": {},
     "output_type": "display_data"
    },
    {
     "name": "stdout",
     "output_type": "stream",
     "text": [
      "Training loss: 4.331, training acc: 6.987\n",
      "Validation\n"
     ]
    },
    {
     "data": {
      "application/vnd.jupyter.widget-view+json": {
       "model_id": "c79806ded4c849dd96260397c2ee06be",
       "version_major": 2,
       "version_minor": 0
      },
      "text/plain": [
       "  0%|          | 0/126 [00:00<?, ?it/s]"
      ]
     },
     "metadata": {},
     "output_type": "display_data"
    },
    {
     "name": "stdout",
     "output_type": "stream",
     "text": [
      "Validation loss: 3.642, validation acc: 13.755\n",
      "f1 for epoch: 0.10500209879147765\n",
      "--------------------------------------------------\n",
      "[INFO]: Epoch 9 of 50\n",
      "Training\n"
     ]
    },
    {
     "data": {
      "application/vnd.jupyter.widget-view+json": {
       "model_id": "d7c41a0bafd2413c826f30da4377824d",
       "version_major": 2,
       "version_minor": 0
      },
      "text/plain": [
       "  0%|          | 0/128 [00:00<?, ?it/s]"
      ]
     },
     "metadata": {},
     "output_type": "display_data"
    },
    {
     "name": "stdout",
     "output_type": "stream",
     "text": [
      "Training loss: 4.307, training acc: 6.864\n",
      "Validation\n"
     ]
    },
    {
     "data": {
      "application/vnd.jupyter.widget-view+json": {
       "model_id": "542f774d80c64786bd083a43a6d04cb9",
       "version_major": 2,
       "version_minor": 0
      },
      "text/plain": [
       "  0%|          | 0/126 [00:00<?, ?it/s]"
      ]
     },
     "metadata": {},
     "output_type": "display_data"
    },
    {
     "name": "stdout",
     "output_type": "stream",
     "text": [
      "Validation loss: 3.574, validation acc: 14.849\n",
      "f1 for epoch: 0.11709410507184775\n",
      "--------------------------------------------------\n",
      "[INFO]: Epoch 10 of 50\n",
      "Training\n"
     ]
    },
    {
     "data": {
      "application/vnd.jupyter.widget-view+json": {
       "model_id": "4efc8fc9e3e54f53b6eebc817c819fbb",
       "version_major": 2,
       "version_minor": 0
      },
      "text/plain": [
       "  0%|          | 0/128 [00:00<?, ?it/s]"
      ]
     },
     "metadata": {},
     "output_type": "display_data"
    },
    {
     "name": "stdout",
     "output_type": "stream",
     "text": [
      "Training loss: 4.239, training acc: 8.350\n",
      "Validation\n"
     ]
    },
    {
     "data": {
      "application/vnd.jupyter.widget-view+json": {
       "model_id": "e0c792f305594f298ae272d26dc27b09",
       "version_major": 2,
       "version_minor": 0
      },
      "text/plain": [
       "  0%|          | 0/126 [00:00<?, ?it/s]"
      ]
     },
     "metadata": {},
     "output_type": "display_data"
    },
    {
     "name": "stdout",
     "output_type": "stream",
     "text": [
      "Validation loss: 3.557, validation acc: 14.364\n",
      "f1 for epoch: 0.11734006186363734\n",
      "--------------------------------------------------\n",
      "[INFO]: Epoch 11 of 50\n",
      "Training\n"
     ]
    },
    {
     "data": {
      "application/vnd.jupyter.widget-view+json": {
       "model_id": "d542028027f748f08ead591b2fc18d18",
       "version_major": 2,
       "version_minor": 0
      },
      "text/plain": [
       "  0%|          | 0/128 [00:00<?, ?it/s]"
      ]
     },
     "metadata": {},
     "output_type": "display_data"
    },
    {
     "name": "stdout",
     "output_type": "stream",
     "text": [
      "Training loss: 4.175, training acc: 9.295\n",
      "Validation\n"
     ]
    },
    {
     "data": {
      "application/vnd.jupyter.widget-view+json": {
       "model_id": "edb15137bd2b4a34b851d79540b5ab0d",
       "version_major": 2,
       "version_minor": 0
      },
      "text/plain": [
       "  0%|          | 0/126 [00:00<?, ?it/s]"
      ]
     },
     "metadata": {},
     "output_type": "display_data"
    },
    {
     "name": "stdout",
     "output_type": "stream",
     "text": [
      "Validation loss: 3.490, validation acc: 14.899\n",
      "f1 for epoch: 0.11600726069648189\n",
      "--------------------------------------------------\n",
      "[INFO]: Epoch 12 of 50\n",
      "Training\n"
     ]
    },
    {
     "data": {
      "application/vnd.jupyter.widget-view+json": {
       "model_id": "58ad6f0d027442c4a466ddc29d2f76b6",
       "version_major": 2,
       "version_minor": 0
      },
      "text/plain": [
       "  0%|          | 0/128 [00:00<?, ?it/s]"
      ]
     },
     "metadata": {},
     "output_type": "display_data"
    },
    {
     "name": "stdout",
     "output_type": "stream",
     "text": [
      "Training loss: 4.135, training acc: 9.639\n",
      "Validation\n"
     ]
    },
    {
     "data": {
      "application/vnd.jupyter.widget-view+json": {
       "model_id": "919a43fc23ed49558f9daa6a3e911a66",
       "version_major": 2,
       "version_minor": 0
      },
      "text/plain": [
       "  0%|          | 0/126 [00:00<?, ?it/s]"
      ]
     },
     "metadata": {},
     "output_type": "display_data"
    },
    {
     "name": "stdout",
     "output_type": "stream",
     "text": [
      "Validation loss: 3.404, validation acc: 17.324\n",
      "f1 for epoch: 0.14126338807335587\n",
      "--------------------------------------------------\n",
      "[INFO]: Epoch 13 of 50\n",
      "Training\n"
     ]
    },
    {
     "data": {
      "application/vnd.jupyter.widget-view+json": {
       "model_id": "dc4908404e714d1bb1f1698d243fe799",
       "version_major": 2,
       "version_minor": 0
      },
      "text/plain": [
       "  0%|          | 0/128 [00:00<?, ?it/s]"
      ]
     },
     "metadata": {},
     "output_type": "display_data"
    },
    {
     "name": "stdout",
     "output_type": "stream",
     "text": [
      "Training loss: 4.062, training acc: 10.523\n",
      "Validation\n"
     ]
    },
    {
     "data": {
      "application/vnd.jupyter.widget-view+json": {
       "model_id": "d542e7362c63490f97a7c2578786f753",
       "version_major": 2,
       "version_minor": 0
      },
      "text/plain": [
       "  0%|          | 0/126 [00:00<?, ?it/s]"
      ]
     },
     "metadata": {},
     "output_type": "display_data"
    },
    {
     "name": "stdout",
     "output_type": "stream",
     "text": [
      "Validation loss: 3.308, validation acc: 18.480\n",
      "f1 for epoch: 0.15307763957564455\n",
      "--------------------------------------------------\n",
      "[INFO]: Epoch 14 of 50\n",
      "Training\n"
     ]
    },
    {
     "data": {
      "application/vnd.jupyter.widget-view+json": {
       "model_id": "68138f48709944ddb2f6e98d759c9973",
       "version_major": 2,
       "version_minor": 0
      },
      "text/plain": [
       "  0%|          | 0/128 [00:00<?, ?it/s]"
      ]
     },
     "metadata": {},
     "output_type": "display_data"
    },
    {
     "name": "stdout",
     "output_type": "stream",
     "text": [
      "Training loss: 4.042, training acc: 10.670\n",
      "Validation\n"
     ]
    },
    {
     "data": {
      "application/vnd.jupyter.widget-view+json": {
       "model_id": "e4e5c7ff51c64cd8bda37c8fbc1ca77b",
       "version_major": 2,
       "version_minor": 0
      },
      "text/plain": [
       "  0%|          | 0/126 [00:00<?, ?it/s]"
      ]
     },
     "metadata": {},
     "output_type": "display_data"
    },
    {
     "name": "stdout",
     "output_type": "stream",
     "text": [
      "Validation loss: 3.322, validation acc: 18.605\n",
      "f1 for epoch: 0.15668160815636628\n",
      "--------------------------------------------------\n",
      "[INFO]: Epoch 15 of 50\n",
      "Training\n"
     ]
    },
    {
     "data": {
      "application/vnd.jupyter.widget-view+json": {
       "model_id": "219f15d13ca9477ab9bf83fe19069980",
       "version_major": 2,
       "version_minor": 0
      },
      "text/plain": [
       "  0%|          | 0/128 [00:00<?, ?it/s]"
      ]
     },
     "metadata": {},
     "output_type": "display_data"
    },
    {
     "name": "stdout",
     "output_type": "stream",
     "text": [
      "Training loss: 4.002, training acc: 11.419\n",
      "Validation\n"
     ]
    },
    {
     "data": {
      "application/vnd.jupyter.widget-view+json": {
       "model_id": "2f548a17ab714a1c8c6d65927843dae6",
       "version_major": 2,
       "version_minor": 0
      },
      "text/plain": [
       "  0%|          | 0/126 [00:00<?, ?it/s]"
      ]
     },
     "metadata": {},
     "output_type": "display_data"
    },
    {
     "name": "stdout",
     "output_type": "stream",
     "text": [
      "Validation loss: 3.323, validation acc: 17.784\n",
      "f1 for epoch: 0.1463568689957883\n",
      "--------------------------------------------------\n",
      "[INFO]: Epoch 16 of 50\n",
      "Training\n"
     ]
    },
    {
     "data": {
      "application/vnd.jupyter.widget-view+json": {
       "model_id": "eaab1d3b29654723a2afe882235718a6",
       "version_major": 2,
       "version_minor": 0
      },
      "text/plain": [
       "  0%|          | 0/128 [00:00<?, ?it/s]"
      ]
     },
     "metadata": {},
     "output_type": "display_data"
    },
    {
     "name": "stdout",
     "output_type": "stream",
     "text": [
      "Training loss: 3.946, training acc: 12.132\n",
      "Validation\n"
     ]
    },
    {
     "data": {
      "application/vnd.jupyter.widget-view+json": {
       "model_id": "5949a1717a28452fbfa663eb792a18c4",
       "version_major": 2,
       "version_minor": 0
      },
      "text/plain": [
       "  0%|          | 0/126 [00:00<?, ?it/s]"
      ]
     },
     "metadata": {},
     "output_type": "display_data"
    },
    {
     "name": "stdout",
     "output_type": "stream",
     "text": [
      "Validation loss: 3.214, validation acc: 20.930\n",
      "f1 for epoch: 0.17907658463545992\n",
      "--------------------------------------------------\n",
      "[INFO]: Epoch 17 of 50\n",
      "Training\n"
     ]
    },
    {
     "data": {
      "application/vnd.jupyter.widget-view+json": {
       "model_id": "7b8b19b2881b4ec987e1b558bc22deb5",
       "version_major": 2,
       "version_minor": 0
      },
      "text/plain": [
       "  0%|          | 0/128 [00:00<?, ?it/s]"
      ]
     },
     "metadata": {},
     "output_type": "display_data"
    },
    {
     "name": "stdout",
     "output_type": "stream",
     "text": [
      "Training loss: 3.920, training acc: 12.291\n",
      "Validation\n"
     ]
    },
    {
     "data": {
      "application/vnd.jupyter.widget-view+json": {
       "model_id": "34721161bfe84b3e859996b603078547",
       "version_major": 2,
       "version_minor": 0
      },
      "text/plain": [
       "  0%|          | 0/126 [00:00<?, ?it/s]"
      ]
     },
     "metadata": {},
     "output_type": "display_data"
    },
    {
     "name": "stdout",
     "output_type": "stream",
     "text": [
      "Validation loss: 3.197, validation acc: 20.868\n",
      "f1 for epoch: 0.1822403050021221\n",
      "--------------------------------------------------\n",
      "[INFO]: Epoch 18 of 50\n",
      "Training\n"
     ]
    },
    {
     "data": {
      "application/vnd.jupyter.widget-view+json": {
       "model_id": "88993afd178c4fa0aa7318ce0ccd07e4",
       "version_major": 2,
       "version_minor": 0
      },
      "text/plain": [
       "  0%|          | 0/128 [00:00<?, ?it/s]"
      ]
     },
     "metadata": {},
     "output_type": "display_data"
    },
    {
     "name": "stdout",
     "output_type": "stream",
     "text": [
      "Training loss: 3.903, training acc: 12.807\n",
      "Validation\n"
     ]
    },
    {
     "data": {
      "application/vnd.jupyter.widget-view+json": {
       "model_id": "32015c806d4741b9ad9104fdaecf242b",
       "version_major": 2,
       "version_minor": 0
      },
      "text/plain": [
       "  0%|          | 0/126 [00:00<?, ?it/s]"
      ]
     },
     "metadata": {},
     "output_type": "display_data"
    },
    {
     "name": "stdout",
     "output_type": "stream",
     "text": [
      "Validation loss: 3.133, validation acc: 22.211\n",
      "f1 for epoch: 0.20067571408623705\n",
      "--------------------------------------------------\n",
      "[INFO]: Epoch 19 of 50\n",
      "Training\n"
     ]
    },
    {
     "data": {
      "application/vnd.jupyter.widget-view+json": {
       "model_id": "b938ac4a7cfb40b9b4ec17a3d8d4f809",
       "version_major": 2,
       "version_minor": 0
      },
      "text/plain": [
       "  0%|          | 0/128 [00:00<?, ?it/s]"
      ]
     },
     "metadata": {},
     "output_type": "display_data"
    },
    {
     "name": "stdout",
     "output_type": "stream",
     "text": [
      "Training loss: 3.917, training acc: 12.475\n",
      "Validation\n"
     ]
    },
    {
     "data": {
      "application/vnd.jupyter.widget-view+json": {
       "model_id": "75f28c0724e24cc3b104a63f9b472c19",
       "version_major": 2,
       "version_minor": 0
      },
      "text/plain": [
       "  0%|          | 0/126 [00:00<?, ?it/s]"
      ]
     },
     "metadata": {},
     "output_type": "display_data"
    },
    {
     "name": "stdout",
     "output_type": "stream",
     "text": [
      "Validation loss: 3.104, validation acc: 23.467\n",
      "f1 for epoch: 0.20977535690582252\n",
      "--------------------------------------------------\n",
      "[INFO]: Epoch 20 of 50\n",
      "Training\n"
     ]
    },
    {
     "data": {
      "application/vnd.jupyter.widget-view+json": {
       "model_id": "6ec8634a12f946bf8285da45bb78173f",
       "version_major": 2,
       "version_minor": 0
      },
      "text/plain": [
       "  0%|          | 0/128 [00:00<?, ?it/s]"
      ]
     },
     "metadata": {},
     "output_type": "display_data"
    },
    {
     "name": "stdout",
     "output_type": "stream",
     "text": [
      "Training loss: 3.856, training acc: 13.077\n",
      "Validation\n"
     ]
    },
    {
     "data": {
      "application/vnd.jupyter.widget-view+json": {
       "model_id": "8fb84e12891a42c6a1a2ce91bd2476b8",
       "version_major": 2,
       "version_minor": 0
      },
      "text/plain": [
       "  0%|          | 0/126 [00:00<?, ?it/s]"
      ]
     },
     "metadata": {},
     "output_type": "display_data"
    },
    {
     "name": "stdout",
     "output_type": "stream",
     "text": [
      "Validation loss: 3.123, validation acc: 22.845\n",
      "f1 for epoch: 0.2042878349591655\n",
      "--------------------------------------------------\n",
      "[INFO]: Epoch 21 of 50\n",
      "Training\n"
     ]
    },
    {
     "data": {
      "application/vnd.jupyter.widget-view+json": {
       "model_id": "7bec2daff0b040aca95007416b38da33",
       "version_major": 2,
       "version_minor": 0
      },
      "text/plain": [
       "  0%|          | 0/128 [00:00<?, ?it/s]"
      ]
     },
     "metadata": {},
     "output_type": "display_data"
    },
    {
     "name": "stdout",
     "output_type": "stream",
     "text": [
      "Training loss: 3.810, training acc: 14.145\n",
      "Validation\n"
     ]
    },
    {
     "data": {
      "application/vnd.jupyter.widget-view+json": {
       "model_id": "ea09e1b5437f484d8308f5075738d8f1",
       "version_major": 2,
       "version_minor": 0
      },
      "text/plain": [
       "  0%|          | 0/126 [00:00<?, ?it/s]"
      ]
     },
     "metadata": {},
     "output_type": "display_data"
    },
    {
     "name": "stdout",
     "output_type": "stream",
     "text": [
      "Validation loss: 3.131, validation acc: 23.542\n",
      "f1 for epoch: 0.2115629093785884\n",
      "--------------------------------------------------\n",
      "[INFO]: Epoch 22 of 50\n",
      "Training\n"
     ]
    },
    {
     "data": {
      "application/vnd.jupyter.widget-view+json": {
       "model_id": "d149f9749dc94dc58b972eeccbfe0691",
       "version_major": 2,
       "version_minor": 0
      },
      "text/plain": [
       "  0%|          | 0/128 [00:00<?, ?it/s]"
      ]
     },
     "metadata": {},
     "output_type": "display_data"
    },
    {
     "name": "stdout",
     "output_type": "stream",
     "text": [
      "Training loss: 3.766, training acc: 15.140\n",
      "Validation\n"
     ]
    },
    {
     "data": {
      "application/vnd.jupyter.widget-view+json": {
       "model_id": "5a622478e6a44b8892d7e871f087d4f5",
       "version_major": 2,
       "version_minor": 0
      },
      "text/plain": [
       "  0%|          | 0/126 [00:00<?, ?it/s]"
      ]
     },
     "metadata": {},
     "output_type": "display_data"
    },
    {
     "name": "stdout",
     "output_type": "stream",
     "text": [
      "Validation loss: 3.074, validation acc: 23.492\n",
      "f1 for epoch: 0.2112709589364764\n",
      "--------------------------------------------------\n",
      "[INFO]: Epoch 23 of 50\n",
      "Training\n"
     ]
    },
    {
     "data": {
      "application/vnd.jupyter.widget-view+json": {
       "model_id": "35743e3b47834bba949fb97c93d0dbb4",
       "version_major": 2,
       "version_minor": 0
      },
      "text/plain": [
       "  0%|          | 0/128 [00:00<?, ?it/s]"
      ]
     },
     "metadata": {},
     "output_type": "display_data"
    },
    {
     "name": "stdout",
     "output_type": "stream",
     "text": [
      "Training loss: 3.784, training acc: 14.772\n",
      "Validation\n"
     ]
    },
    {
     "data": {
      "application/vnd.jupyter.widget-view+json": {
       "model_id": "af1e56f9842c44278b4e9fbf114cd45b",
       "version_major": 2,
       "version_minor": 0
      },
      "text/plain": [
       "  0%|          | 0/126 [00:00<?, ?it/s]"
      ]
     },
     "metadata": {},
     "output_type": "display_data"
    },
    {
     "name": "stdout",
     "output_type": "stream",
     "text": [
      "Validation loss: 3.080, validation acc: 24.027\n",
      "f1 for epoch: 0.22207702253866216\n",
      "--------------------------------------------------\n",
      "[INFO]: Epoch 24 of 50\n",
      "Training\n"
     ]
    },
    {
     "data": {
      "application/vnd.jupyter.widget-view+json": {
       "model_id": "162cfc4b76e142c0b47a0b20aa6afe85",
       "version_major": 2,
       "version_minor": 0
      },
      "text/plain": [
       "  0%|          | 0/128 [00:00<?, ?it/s]"
      ]
     },
     "metadata": {},
     "output_type": "display_data"
    },
    {
     "name": "stdout",
     "output_type": "stream",
     "text": [
      "Training loss: 3.761, training acc: 15.066\n",
      "Validation\n"
     ]
    },
    {
     "data": {
      "application/vnd.jupyter.widget-view+json": {
       "model_id": "01a4551fe1de46edba2e4ad7715ecaa8",
       "version_major": 2,
       "version_minor": 0
      },
      "text/plain": [
       "  0%|          | 0/126 [00:00<?, ?it/s]"
      ]
     },
     "metadata": {},
     "output_type": "display_data"
    },
    {
     "name": "stdout",
     "output_type": "stream",
     "text": [
      "Validation loss: 3.067, validation acc: 24.338\n",
      "f1 for epoch: 0.22063140815691343\n",
      "--------------------------------------------------\n",
      "[INFO]: Epoch 25 of 50\n",
      "Training\n"
     ]
    },
    {
     "data": {
      "application/vnd.jupyter.widget-view+json": {
       "model_id": "b348b7c5f0e94a8ab83d90f8ce4da3ad",
       "version_major": 2,
       "version_minor": 0
      },
      "text/plain": [
       "  0%|          | 0/128 [00:00<?, ?it/s]"
      ]
     },
     "metadata": {},
     "output_type": "display_data"
    },
    {
     "name": "stdout",
     "output_type": "stream",
     "text": [
      "Training loss: 3.703, training acc: 16.466\n",
      "Validation\n"
     ]
    },
    {
     "data": {
      "application/vnd.jupyter.widget-view+json": {
       "model_id": "2b400bab20e1421da9c3d659d66535ed",
       "version_major": 2,
       "version_minor": 0
      },
      "text/plain": [
       "  0%|          | 0/126 [00:00<?, ?it/s]"
      ]
     },
     "metadata": {},
     "output_type": "display_data"
    },
    {
     "name": "stdout",
     "output_type": "stream",
     "text": [
      "Validation loss: 2.974, validation acc: 24.698\n",
      "f1 for epoch: 0.22423775971847276\n",
      "--------------------------------------------------\n",
      "[INFO]: Epoch 26 of 50\n",
      "Training\n"
     ]
    },
    {
     "data": {
      "application/vnd.jupyter.widget-view+json": {
       "model_id": "e8b37699e8714a3a83d625cdd45c41df",
       "version_major": 2,
       "version_minor": 0
      },
      "text/plain": [
       "  0%|          | 0/128 [00:00<?, ?it/s]"
      ]
     },
     "metadata": {},
     "output_type": "display_data"
    },
    {
     "name": "stdout",
     "output_type": "stream",
     "text": [
      "Training loss: 3.718, training acc: 15.557\n",
      "Validation\n"
     ]
    },
    {
     "data": {
      "application/vnd.jupyter.widget-view+json": {
       "model_id": "9a8a73f0124d494dab13470d968155b8",
       "version_major": 2,
       "version_minor": 0
      },
      "text/plain": [
       "  0%|          | 0/126 [00:00<?, ?it/s]"
      ]
     },
     "metadata": {},
     "output_type": "display_data"
    },
    {
     "name": "stdout",
     "output_type": "stream",
     "text": [
      "Validation loss: 2.970, validation acc: 26.775\n",
      "f1 for epoch: 0.2465271871496087\n",
      "--------------------------------------------------\n",
      "[INFO]: Epoch 27 of 50\n",
      "Training\n"
     ]
    },
    {
     "data": {
      "application/vnd.jupyter.widget-view+json": {
       "model_id": "69aa69e22a494cd8b64069c5b766d47f",
       "version_major": 2,
       "version_minor": 0
      },
      "text/plain": [
       "  0%|          | 0/128 [00:00<?, ?it/s]"
      ]
     },
     "metadata": {},
     "output_type": "display_data"
    },
    {
     "name": "stdout",
     "output_type": "stream",
     "text": [
      "Training loss: 3.691, training acc: 16.122\n",
      "Validation\n"
     ]
    },
    {
     "data": {
      "application/vnd.jupyter.widget-view+json": {
       "model_id": "1a8601ad7803423a88baf7c7e1f84d75",
       "version_major": 2,
       "version_minor": 0
      },
      "text/plain": [
       "  0%|          | 0/126 [00:00<?, ?it/s]"
      ]
     },
     "metadata": {},
     "output_type": "display_data"
    },
    {
     "name": "stdout",
     "output_type": "stream",
     "text": [
      "Validation loss: 2.980, validation acc: 25.867\n",
      "f1 for epoch: 0.23392989078669107\n",
      "--------------------------------------------------\n",
      "[INFO]: Epoch 28 of 50\n",
      "Training\n"
     ]
    },
    {
     "data": {
      "application/vnd.jupyter.widget-view+json": {
       "model_id": "7d87020c413e4838b4d06623bc8c72c2",
       "version_major": 2,
       "version_minor": 0
      },
      "text/plain": [
       "  0%|          | 0/128 [00:00<?, ?it/s]"
      ]
     },
     "metadata": {},
     "output_type": "display_data"
    },
    {
     "name": "stdout",
     "output_type": "stream",
     "text": [
      "Training loss: 3.638, training acc: 17.031\n",
      "Validation\n"
     ]
    },
    {
     "data": {
      "application/vnd.jupyter.widget-view+json": {
       "model_id": "6769638e54864cce8377bfd3743c4899",
       "version_major": 2,
       "version_minor": 0
      },
      "text/plain": [
       "  0%|          | 0/126 [00:00<?, ?it/s]"
      ]
     },
     "metadata": {},
     "output_type": "display_data"
    },
    {
     "name": "stdout",
     "output_type": "stream",
     "text": [
      "Validation loss: 2.962, validation acc: 25.992\n",
      "f1 for epoch: 0.23889531396686234\n",
      "--------------------------------------------------\n",
      "[INFO]: Epoch 29 of 50\n",
      "Training\n"
     ]
    },
    {
     "data": {
      "application/vnd.jupyter.widget-view+json": {
       "model_id": "dec2d5922bf946c5961b95187f7f0488",
       "version_major": 2,
       "version_minor": 0
      },
      "text/plain": [
       "  0%|          | 0/128 [00:00<?, ?it/s]"
      ]
     },
     "metadata": {},
     "output_type": "display_data"
    },
    {
     "name": "stdout",
     "output_type": "stream",
     "text": [
      "Training loss: 3.669, training acc: 16.294\n",
      "Validation\n"
     ]
    },
    {
     "data": {
      "application/vnd.jupyter.widget-view+json": {
       "model_id": "f6b76201e9ce4808befbbd899e6f8781",
       "version_major": 2,
       "version_minor": 0
      },
      "text/plain": [
       "  0%|          | 0/126 [00:00<?, ?it/s]"
      ]
     },
     "metadata": {},
     "output_type": "display_data"
    },
    {
     "name": "stdout",
     "output_type": "stream",
     "text": [
      "Validation loss: 3.002, validation acc: 24.972\n",
      "f1 for epoch: 0.2270284436865754\n",
      "--------------------------------------------------\n",
      "[INFO]: Epoch 30 of 50\n",
      "Training\n"
     ]
    },
    {
     "data": {
      "application/vnd.jupyter.widget-view+json": {
       "model_id": "1961530ff2a043759d825b108a56e62f",
       "version_major": 2,
       "version_minor": 0
      },
      "text/plain": [
       "  0%|          | 0/128 [00:00<?, ?it/s]"
      ]
     },
     "metadata": {},
     "output_type": "display_data"
    },
    {
     "name": "stdout",
     "output_type": "stream",
     "text": [
      "Training loss: 3.622, training acc: 17.399\n",
      "Validation\n"
     ]
    },
    {
     "data": {
      "application/vnd.jupyter.widget-view+json": {
       "model_id": "cabfc03df3cb49378c63e989dc8be356",
       "version_major": 2,
       "version_minor": 0
      },
      "text/plain": [
       "  0%|          | 0/126 [00:00<?, ?it/s]"
      ]
     },
     "metadata": {},
     "output_type": "display_data"
    },
    {
     "name": "stdout",
     "output_type": "stream",
     "text": [
      "Validation loss: 2.927, validation acc: 26.875\n",
      "f1 for epoch: 0.2517187468749689\n",
      "--------------------------------------------------\n",
      "[INFO]: Epoch 31 of 50\n",
      "Training\n"
     ]
    },
    {
     "data": {
      "application/vnd.jupyter.widget-view+json": {
       "model_id": "925f3d5a16cd493c8b2f7288707ed7ce",
       "version_major": 2,
       "version_minor": 0
      },
      "text/plain": [
       "  0%|          | 0/128 [00:00<?, ?it/s]"
      ]
     },
     "metadata": {},
     "output_type": "display_data"
    },
    {
     "name": "stdout",
     "output_type": "stream",
     "text": [
      "Training loss: 3.612, training acc: 16.675\n",
      "Validation\n"
     ]
    },
    {
     "data": {
      "application/vnd.jupyter.widget-view+json": {
       "model_id": "817f598ff5664639a7a16a9d710a6529",
       "version_major": 2,
       "version_minor": 0
      },
      "text/plain": [
       "  0%|          | 0/126 [00:00<?, ?it/s]"
      ]
     },
     "metadata": {},
     "output_type": "display_data"
    },
    {
     "name": "stdout",
     "output_type": "stream",
     "text": [
      "Validation loss: 2.926, validation acc: 26.962\n",
      "f1 for epoch: 0.2489176840416004\n",
      "--------------------------------------------------\n",
      "[INFO]: Epoch 32 of 50\n",
      "Training\n"
     ]
    },
    {
     "data": {
      "application/vnd.jupyter.widget-view+json": {
       "model_id": "a2c20c0b4eb34d33b562584055b83a6e",
       "version_major": 2,
       "version_minor": 0
      },
      "text/plain": [
       "  0%|          | 0/128 [00:00<?, ?it/s]"
      ]
     },
     "metadata": {},
     "output_type": "display_data"
    },
    {
     "name": "stdout",
     "output_type": "stream",
     "text": [
      "Training loss: 3.607, training acc: 17.375\n",
      "Validation\n"
     ]
    },
    {
     "data": {
      "application/vnd.jupyter.widget-view+json": {
       "model_id": "83f482cd4eff4ed39814f6450a4d384f",
       "version_major": 2,
       "version_minor": 0
      },
      "text/plain": [
       "  0%|          | 0/126 [00:00<?, ?it/s]"
      ]
     },
     "metadata": {},
     "output_type": "display_data"
    },
    {
     "name": "stdout",
     "output_type": "stream",
     "text": [
      "Validation loss: 2.877, validation acc: 27.372\n",
      "f1 for epoch: 0.25310415114385704\n",
      "--------------------------------------------------\n",
      "[INFO]: Epoch 33 of 50\n",
      "Training\n"
     ]
    },
    {
     "data": {
      "application/vnd.jupyter.widget-view+json": {
       "model_id": "45225fd0d768401d83c468bb77e52ac6",
       "version_major": 2,
       "version_minor": 0
      },
      "text/plain": [
       "  0%|          | 0/128 [00:00<?, ?it/s]"
      ]
     },
     "metadata": {},
     "output_type": "display_data"
    },
    {
     "name": "stdout",
     "output_type": "stream",
     "text": [
      "Training loss: 3.570, training acc: 17.338\n",
      "Validation\n"
     ]
    },
    {
     "data": {
      "application/vnd.jupyter.widget-view+json": {
       "model_id": "f96db18607e54a47b42f871ffd42068a",
       "version_major": 2,
       "version_minor": 0
      },
      "text/plain": [
       "  0%|          | 0/126 [00:00<?, ?it/s]"
      ]
     },
     "metadata": {},
     "output_type": "display_data"
    },
    {
     "name": "stdout",
     "output_type": "stream",
     "text": [
      "Validation loss: 2.876, validation acc: 27.410\n",
      "f1 for epoch: 0.2568287440761393\n",
      "--------------------------------------------------\n",
      "[INFO]: Epoch 34 of 50\n",
      "Training\n"
     ]
    },
    {
     "data": {
      "application/vnd.jupyter.widget-view+json": {
       "model_id": "843aa16f5eaa47dd872c368be3fd7d09",
       "version_major": 2,
       "version_minor": 0
      },
      "text/plain": [
       "  0%|          | 0/128 [00:00<?, ?it/s]"
      ]
     },
     "metadata": {},
     "output_type": "display_data"
    },
    {
     "name": "stdout",
     "output_type": "stream",
     "text": [
      "Training loss: 3.575, training acc: 18.664\n",
      "Validation\n"
     ]
    },
    {
     "data": {
      "application/vnd.jupyter.widget-view+json": {
       "model_id": "b9965403344845e5bbe183cd4827657c",
       "version_major": 2,
       "version_minor": 0
      },
      "text/plain": [
       "  0%|          | 0/126 [00:00<?, ?it/s]"
      ]
     },
     "metadata": {},
     "output_type": "display_data"
    },
    {
     "name": "stdout",
     "output_type": "stream",
     "text": [
      "Validation loss: 2.886, validation acc: 27.783\n",
      "f1 for epoch: 0.2640514178314819\n",
      "--------------------------------------------------\n",
      "[INFO]: Epoch 35 of 50\n",
      "Training\n"
     ]
    },
    {
     "data": {
      "application/vnd.jupyter.widget-view+json": {
       "model_id": "363a7bdfd50147c4858db78172bf2646",
       "version_major": 2,
       "version_minor": 0
      },
      "text/plain": [
       "  0%|          | 0/128 [00:00<?, ?it/s]"
      ]
     },
     "metadata": {},
     "output_type": "display_data"
    },
    {
     "name": "stdout",
     "output_type": "stream",
     "text": [
      "Training loss: 3.560, training acc: 17.301\n",
      "Validation\n"
     ]
    },
    {
     "data": {
      "application/vnd.jupyter.widget-view+json": {
       "model_id": "7328ea4517ad43e4b658623247a1ff33",
       "version_major": 2,
       "version_minor": 0
      },
      "text/plain": [
       "  0%|          | 0/126 [00:00<?, ?it/s]"
      ]
     },
     "metadata": {},
     "output_type": "display_data"
    },
    {
     "name": "stdout",
     "output_type": "stream",
     "text": [
      "Validation loss: 2.878, validation acc: 28.666\n",
      "f1 for epoch: 0.2684406671081528\n",
      "--------------------------------------------------\n",
      "[INFO]: Epoch 36 of 50\n",
      "Training\n"
     ]
    },
    {
     "data": {
      "application/vnd.jupyter.widget-view+json": {
       "model_id": "42932fae823a450d8b9b94b4c8b5a7d3",
       "version_major": 2,
       "version_minor": 0
      },
      "text/plain": [
       "  0%|          | 0/128 [00:00<?, ?it/s]"
      ]
     },
     "metadata": {},
     "output_type": "display_data"
    },
    {
     "name": "stdout",
     "output_type": "stream",
     "text": [
      "Training loss: 3.545, training acc: 18.369\n",
      "Validation\n"
     ]
    },
    {
     "data": {
      "application/vnd.jupyter.widget-view+json": {
       "model_id": "572d44a1200e44f6a51aa5edf3cda771",
       "version_major": 2,
       "version_minor": 0
      },
      "text/plain": [
       "  0%|          | 0/126 [00:00<?, ?it/s]"
      ]
     },
     "metadata": {},
     "output_type": "display_data"
    },
    {
     "name": "stdout",
     "output_type": "stream",
     "text": [
      "Validation loss: 2.873, validation acc: 27.932\n",
      "f1 for epoch: 0.2617676470588044\n",
      "--------------------------------------------------\n",
      "[INFO]: Epoch 37 of 50\n",
      "Training\n"
     ]
    },
    {
     "data": {
      "application/vnd.jupyter.widget-view+json": {
       "model_id": "fdfb0008fedd4daeb3d56686405ac55e",
       "version_major": 2,
       "version_minor": 0
      },
      "text/plain": [
       "  0%|          | 0/128 [00:00<?, ?it/s]"
      ]
     },
     "metadata": {},
     "output_type": "display_data"
    },
    {
     "name": "stdout",
     "output_type": "stream",
     "text": [
      "Training loss: 3.517, training acc: 18.873\n",
      "Validation\n"
     ]
    },
    {
     "data": {
      "application/vnd.jupyter.widget-view+json": {
       "model_id": "586c7d037e364c0a8a5e582c5afeeac1",
       "version_major": 2,
       "version_minor": 0
      },
      "text/plain": [
       "  0%|          | 0/126 [00:00<?, ?it/s]"
      ]
     },
     "metadata": {},
     "output_type": "display_data"
    },
    {
     "name": "stdout",
     "output_type": "stream",
     "text": [
      "Validation loss: 2.842, validation acc: 28.218\n",
      "f1 for epoch: 0.26148391983681674\n",
      "--------------------------------------------------\n",
      "[INFO]: Epoch 38 of 50\n",
      "Training\n"
     ]
    },
    {
     "data": {
      "application/vnd.jupyter.widget-view+json": {
       "model_id": "9bdae932dd0f4b0ba5507f85f16b79c8",
       "version_major": 2,
       "version_minor": 0
      },
      "text/plain": [
       "  0%|          | 0/128 [00:00<?, ?it/s]"
      ]
     },
     "metadata": {},
     "output_type": "display_data"
    },
    {
     "name": "stdout",
     "output_type": "stream",
     "text": [
      "Training loss: 3.531, training acc: 18.222\n",
      "Validation\n"
     ]
    },
    {
     "data": {
      "application/vnd.jupyter.widget-view+json": {
       "model_id": "7914302ce6d445979e765e2471a3879e",
       "version_major": 2,
       "version_minor": 0
      },
      "text/plain": [
       "  0%|          | 0/126 [00:00<?, ?it/s]"
      ]
     },
     "metadata": {},
     "output_type": "display_data"
    },
    {
     "name": "stdout",
     "output_type": "stream",
     "text": [
      "Validation loss: 2.812, validation acc: 29.126\n",
      "f1 for epoch: 0.2750712411382165\n",
      "--------------------------------------------------\n",
      "[INFO]: Epoch 39 of 50\n",
      "Training\n"
     ]
    },
    {
     "data": {
      "application/vnd.jupyter.widget-view+json": {
       "model_id": "38fdb54d03b144419ea03fce38fbde3f",
       "version_major": 2,
       "version_minor": 0
      },
      "text/plain": [
       "  0%|          | 0/128 [00:00<?, ?it/s]"
      ]
     },
     "metadata": {},
     "output_type": "display_data"
    },
    {
     "name": "stdout",
     "output_type": "stream",
     "text": [
      "Training loss: 3.496, training acc: 19.241\n",
      "Validation\n"
     ]
    },
    {
     "data": {
      "application/vnd.jupyter.widget-view+json": {
       "model_id": "912061117e894e749a87255cd94b78d9",
       "version_major": 2,
       "version_minor": 0
      },
      "text/plain": [
       "  0%|          | 0/126 [00:00<?, ?it/s]"
      ]
     },
     "metadata": {},
     "output_type": "display_data"
    },
    {
     "name": "stdout",
     "output_type": "stream",
     "text": [
      "Training loss: 3.482, training acc: 19.266\n",
      "Validation\n"
     ]
    },
    {
     "data": {
      "application/vnd.jupyter.widget-view+json": {
       "model_id": "b1886f6c2c0744e085b43671613a8562",
       "version_major": 2,
       "version_minor": 0
      },
      "text/plain": [
       "  0%|          | 0/126 [00:00<?, ?it/s]"
      ]
     },
     "metadata": {},
     "output_type": "display_data"
    },
    {
     "name": "stdout",
     "output_type": "stream",
     "text": [
      "Validation loss: 2.852, validation acc: 29.810\n",
      "f1 for epoch: 0.2835761363608934\n",
      "--------------------------------------------------\n",
      "[INFO]: Epoch 41 of 50\n",
      "Training\n"
     ]
    },
    {
     "data": {
      "application/vnd.jupyter.widget-view+json": {
       "model_id": "cf6ede917fa04cc1b2483b970f8c8267",
       "version_major": 2,
       "version_minor": 0
      },
      "text/plain": [
       "  0%|          | 0/128 [00:00<?, ?it/s]"
      ]
     },
     "metadata": {},
     "output_type": "display_data"
    },
    {
     "name": "stdout",
     "output_type": "stream",
     "text": [
      "Training loss: 3.473, training acc: 20.297\n",
      "Validation\n"
     ]
    },
    {
     "data": {
      "application/vnd.jupyter.widget-view+json": {
       "model_id": "36f0cc2ee40a408090c6829d611d58b1",
       "version_major": 2,
       "version_minor": 0
      },
      "text/plain": [
       "  0%|          | 0/126 [00:00<?, ?it/s]"
      ]
     },
     "metadata": {},
     "output_type": "display_data"
    },
    {
     "name": "stdout",
     "output_type": "stream",
     "text": [
      "Validation loss: 2.823, validation acc: 29.636\n",
      "f1 for epoch: 0.27793982948110163\n",
      "--------------------------------------------------\n",
      "[INFO]: Epoch 42 of 50\n",
      "Training\n"
     ]
    },
    {
     "data": {
      "application/vnd.jupyter.widget-view+json": {
       "model_id": "7492d29a504b4ad8897d9e4dea89668d",
       "version_major": 2,
       "version_minor": 0
      },
      "text/plain": [
       "  0%|          | 0/128 [00:00<?, ?it/s]"
      ]
     },
     "metadata": {},
     "output_type": "display_data"
    },
    {
     "name": "stdout",
     "output_type": "stream",
     "text": [
      "Training loss: 3.474, training acc: 20.125\n",
      "Validation\n"
     ]
    },
    {
     "data": {
      "application/vnd.jupyter.widget-view+json": {
       "model_id": "68da917cfcc14ea489fe42765bcaca5d",
       "version_major": 2,
       "version_minor": 0
      },
      "text/plain": [
       "  0%|          | 0/126 [00:00<?, ?it/s]"
      ]
     },
     "metadata": {},
     "output_type": "display_data"
    },
    {
     "name": "stdout",
     "output_type": "stream",
     "text": [
      "Validation loss: 2.816, validation acc: 29.723\n",
      "f1 for epoch: 0.28372740191827045\n",
      "--------------------------------------------------\n",
      "[INFO]: Epoch 43 of 50\n",
      "Training\n"
     ]
    },
    {
     "data": {
      "application/vnd.jupyter.widget-view+json": {
       "model_id": "158aaedc085e473b9a8f8564a853638a",
       "version_major": 2,
       "version_minor": 0
      },
      "text/plain": [
       "  0%|          | 0/128 [00:00<?, ?it/s]"
      ]
     },
     "metadata": {},
     "output_type": "display_data"
    },
    {
     "name": "stdout",
     "output_type": "stream",
     "text": [
      "Training loss: 3.446, training acc: 19.953\n",
      "Validation\n"
     ]
    },
    {
     "data": {
      "application/vnd.jupyter.widget-view+json": {
       "model_id": "f2bd94eff14842efad17ed283f32cdc8",
       "version_major": 2,
       "version_minor": 0
      },
      "text/plain": [
       "  0%|          | 0/126 [00:00<?, ?it/s]"
      ]
     },
     "metadata": {},
     "output_type": "display_data"
    },
    {
     "name": "stdout",
     "output_type": "stream",
     "text": [
      "Validation loss: 2.826, validation acc: 28.852\n",
      "f1 for epoch: 0.26942649092370613\n",
      "--------------------------------------------------\n",
      "[INFO]: Epoch 44 of 50\n",
      "Training\n"
     ]
    },
    {
     "data": {
      "application/vnd.jupyter.widget-view+json": {
       "model_id": "79adb5b2ec2a42c29b9879e83c6b0cac",
       "version_major": 2,
       "version_minor": 0
      },
      "text/plain": [
       "  0%|          | 0/128 [00:00<?, ?it/s]"
      ]
     },
     "metadata": {},
     "output_type": "display_data"
    },
    {
     "name": "stdout",
     "output_type": "stream",
     "text": [
      "Training loss: 3.452, training acc: 20.555\n",
      "Validation\n"
     ]
    },
    {
     "data": {
      "application/vnd.jupyter.widget-view+json": {
       "model_id": "1f941bdddb194e6d8da2766d2512d9e1",
       "version_major": 2,
       "version_minor": 0
      },
      "text/plain": [
       "  0%|          | 0/126 [00:00<?, ?it/s]"
      ]
     },
     "metadata": {},
     "output_type": "display_data"
    },
    {
     "name": "stderr",
     "output_type": "stream",
     "text": [
      "IOPub message rate exceeded.\n",
      "The Jupyter server will temporarily stop sending output\n",
      "to the client in order to avoid crashing it.\n",
      "To change this limit, set the config variable\n",
      "`--ServerApp.iopub_msg_rate_limit`.\n",
      "\n",
      "Current values:\n",
      "ServerApp.iopub_msg_rate_limit=1000.0 (msgs/sec)\n",
      "ServerApp.rate_limit_window=3.0 (secs)\n",
      "\n"
     ]
    },
    {
     "name": "stdout",
     "output_type": "stream",
     "text": [
      "Validation loss: 2.808, validation acc: 29.872\n",
      "f1 for epoch: 0.28092920763909485\n",
      "--------------------------------------------------\n",
      "[INFO]: Epoch 45 of 50\n",
      "Training\n"
     ]
    },
    {
     "data": {
      "application/vnd.jupyter.widget-view+json": {
       "model_id": "d157755a914e407c8c45739059278c37",
       "version_major": 2,
       "version_minor": 0
      },
      "text/plain": [
       "  0%|          | 0/128 [00:00<?, ?it/s]"
      ]
     },
     "metadata": {},
     "output_type": "display_data"
    },
    {
     "name": "stdout",
     "output_type": "stream",
     "text": [
      "Training loss: 3.428, training acc: 20.187\n",
      "Validation\n"
     ]
    },
    {
     "data": {
      "application/vnd.jupyter.widget-view+json": {
       "model_id": "6829821695744bf19f69e5b9c15cd57c",
       "version_major": 2,
       "version_minor": 0
      },
      "text/plain": [
       "  0%|          | 0/126 [00:00<?, ?it/s]"
      ]
     },
     "metadata": {},
     "output_type": "display_data"
    },
    {
     "name": "stdout",
     "output_type": "stream",
     "text": [
      "Validation loss: 2.786, validation acc: 29.710\n",
      "f1 for epoch: 0.2815580043222539\n",
      "--------------------------------------------------\n",
      "[INFO]: Epoch 46 of 50\n",
      "Training\n"
     ]
    },
    {
     "data": {
      "application/vnd.jupyter.widget-view+json": {
       "model_id": "a2f9e78dc6754351bbab50efd02b8d80",
       "version_major": 2,
       "version_minor": 0
      },
      "text/plain": [
       "  0%|          | 0/128 [00:00<?, ?it/s]"
      ]
     },
     "metadata": {},
     "output_type": "display_data"
    },
    {
     "name": "stdout",
     "output_type": "stream",
     "text": [
      "Training loss: 3.402, training acc: 20.923\n",
      "Validation\n"
     ]
    },
    {
     "data": {
      "application/vnd.jupyter.widget-view+json": {
       "model_id": "2bb19e47ddec4674b8f321cce20a2c29",
       "version_major": 2,
       "version_minor": 0
      },
      "text/plain": [
       "  0%|          | 0/126 [00:00<?, ?it/s]"
      ]
     },
     "metadata": {},
     "output_type": "display_data"
    },
    {
     "name": "stdout",
     "output_type": "stream",
     "text": [
      "Validation loss: 2.795, validation acc: 29.673\n",
      "f1 for epoch: 0.27973406222383795\n",
      "--------------------------------------------------\n",
      "[INFO]: Epoch 47 of 50\n",
      "Training\n"
     ]
    },
    {
     "data": {
      "application/vnd.jupyter.widget-view+json": {
       "model_id": "4f94b71e84dd44b09123320cd9f42d71",
       "version_major": 2,
       "version_minor": 0
      },
      "text/plain": [
       "  0%|          | 0/128 [00:00<?, ?it/s]"
      ]
     },
     "metadata": {},
     "output_type": "display_data"
    },
    {
     "name": "stdout",
     "output_type": "stream",
     "text": [
      "Training loss: 3.373, training acc: 21.230\n",
      "Validation\n"
     ]
    },
    {
     "data": {
      "application/vnd.jupyter.widget-view+json": {
       "model_id": "070239d1754240e4988bae986f44312e",
       "version_major": 2,
       "version_minor": 0
      },
      "text/plain": [
       "  0%|          | 0/126 [00:00<?, ?it/s]"
      ]
     },
     "metadata": {},
     "output_type": "display_data"
    },
    {
     "name": "stdout",
     "output_type": "stream",
     "text": [
      "Validation loss: 2.792, validation acc: 29.772\n",
      "f1 for epoch: 0.2851223424283141\n",
      "--------------------------------------------------\n",
      "[INFO]: Epoch 48 of 50\n",
      "Training\n"
     ]
    },
    {
     "data": {
      "application/vnd.jupyter.widget-view+json": {
       "model_id": "ea5858b471c8455bb37b2b8929773d91",
       "version_major": 2,
       "version_minor": 0
      },
      "text/plain": [
       "  0%|          | 0/128 [00:00<?, ?it/s]"
      ]
     },
     "metadata": {},
     "output_type": "display_data"
    },
    {
     "name": "stdout",
     "output_type": "stream",
     "text": [
      "Training loss: 3.391, training acc: 21.120\n",
      "Validation\n"
     ]
    },
    {
     "data": {
      "application/vnd.jupyter.widget-view+json": {
       "model_id": "82212601dcfe41148910ba9fd699fdae",
       "version_major": 2,
       "version_minor": 0
      },
      "text/plain": [
       "  0%|          | 0/126 [00:00<?, ?it/s]"
      ]
     },
     "metadata": {},
     "output_type": "display_data"
    },
    {
     "name": "stdout",
     "output_type": "stream",
     "text": [
      "Validation loss: 2.761, validation acc: 31.016\n",
      "f1 for epoch: 0.2945183893113624\n",
      "--------------------------------------------------\n",
      "[INFO]: Epoch 49 of 50\n",
      "Training\n"
     ]
    },
    {
     "data": {
      "application/vnd.jupyter.widget-view+json": {
       "model_id": "8ccf23b42635432fbbc180e315ea05a5",
       "version_major": 2,
       "version_minor": 0
      },
      "text/plain": [
       "  0%|          | 0/128 [00:00<?, ?it/s]"
      ]
     },
     "metadata": {},
     "output_type": "display_data"
    },
    {
     "name": "stdout",
     "output_type": "stream",
     "text": [
      "Training loss: 3.384, training acc: 21.022\n",
      "Validation\n"
     ]
    },
    {
     "data": {
      "application/vnd.jupyter.widget-view+json": {
       "model_id": "7e3f4700afd841c9aa54d96d4650cf27",
       "version_major": 2,
       "version_minor": 0
      },
      "text/plain": [
       "  0%|          | 0/126 [00:00<?, ?it/s]"
      ]
     },
     "metadata": {},
     "output_type": "display_data"
    },
    {
     "name": "stdout",
     "output_type": "stream",
     "text": [
      "Validation loss: 2.778, validation acc: 30.419\n",
      "f1 for epoch: 0.2886051257810514\n",
      "--------------------------------------------------\n",
      "[INFO]: Epoch 50 of 50\n",
      "Training\n"
     ]
    },
    {
     "data": {
      "application/vnd.jupyter.widget-view+json": {
       "model_id": "15cc46cafcdb48cc96d5de1c1b143493",
       "version_major": 2,
       "version_minor": 0
      },
      "text/plain": [
       "  0%|          | 0/128 [00:00<?, ?it/s]"
      ]
     },
     "metadata": {},
     "output_type": "display_data"
    },
    {
     "name": "stdout",
     "output_type": "stream",
     "text": [
      "Training loss: 3.355, training acc: 21.574\n",
      "Validation\n"
     ]
    },
    {
     "data": {
      "application/vnd.jupyter.widget-view+json": {
       "model_id": "4cc17c52b355491c9005e294323c7e73",
       "version_major": 2,
       "version_minor": 0
      },
      "text/plain": [
       "  0%|          | 0/126 [00:00<?, ?it/s]"
      ]
     },
     "metadata": {},
     "output_type": "display_data"
    },
    {
     "name": "stdout",
     "output_type": "stream",
     "text": [
      "Validation loss: 2.785, validation acc: 29.598\n",
      "f1 for epoch: 0.28303773937470383\n",
      "--------------------------------------------------\n",
      "TRAINING COMPLETE\n"
     ]
    },
    {
     "data": {
      "image/png": "[encoded data removed]",
      "text/plain": [
       "<Figure size 720x504 with 1 Axes>"
      ]
     },
     "metadata": {
      "needs_background": "light"
     },
     "output_type": "display_data"
    },
    {
     "data": {
      "image/png": "[encoded data removed]",
      "text/plain": [
       "<Figure size 720x504 with 1 Axes>"
      ]
     },
     "metadata": {
      "needs_background": "light"
     },
     "output_type": "display_data"
    },
    {
     "data": {
      "image/png": "[encoded data removed]",
      "text/plain": [
       "<Figure size 720x504 with 1 Axes>"
      ]
     },
     "metadata": {
      "needs_background": "light"
     },
     "output_type": "display_data"
    }
   ],
   "source": [
    " train_acc2, valid_acc2, train_loss2, valid_loss2, f1_sp2, model2 = Train(epochs=epochs, model=model2, train_loader=train_loader,\n",
    "                                                                    optimizer=optimizer, valid_loader=valid_loader,\n",
    "                                                                    dataset_classes=dataset_classes, criterion=criterion, \n",
    "                                                                    dir='/notebooks/outputs_Adabound_full_dataset')"
   ]
  },
  {
   "cell_type": "code",
   "execution_count": 23,
   "metadata": {
    "execution": {
     "iopub.execute_input": "2022-12-04T09:40:00.232328Z",
     "iopub.status.busy": "2022-12-04T09:40:00.231875Z",
     "iopub.status.idle": "2022-12-04T09:40:06.261071Z",
     "shell.execute_reply": "2022-12-04T09:40:06.260331Z",
     "shell.execute_reply.started": "2022-12-04T09:40:00.232304Z"
    }
   },
   "outputs": [
    {
     "name": "stderr",
     "output_type": "stream",
     "text": [
      "/usr/local/lib/python3.9/dist-packages/torchvision/models/_utils.py:208: UserWarning: The parameter 'pretrained' is deprecated since 0.13 and will be removed in 0.15, please use 'weights' instead.\n",
      "  warnings.warn(\n",
      "/usr/local/lib/python3.9/dist-packages/torchvision/models/_utils.py:223: UserWarning: Arguments other than a weight enum or `None` for 'weights' are deprecated since 0.13 and will be removed in 0.15. The current behavior is equivalent to passing `weights=VGG16_Weights.IMAGENET1K_V1`. You can also use `weights=VGG16_Weights.DEFAULT` to get the most up-to-date weights.\n",
      "  warnings.warn(msg)\n",
      "Downloading: \"https://download.pytorch.org/models/vgg16-397923af.pth\" to /root/.cache/torch/hub/checkpoints/vgg16-397923af.pth\n"
     ]
    },
    {
     "data": {
      "application/vnd.jupyter.widget-view+json": {
       "model_id": "dde0c99765804d74bace77ddd46d1930",
       "version_major": 2,
       "version_minor": 0
      },
      "text/plain": [
       "  0%|          | 0.00/528M [00:00<?, ?B/s]"
      ]
     },
     "metadata": {},
     "output_type": "display_data"
    }
   ],
   "source": [
    "import torchvision\n",
    "model3 = torchvision.models.vgg16(pretrained=True)\n",
    "for param in model3.parameters():\n",
    "    param.requires_grad = False\n",
    "\n",
    "# Parameters of newly constructed modules have requires_grad=True by default\n",
    "num_ftrs = model3.classifier[-1].in_features\n",
    "model3.classifier[-1] = Linear(num_ftrs, 196)\n",
    "model3.classifier[-4] = Linear(4096, 4096)\n",
    "model3.classifier[-7] = Linear(25088, 4096)"
   ]
  },
  {
   "cell_type": "code",
   "execution_count": 24,
   "metadata": {
    "execution": {
     "iopub.execute_input": "2022-12-04T09:40:29.081351Z",
     "iopub.status.busy": "2022-12-04T09:40:29.080421Z",
     "iopub.status.idle": "2022-12-04T09:40:31.501390Z",
     "shell.execute_reply": "2022-12-04T09:40:31.500498Z",
     "shell.execute_reply.started": "2022-12-04T09:40:29.081332Z"
    }
   },
   "outputs": [
    {
     "name": "stdout",
     "output_type": "stream",
     "text": [
      "[INFO]: Number of training images: 8144\n",
      "[INFO]: Number of validation images: 8041\n",
      "Computation device: cuda\n",
      "Learning rate: 0.0001\n",
      "Epochs to train for: 50\n",
      "\n",
      "135,063,556 total parameters.\n",
      "120,348,868 training parameters.\n"
     ]
    }
   ],
   "source": [
    "# Required constants.\n",
    "TRAIN_DIR = '/notebooks/cars_train/cars_train'\n",
    "VALID_DIR = '/notebooks/cars_test/cars_test/'\n",
    "IMAGE_SIZE = 224 # Image size of resize when applying transforms.\n",
    "BATCH_SIZE = 64\n",
    "NUM_WORKERS = 2\n",
    "\n",
    "dataset_train, dataset_valid, dataset_classes = get_datasets()\n",
    "print(f\"[INFO]: Number of training images: {len(dataset_train)}\")\n",
    "print(f\"[INFO]: Number of validation images: {len(dataset_valid)}\")\n",
    "        # Load the training and validation data loaders.\n",
    "train_loader, valid_loader = get_data_loaders(dataset_train, dataset_valid)\n",
    "        # Learning_parameters. \n",
    "lr = 0.0001\n",
    "final_lr = 0.01\n",
    "gamma = 0.0001\n",
    "epochs = 50\n",
    "device = ('cuda' if torch.cuda.is_available() else 'cpu')\n",
    "print(f\"Computation device: {device}\")\n",
    "print(f\"Learning rate: {lr}\")\n",
    "print(f\"Epochs to train for: {epochs}\\n\")\n",
    "\n",
    "total_params = sum(p.numel() for p in model3.parameters())\n",
    "print(f\"{total_params:,} total parameters.\")\n",
    "total_trainable_params = sum(p.numel() for p in model3.parameters() if p.requires_grad)\n",
    "print(f\"{total_trainable_params:,} training parameters.\")\n",
    "# Optimizer.\n",
    "optimizer = AdaBound(model3.parameters(), lr=lr, final_lr=final_lr, gamma=gamma)\n",
    "# Loss function.\n",
    "criterion = CrossEntropyLoss()\n",
    "\n",
    "\n",
    "model3 = model3.to(device)"
   ]
  },
  {
   "cell_type": "code",
   "execution_count": 25,
   "metadata": {
    "execution": {
     "iopub.execute_input": "2022-12-04T09:40:32.745593Z",
     "iopub.status.busy": "2022-12-04T09:40:32.745146Z",
     "iopub.status.idle": "2022-12-04T09:40:32.875572Z",
     "shell.execute_reply": "2022-12-04T09:40:32.874656Z",
     "shell.execute_reply.started": "2022-12-04T09:40:32.745568Z"
    }
   },
   "outputs": [],
   "source": [
    "import gc\n",
    "gc.collect()\n",
    "torch.cuda.empty_cache()"
   ]
  },
  {
   "cell_type": "code",
   "execution_count": 26,
   "metadata": {
    "execution": {
     "iopub.execute_input": "2022-12-04T09:40:36.010982Z",
     "iopub.status.busy": "2022-12-04T09:40:36.010543Z",
     "iopub.status.idle": "2022-12-04T11:55:42.817678Z",
     "shell.execute_reply": "2022-12-04T11:55:42.816633Z",
     "shell.execute_reply.started": "2022-12-04T09:40:36.010951Z"
    }
   },
   "outputs": [
    {
     "name": "stdout",
     "output_type": "stream",
     "text": [
      "[INFO]: Epoch 1 of 50\n",
      "Training\n"
     ]
    },
    {
     "data": {
      "application/vnd.jupyter.widget-view+json": {
       "model_id": "604641ea06094d77b245e389d6f6d0e0",
       "version_major": 2,
       "version_minor": 0
      },
      "text/plain": [
       "  0%|          | 0/128 [00:00<?, ?it/s]"
      ]
     },
     "metadata": {},
     "output_type": "display_data"
    },
    {
     "name": "stderr",
     "output_type": "stream",
     "text": [
      "/tmp/ipykernel_32/3245925117.py:92: UserWarning: This overload of add_ is deprecated:\n",
      "\tadd_(Number alpha, Tensor other)\n",
      "Consider using one of the following signatures instead:\n",
      "\tadd_(Tensor other, *, Number alpha) (Triggered internally at  ../torch/csrc/utils/python_arg_parser.cpp:1174.)\n",
      "  exp_avg.mul_(beta1).add_(1 - beta1, grad)\n"
     ]
    },
    {
     "name": "stdout",
     "output_type": "stream",
     "text": [
      "Training loss: 5.347, training acc: 0.651\n",
      "Validation\n"
     ]
    },
    {
     "data": {
      "application/vnd.jupyter.widget-view+json": {
       "model_id": "7c69fbb8702e48b599b2633002217857",
       "version_major": 2,
       "version_minor": 0
      },
      "text/plain": [
       "  0%|          | 0/126 [00:00<?, ?it/s]"
      ]
     },
     "metadata": {},
     "output_type": "display_data"
    },
    {
     "name": "stdout",
     "output_type": "stream",
     "text": [
      "Validation loss: 5.184, validation acc: 1.181\n",
      "f1 for epoch: 0.0012193120960547312\n",
      "--------------------------------------------------\n",
      "[INFO]: Epoch 2 of 50\n",
      "Training\n"
     ]
    },
    {
     "data": {
      "application/vnd.jupyter.widget-view+json": {
       "model_id": "cb94fbd4d1c9492682cb39f396e01f46",
       "version_major": 2,
       "version_minor": 0
      },
      "text/plain": [
       "  0%|          | 0/128 [00:00<?, ?it/s]"
      ]
     },
     "metadata": {},
     "output_type": "display_data"
    },
    {
     "name": "stdout",
     "output_type": "stream",
     "text": [
      "Training loss: 5.197, training acc: 1.265\n",
      "Validation\n"
     ]
    },
    {
     "data": {
      "application/vnd.jupyter.widget-view+json": {
       "model_id": "6fad1e5c3a8f4476be17f69c2fdae9b3",
       "version_major": 2,
       "version_minor": 0
      },
      "text/plain": [
       "  0%|          | 0/126 [00:00<?, ?it/s]"
      ]
     },
     "metadata": {},
     "output_type": "display_data"
    },
    {
     "name": "stdout",
     "output_type": "stream",
     "text": [
      "Validation loss: 4.849, validation acc: 2.823\n",
      "f1 for epoch: 0.009837699884905151\n",
      "--------------------------------------------------\n",
      "[INFO]: Epoch 3 of 50\n",
      "Training\n"
     ]
    },
    {
     "data": {
      "application/vnd.jupyter.widget-view+json": {
       "model_id": "c583a1dad66d4cd48d7793b90acb8198",
       "version_major": 2,
       "version_minor": 0
      },
      "text/plain": [
       "  0%|          | 0/128 [00:00<?, ?it/s]"
      ]
     },
     "metadata": {},
     "output_type": "display_data"
    },
    {
     "name": "stdout",
     "output_type": "stream",
     "text": [
      "Training loss: 4.978, training acc: 1.977\n",
      "Validation\n"
     ]
    },
    {
     "data": {
      "application/vnd.jupyter.widget-view+json": {
       "model_id": "0cef8882bf7f4c3c9d2d238931b439e4",
       "version_major": 2,
       "version_minor": 0
      },
      "text/plain": [
       "  0%|          | 0/126 [00:00<?, ?it/s]"
      ]
     },
     "metadata": {},
     "output_type": "display_data"
    },
    {
     "name": "stdout",
     "output_type": "stream",
     "text": [
      "Validation loss: 4.562, validation acc: 4.191\n",
      "f1 for epoch: 0.016393789745682275\n",
      "--------------------------------------------------\n",
      "[INFO]: Epoch 4 of 50\n",
      "Training\n"
     ]
    },
    {
     "data": {
      "application/vnd.jupyter.widget-view+json": {
       "model_id": "6ca3a897e62144e4bb375e88fe993acd",
       "version_major": 2,
       "version_minor": 0
      },
      "text/plain": [
       "  0%|          | 0/128 [00:00<?, ?it/s]"
      ]
     },
     "metadata": {},
     "output_type": "display_data"
    },
    {
     "name": "stdout",
     "output_type": "stream",
     "text": [
      "Training loss: 4.792, training acc: 3.426\n",
      "Validation\n"
     ]
    },
    {
     "data": {
      "application/vnd.jupyter.widget-view+json": {
       "model_id": "1bcbc8bb17ec449fbc2fd518f4300981",
       "version_major": 2,
       "version_minor": 0
      },
      "text/plain": [
       "  0%|          | 0/126 [00:00<?, ?it/s]"
      ]
     },
     "metadata": {},
     "output_type": "display_data"
    },
    {
     "name": "stdout",
     "output_type": "stream",
     "text": [
      "Validation loss: 4.282, validation acc: 6.044\n",
      "f1 for epoch: 0.03537336494443381\n",
      "--------------------------------------------------\n",
      "[INFO]: Epoch 5 of 50\n",
      "Training\n"
     ]
    },
    {
     "data": {
      "application/vnd.jupyter.widget-view+json": {
       "model_id": "09b33365bb5548f8844149b2c553f82b",
       "version_major": 2,
       "version_minor": 0
      },
      "text/plain": [
       "  0%|          | 0/128 [00:00<?, ?it/s]"
      ]
     },
     "metadata": {},
     "output_type": "display_data"
    },
    {
     "name": "stdout",
     "output_type": "stream",
     "text": [
      "Training loss: 4.622, training acc: 4.617\n",
      "Validation\n"
     ]
    },
    {
     "data": {
      "application/vnd.jupyter.widget-view+json": {
       "model_id": "4739a6103faa473d9edc69b2dffd1abb",
       "version_major": 2,
       "version_minor": 0
      },
      "text/plain": [
       "  0%|          | 0/126 [00:00<?, ?it/s]"
      ]
     },
     "metadata": {},
     "output_type": "display_data"
    },
    {
     "name": "stdout",
     "output_type": "stream",
     "text": [
      "Validation loss: 4.024, validation acc: 9.924\n",
      "f1 for epoch: 0.06819907256910164\n",
      "--------------------------------------------------\n",
      "[INFO]: Epoch 6 of 50\n",
      "Training\n"
     ]
    },
    {
     "data": {
      "application/vnd.jupyter.widget-view+json": {
       "model_id": "6de19793a1d14c30a224a23663199891",
       "version_major": 2,
       "version_minor": 0
      },
      "text/plain": [
       "  0%|          | 0/128 [00:00<?, ?it/s]"
      ]
     },
     "metadata": {},
     "output_type": "display_data"
    },
    {
     "name": "stdout",
     "output_type": "stream",
     "text": [
      "Training loss: 4.471, training acc: 5.747\n",
      "Validation\n"
     ]
    },
    {
     "data": {
      "application/vnd.jupyter.widget-view+json": {
       "model_id": "fe38f83912a048719c4cf85361f085cc",
       "version_major": 2,
       "version_minor": 0
      },
      "text/plain": [
       "  0%|          | 0/126 [00:00<?, ?it/s]"
      ]
     },
     "metadata": {},
     "output_type": "display_data"
    },
    {
     "name": "stdout",
     "output_type": "stream",
     "text": [
      "Validation loss: 3.864, validation acc: 10.981\n",
      "f1 for epoch: 0.07886594247221781\n",
      "--------------------------------------------------\n",
      "[INFO]: Epoch 7 of 50\n",
      "Training\n"
     ]
    },
    {
     "data": {
      "application/vnd.jupyter.widget-view+json": {
       "model_id": "a7cea6305d37461b9d2edfa2e3785515",
       "version_major": 2,
       "version_minor": 0
      },
      "text/plain": [
       "  0%|          | 0/128 [00:00<?, ?it/s]"
      ]
     },
     "metadata": {},
     "output_type": "display_data"
    },
    {
     "name": "stdout",
     "output_type": "stream",
     "text": [
      "Training loss: 4.347, training acc: 6.680\n",
      "Validation\n"
     ]
    },
    {
     "data": {
      "application/vnd.jupyter.widget-view+json": {
       "model_id": "d6be42fc89b745c2bb2ceec359a8572a",
       "version_major": 2,
       "version_minor": 0
      },
      "text/plain": [
       "  0%|          | 0/126 [00:00<?, ?it/s]"
      ]
     },
     "metadata": {},
     "output_type": "display_data"
    },
    {
     "name": "stdout",
     "output_type": "stream",
     "text": [
      "Validation loss: 3.757, validation acc: 11.553\n",
      "f1 for epoch: 0.07955484468697654\n",
      "--------------------------------------------------\n",
      "[INFO]: Epoch 8 of 50\n",
      "Training\n"
     ]
    },
    {
     "data": {
      "application/vnd.jupyter.widget-view+json": {
       "model_id": "efdc45cda6b443ca8714eadca832cdac",
       "version_major": 2,
       "version_minor": 0
      },
      "text/plain": [
       "  0%|          | 0/128 [00:00<?, ?it/s]"
      ]
     },
     "metadata": {},
     "output_type": "display_data"
    },
    {
     "name": "stdout",
     "output_type": "stream",
     "text": [
      "Training loss: 4.235, training acc: 8.288\n",
      "Validation\n"
     ]
    },
    {
     "data": {
      "application/vnd.jupyter.widget-view+json": {
       "model_id": "94a770c69f5c403880fba9f32753f25b",
       "version_major": 2,
       "version_minor": 0
      },
      "text/plain": [
       "  0%|          | 0/126 [00:00<?, ?it/s]"
      ]
     },
     "metadata": {},
     "output_type": "display_data"
    },
    {
     "name": "stdout",
     "output_type": "stream",
     "text": [
      "Validation loss: 3.593, validation acc: 14.849\n",
      "f1 for epoch: 0.11372536573757075\n",
      "--------------------------------------------------\n",
      "[INFO]: Epoch 9 of 50\n",
      "Training\n"
     ]
    },
    {
     "data": {
      "application/vnd.jupyter.widget-view+json": {
       "model_id": "5a20105d264e4665a40bcf745bd53b6b",
       "version_major": 2,
       "version_minor": 0
      },
      "text/plain": [
       "  0%|          | 0/128 [00:00<?, ?it/s]"
      ]
     },
     "metadata": {},
     "output_type": "display_data"
    },
    {
     "name": "stdout",
     "output_type": "stream",
     "text": [
      "Training loss: 4.129, training acc: 9.492\n",
      "Validation\n"
     ]
    },
    {
     "data": {
      "application/vnd.jupyter.widget-view+json": {
       "model_id": "e57490514d214123babf0580b7d1c44e",
       "version_major": 2,
       "version_minor": 0
      },
      "text/plain": [
       "  0%|          | 0/126 [00:00<?, ?it/s]"
      ]
     },
     "metadata": {},
     "output_type": "display_data"
    },
    {
     "name": "stdout",
     "output_type": "stream",
     "text": [
      "Validation loss: 3.518, validation acc: 15.259\n",
      "f1 for epoch: 0.11778165819963626\n",
      "--------------------------------------------------\n",
      "[INFO]: Epoch 10 of 50\n",
      "Training\n"
     ]
    },
    {
     "data": {
      "application/vnd.jupyter.widget-view+json": {
       "model_id": "48659bc877314d7daf3fe3a7f5870c4e",
       "version_major": 2,
       "version_minor": 0
      },
      "text/plain": [
       "  0%|          | 0/128 [00:00<?, ?it/s]"
      ]
     },
     "metadata": {},
     "output_type": "display_data"
    },
    {
     "name": "stdout",
     "output_type": "stream",
     "text": [
      "Training loss: 4.037, training acc: 10.584\n",
      "Validation\n"
     ]
    },
    {
     "data": {
      "application/vnd.jupyter.widget-view+json": {
       "model_id": "64485ebfc1ee4a9686f176427cf611ec",
       "version_major": 2,
       "version_minor": 0
      },
      "text/plain": [
       "  0%|          | 0/126 [00:00<?, ?it/s]"
      ]
     },
     "metadata": {},
     "output_type": "display_data"
    },
    {
     "name": "stdout",
     "output_type": "stream",
     "text": [
      "Validation loss: 3.390, validation acc: 18.095\n",
      "f1 for epoch: 0.14437580758140584\n",
      "--------------------------------------------------\n",
      "[INFO]: Epoch 11 of 50\n",
      "Training\n"
     ]
    },
    {
     "data": {
      "application/vnd.jupyter.widget-view+json": {
       "model_id": "8355403b825b407682204d67c29dff49",
       "version_major": 2,
       "version_minor": 0
      },
      "text/plain": [
       "  0%|          | 0/128 [00:00<?, ?it/s]"
      ]
     },
     "metadata": {},
     "output_type": "display_data"
    },
    {
     "name": "stdout",
     "output_type": "stream",
     "text": [
      "Training loss: 3.980, training acc: 11.346\n",
      "Validation\n"
     ]
    },
    {
     "data": {
      "application/vnd.jupyter.widget-view+json": {
       "model_id": "47ec4471611f49478b26bd0a0819c760",
       "version_major": 2,
       "version_minor": 0
      },
      "text/plain": [
       "  0%|          | 0/126 [00:00<?, ?it/s]"
      ]
     },
     "metadata": {},
     "output_type": "display_data"
    },
    {
     "name": "stdout",
     "output_type": "stream",
     "text": [
      "Validation loss: 3.299, validation acc: 18.990\n",
      "f1 for epoch: 0.15731548292606745\n",
      "--------------------------------------------------\n",
      "[INFO]: Epoch 12 of 50\n",
      "Training\n"
     ]
    },
    {
     "data": {
      "application/vnd.jupyter.widget-view+json": {
       "model_id": "aa62c8ca177d43ce8488222ad93e24ad",
       "version_major": 2,
       "version_minor": 0
      },
      "text/plain": [
       "  0%|          | 0/128 [00:00<?, ?it/s]"
      ]
     },
     "metadata": {},
     "output_type": "display_data"
    },
    {
     "name": "stdout",
     "output_type": "stream",
     "text": [
      "Training loss: 3.914, training acc: 12.561\n",
      "Validation\n"
     ]
    },
    {
     "data": {
      "application/vnd.jupyter.widget-view+json": {
       "model_id": "9240815e52204f1ea972ab64806908ff",
       "version_major": 2,
       "version_minor": 0
      },
      "text/plain": [
       "  0%|          | 0/126 [00:00<?, ?it/s]"
      ]
     },
     "metadata": {},
     "output_type": "display_data"
    },
    {
     "name": "stdout",
     "output_type": "stream",
     "text": [
      "Validation loss: 3.244, validation acc: 19.985\n",
      "f1 for epoch: 0.16782047012581114\n",
      "--------------------------------------------------\n",
      "[INFO]: Epoch 13 of 50\n",
      "Training\n"
     ]
    },
    {
     "data": {
      "application/vnd.jupyter.widget-view+json": {
       "model_id": "0bf82ce8c4594ae0a9cf8b9dce897f62",
       "version_major": 2,
       "version_minor": 0
      },
      "text/plain": [
       "  0%|          | 0/128 [00:00<?, ?it/s]"
      ]
     },
     "metadata": {},
     "output_type": "display_data"
    },
    {
     "name": "stdout",
     "output_type": "stream",
     "text": [
      "Training loss: 3.835, training acc: 14.059\n",
      "Validation\n"
     ]
    },
    {
     "data": {
      "application/vnd.jupyter.widget-view+json": {
       "model_id": "a82b8d8d1c6a44e78af6d0acd3294698",
       "version_major": 2,
       "version_minor": 0
      },
      "text/plain": [
       "  0%|          | 0/126 [00:00<?, ?it/s]"
      ]
     },
     "metadata": {},
     "output_type": "display_data"
    },
    {
     "name": "stdout",
     "output_type": "stream",
     "text": [
      "Validation loss: 3.167, validation acc: 21.017\n",
      "f1 for epoch: 0.17886347883984857\n",
      "--------------------------------------------------\n",
      "[INFO]: Epoch 14 of 50\n",
      "Training\n"
     ]
    },
    {
     "data": {
      "application/vnd.jupyter.widget-view+json": {
       "model_id": "cf2427d7a68e4648bc86251d142c30ff",
       "version_major": 2,
       "version_minor": 0
      },
      "text/plain": [
       "  0%|          | 0/128 [00:00<?, ?it/s]"
      ]
     },
     "metadata": {},
     "output_type": "display_data"
    },
    {
     "name": "stdout",
     "output_type": "stream",
     "text": [
      "Training loss: 3.801, training acc: 14.612\n",
      "Validation\n"
     ]
    },
    {
     "data": {
      "application/vnd.jupyter.widget-view+json": {
       "model_id": "c968972163124faea15b8ab55668cd28",
       "version_major": 2,
       "version_minor": 0
      },
      "text/plain": [
       "  0%|          | 0/126 [00:00<?, ?it/s]"
      ]
     },
     "metadata": {},
     "output_type": "display_data"
    },
    {
     "name": "stdout",
     "output_type": "stream",
     "text": [
      "Validation loss: 3.100, validation acc: 23.107\n",
      "f1 for epoch: 0.203671925413542\n",
      "--------------------------------------------------\n",
      "[INFO]: Epoch 15 of 50\n",
      "Training\n"
     ]
    },
    {
     "data": {
      "application/vnd.jupyter.widget-view+json": {
       "model_id": "fbcbb3a324ff4f39ad786a749d0dfe52",
       "version_major": 2,
       "version_minor": 0
      },
      "text/plain": [
       "  0%|          | 0/128 [00:00<?, ?it/s]"
      ]
     },
     "metadata": {},
     "output_type": "display_data"
    },
    {
     "name": "stdout",
     "output_type": "stream",
     "text": [
      "Training loss: 3.723, training acc: 14.722\n",
      "Validation\n"
     ]
    },
    {
     "data": {
      "application/vnd.jupyter.widget-view+json": {
       "model_id": "62df504c326a444ba1f6c95688b3e5f6",
       "version_major": 2,
       "version_minor": 0
      },
      "text/plain": [
       "  0%|          | 0/126 [00:00<?, ?it/s]"
      ]
     },
     "metadata": {},
     "output_type": "display_data"
    },
    {
     "name": "stdout",
     "output_type": "stream",
     "text": [
      "Validation loss: 3.015, validation acc: 24.835\n",
      "f1 for epoch: 0.22520221780166794\n",
      "--------------------------------------------------\n",
      "[INFO]: Epoch 16 of 50\n",
      "Training\n"
     ]
    },
    {
     "data": {
      "application/vnd.jupyter.widget-view+json": {
       "model_id": "ce86e654946145aa80f90936acd0477a",
       "version_major": 2,
       "version_minor": 0
      },
      "text/plain": [
       "  0%|          | 0/128 [00:00<?, ?it/s]"
      ]
     },
     "metadata": {},
     "output_type": "display_data"
    },
    {
     "name": "stdout",
     "output_type": "stream",
     "text": [
      "Training loss: 3.673, training acc: 16.503\n",
      "Validation\n"
     ]
    },
    {
     "data": {
      "application/vnd.jupyter.widget-view+json": {
       "model_id": "0c135cae87044722bc9a6fb8c5107218",
       "version_major": 2,
       "version_minor": 0
      },
      "text/plain": [
       "  0%|          | 0/126 [00:00<?, ?it/s]"
      ]
     },
     "metadata": {},
     "output_type": "display_data"
    },
    {
     "name": "stdout",
     "output_type": "stream",
     "text": [
      "Validation loss: 2.985, validation acc: 25.320\n",
      "f1 for epoch: 0.23327603454149348\n",
      "--------------------------------------------------\n",
      "[INFO]: Epoch 17 of 50\n",
      "Training\n"
     ]
    },
    {
     "data": {
      "application/vnd.jupyter.widget-view+json": {
       "model_id": "a2045b70020648edb4e1fd47c30a3a2c",
       "version_major": 2,
       "version_minor": 0
      },
      "text/plain": [
       "  0%|          | 0/128 [00:00<?, ?it/s]"
      ]
     },
     "metadata": {},
     "output_type": "display_data"
    },
    {
     "name": "stdout",
     "output_type": "stream",
     "text": [
      "Training loss: 3.614, training acc: 17.264\n",
      "Validation\n"
     ]
    },
    {
     "data": {
      "application/vnd.jupyter.widget-view+json": {
       "model_id": "cee0dd0d8a0944c696a6b5ef36a0f3aa",
       "version_major": 2,
       "version_minor": 0
      },
      "text/plain": [
       "  0%|          | 0/126 [00:00<?, ?it/s]"
      ]
     },
     "metadata": {},
     "output_type": "display_data"
    },
    {
     "name": "stdout",
     "output_type": "stream",
     "text": [
      "Validation loss: 2.954, validation acc: 25.457\n",
      "f1 for epoch: 0.23101677467157417\n",
      "--------------------------------------------------\n",
      "[INFO]: Epoch 18 of 50\n",
      "Training\n"
     ]
    },
    {
     "data": {
      "application/vnd.jupyter.widget-view+json": {
       "model_id": "5fe1600cbf4d46aab8cf9a3a33178dbe",
       "version_major": 2,
       "version_minor": 0
      },
      "text/plain": [
       "  0%|          | 0/128 [00:00<?, ?it/s]"
      ]
     },
     "metadata": {},
     "output_type": "display_data"
    },
    {
     "name": "stdout",
     "output_type": "stream",
     "text": [
      "Training loss: 3.593, training acc: 17.301\n",
      "Validation\n"
     ]
    },
    {
     "data": {
      "application/vnd.jupyter.widget-view+json": {
       "model_id": "f9332562aba8403080308fc4d4eed84f",
       "version_major": 2,
       "version_minor": 0
      },
      "text/plain": [
       "  0%|          | 0/126 [00:00<?, ?it/s]"
      ]
     },
     "metadata": {},
     "output_type": "display_data"
    },
    {
     "name": "stdout",
     "output_type": "stream",
     "text": [
      "Validation loss: 2.890, validation acc: 27.074\n",
      "f1 for epoch: 0.2492891382217668\n",
      "--------------------------------------------------\n",
      "[INFO]: Epoch 19 of 50\n",
      "Training\n"
     ]
    },
    {
     "data": {
      "application/vnd.jupyter.widget-view+json": {
       "model_id": "b68a8ef50d5a4a9585dfd1b2efeeb7a7",
       "version_major": 2,
       "version_minor": 0
      },
      "text/plain": [
       "  0%|          | 0/128 [00:00<?, ?it/s]"
      ]
     },
     "metadata": {},
     "output_type": "display_data"
    },
    {
     "name": "stdout",
     "output_type": "stream",
     "text": [
      "Training loss: 3.517, training acc: 18.627\n",
      "Validation\n"
     ]
    },
    {
     "data": {
      "application/vnd.jupyter.widget-view+json": {
       "model_id": "2dbc8714963148c4b84143ed06d0b56a",
       "version_major": 2,
       "version_minor": 0
      },
      "text/plain": [
       "  0%|          | 0/126 [00:00<?, ?it/s]"
      ]
     },
     "metadata": {},
     "output_type": "display_data"
    },
    {
     "name": "stdout",
     "output_type": "stream",
     "text": [
      "Validation loss: 2.876, validation acc: 27.621\n",
      "f1 for epoch: 0.2500442543655593\n",
      "--------------------------------------------------\n",
      "[INFO]: Epoch 20 of 50\n",
      "Training\n"
     ]
    },
    {
     "data": {
      "application/vnd.jupyter.widget-view+json": {
       "model_id": "d1ec078627d140a084737109a73e38c6",
       "version_major": 2,
       "version_minor": 0
      },
      "text/plain": [
       "  0%|          | 0/128 [00:00<?, ?it/s]"
      ]
     },
     "metadata": {},
     "output_type": "display_data"
    },
    {
     "name": "stdout",
     "output_type": "stream",
     "text": [
      "Training loss: 3.493, training acc: 19.180\n",
      "Validation\n"
     ]
    },
    {
     "data": {
      "application/vnd.jupyter.widget-view+json": {
       "model_id": "fbd3d5def27042c4a943e627be2f8ea8",
       "version_major": 2,
       "version_minor": 0
      },
      "text/plain": [
       "  0%|          | 0/126 [00:00<?, ?it/s]"
      ]
     },
     "metadata": {},
     "output_type": "display_data"
    },
    {
     "name": "stdout",
     "output_type": "stream",
     "text": [
      "Validation loss: 2.832, validation acc: 27.857\n",
      "f1 for epoch: 0.2599516717974519\n",
      "--------------------------------------------------\n",
      "[INFO]: Epoch 21 of 50\n",
      "Training\n"
     ]
    },
    {
     "data": {
      "application/vnd.jupyter.widget-view+json": {
       "model_id": "075400b55d9c43f6bf84db07768f5650",
       "version_major": 2,
       "version_minor": 0
      },
      "text/plain": [
       "  0%|          | 0/128 [00:00<?, ?it/s]"
      ]
     },
     "metadata": {},
     "output_type": "display_data"
    },
    {
     "name": "stdout",
     "output_type": "stream",
     "text": [
      "Training loss: 3.458, training acc: 19.487\n",
      "Validation\n"
     ]
    },
    {
     "data": {
      "application/vnd.jupyter.widget-view+json": {
       "model_id": "4474a2aee701491394c984214cea4e3d",
       "version_major": 2,
       "version_minor": 0
      },
      "text/plain": [
       "  0%|          | 0/126 [00:00<?, ?it/s]"
      ]
     },
     "metadata": {},
     "output_type": "display_data"
    },
    {
     "name": "stdout",
     "output_type": "stream",
     "text": [
      "Validation loss: 2.832, validation acc: 28.181\n",
      "f1 for epoch: 0.2593859112024472\n",
      "--------------------------------------------------\n",
      "[INFO]: Epoch 22 of 50\n",
      "Training\n"
     ]
    },
    {
     "data": {
      "application/vnd.jupyter.widget-view+json": {
       "model_id": "983425693b084092a599ace7df0be45c",
       "version_major": 2,
       "version_minor": 0
      },
      "text/plain": [
       "  0%|          | 0/128 [00:00<?, ?it/s]"
      ]
     },
     "metadata": {},
     "output_type": "display_data"
    },
    {
     "name": "stdout",
     "output_type": "stream",
     "text": [
      "Training loss: 3.434, training acc: 20.469\n",
      "Validation\n"
     ]
    },
    {
     "data": {
      "application/vnd.jupyter.widget-view+json": {
       "model_id": "e567433a772a445593bdb43959c88edc",
       "version_major": 2,
       "version_minor": 0
      },
      "text/plain": [
       "  0%|          | 0/126 [00:00<?, ?it/s]"
      ]
     },
     "metadata": {},
     "output_type": "display_data"
    },
    {
     "name": "stdout",
     "output_type": "stream",
     "text": [
      "Validation loss: 2.769, validation acc: 28.889\n",
      "f1 for epoch: 0.27148950712440156\n",
      "--------------------------------------------------\n",
      "[INFO]: Epoch 23 of 50\n",
      "Training\n"
     ]
    },
    {
     "data": {
      "application/vnd.jupyter.widget-view+json": {
       "model_id": "702aa9b687a14ec69231eb1d1b9226fc",
       "version_major": 2,
       "version_minor": 0
      },
      "text/plain": [
       "  0%|          | 0/128 [00:00<?, ?it/s]"
      ]
     },
     "metadata": {},
     "output_type": "display_data"
    },
    {
     "name": "stdout",
     "output_type": "stream",
     "text": [
      "Training loss: 3.375, training acc: 21.292\n",
      "Validation\n"
     ]
    },
    {
     "data": {
      "application/vnd.jupyter.widget-view+json": {
       "model_id": "1b75754e55414f28804b8ead46b2ea79",
       "version_major": 2,
       "version_minor": 0
      },
      "text/plain": [
       "  0%|          | 0/126 [00:00<?, ?it/s]"
      ]
     },
     "metadata": {},
     "output_type": "display_data"
    },
    {
     "name": "stdout",
     "output_type": "stream",
     "text": [
      "Validation loss: 2.712, validation acc: 30.307\n",
      "f1 for epoch: 0.2823983437030918\n",
      "--------------------------------------------------\n",
      "[INFO]: Epoch 24 of 50\n",
      "Training\n"
     ]
    },
    {
     "data": {
      "application/vnd.jupyter.widget-view+json": {
       "model_id": "d81e0636c99549b8b873a3e2f3ddba77",
       "version_major": 2,
       "version_minor": 0
      },
      "text/plain": [
       "  0%|          | 0/128 [00:00<?, ?it/s]"
      ]
     },
     "metadata": {},
     "output_type": "display_data"
    },
    {
     "name": "stdout",
     "output_type": "stream",
     "text": [
      "Training loss: 3.355, training acc: 21.292\n",
      "Validation\n"
     ]
    },
    {
     "data": {
      "application/vnd.jupyter.widget-view+json": {
       "model_id": "9de17958da664f6fb48d56a6b3266487",
       "version_major": 2,
       "version_minor": 0
      },
      "text/plain": [
       "  0%|          | 0/126 [00:00<?, ?it/s]"
      ]
     },
     "metadata": {},
     "output_type": "display_data"
    },
    {
     "name": "stdout",
     "output_type": "stream",
     "text": [
      "Validation loss: 2.716, validation acc: 30.320\n",
      "f1 for epoch: 0.2828285561072039\n",
      "--------------------------------------------------\n",
      "[INFO]: Epoch 25 of 50\n",
      "Training\n"
     ]
    },
    {
     "data": {
      "application/vnd.jupyter.widget-view+json": {
       "model_id": "b44cc77e8c3347f287953c29299527fe",
       "version_major": 2,
       "version_minor": 0
      },
      "text/plain": [
       "  0%|          | 0/128 [00:00<?, ?it/s]"
      ]
     },
     "metadata": {},
     "output_type": "display_data"
    },
    {
     "name": "stdout",
     "output_type": "stream",
     "text": [
      "Training loss: 3.311, training acc: 22.016\n",
      "Validation\n"
     ]
    },
    {
     "data": {
      "application/vnd.jupyter.widget-view+json": {
       "model_id": "74d68764a1684415822bbb169fea5e59",
       "version_major": 2,
       "version_minor": 0
      },
      "text/plain": [
       "  0%|          | 0/126 [00:00<?, ?it/s]"
      ]
     },
     "metadata": {},
     "output_type": "display_data"
    },
    {
     "name": "stdout",
     "output_type": "stream",
     "text": [
      "Validation loss: 2.709, validation acc: 30.021\n",
      "f1 for epoch: 0.2779879471024077\n",
      "--------------------------------------------------\n",
      "[INFO]: Epoch 26 of 50\n",
      "Training\n"
     ]
    },
    {
     "data": {
      "application/vnd.jupyter.widget-view+json": {
       "model_id": "25b2c37648af47ef8de47a1cd22a250f",
       "version_major": 2,
       "version_minor": 0
      },
      "text/plain": [
       "  0%|          | 0/128 [00:00<?, ?it/s]"
      ]
     },
     "metadata": {},
     "output_type": "display_data"
    },
    {
     "name": "stdout",
     "output_type": "stream",
     "text": [
      "Training loss: 3.270, training acc: 22.839\n",
      "Validation\n"
     ]
    },
    {
     "data": {
      "application/vnd.jupyter.widget-view+json": {
       "model_id": "306a65db0b8a4b848c14695f36952ab4",
       "version_major": 2,
       "version_minor": 0
      },
      "text/plain": [
       "  0%|          | 0/126 [00:00<?, ?it/s]"
      ]
     },
     "metadata": {},
     "output_type": "display_data"
    },
    {
     "name": "stdout",
     "output_type": "stream",
     "text": [
      "Validation loss: 2.643, validation acc: 31.675\n",
      "f1 for epoch: 0.30054533771948927\n",
      "--------------------------------------------------\n",
      "[INFO]: Epoch 27 of 50\n",
      "Training\n"
     ]
    },
    {
     "data": {
      "application/vnd.jupyter.widget-view+json": {
       "model_id": "7770838482da4c1eb4c4939f230210f2",
       "version_major": 2,
       "version_minor": 0
      },
      "text/plain": [
       "  0%|          | 0/128 [00:00<?, ?it/s]"
      ]
     },
     "metadata": {},
     "output_type": "display_data"
    },
    {
     "name": "stdout",
     "output_type": "stream",
     "text": [
      "Training loss: 3.240, training acc: 23.207\n",
      "Validation\n"
     ]
    },
    {
     "data": {
      "application/vnd.jupyter.widget-view+json": {
       "model_id": "8ed0cf94516f446bbef38f1c37feeb8a",
       "version_major": 2,
       "version_minor": 0
      },
      "text/plain": [
       "  0%|          | 0/126 [00:00<?, ?it/s]"
      ]
     },
     "metadata": {},
     "output_type": "display_data"
    },
    {
     "name": "stdout",
     "output_type": "stream",
     "text": [
      "Validation loss: 2.680, validation acc: 30.693\n",
      "f1 for epoch: 0.2885546746643885\n",
      "--------------------------------------------------\n",
      "[INFO]: Epoch 28 of 50\n",
      "Training\n"
     ]
    },
    {
     "data": {
      "application/vnd.jupyter.widget-view+json": {
       "model_id": "a3ee0d5a9a3843a590f66cce30a033f4",
       "version_major": 2,
       "version_minor": 0
      },
      "text/plain": [
       "  0%|          | 0/128 [00:00<?, ?it/s]"
      ]
     },
     "metadata": {},
     "output_type": "display_data"
    },
    {
     "name": "stdout",
     "output_type": "stream",
     "text": [
      "Training loss: 3.210, training acc: 23.551\n",
      "Validation\n"
     ]
    },
    {
     "data": {
      "application/vnd.jupyter.widget-view+json": {
       "model_id": "4259aabf66d54c3e82cc6f18625e18da",
       "version_major": 2,
       "version_minor": 0
      },
      "text/plain": [
       "  0%|          | 0/126 [00:00<?, ?it/s]"
      ]
     },
     "metadata": {},
     "output_type": "display_data"
    },
    {
     "name": "stdout",
     "output_type": "stream",
     "text": [
      "Validation loss: 2.638, validation acc: 31.911\n",
      "f1 for epoch: 0.30590361944056216\n",
      "--------------------------------------------------\n",
      "[INFO]: Epoch 29 of 50\n",
      "Training\n"
     ]
    },
    {
     "data": {
      "application/vnd.jupyter.widget-view+json": {
       "model_id": "fd384246c14c4032ba9037d728c435d4",
       "version_major": 2,
       "version_minor": 0
      },
      "text/plain": [
       "  0%|          | 0/128 [00:00<?, ?it/s]"
      ]
     },
     "metadata": {},
     "output_type": "display_data"
    },
    {
     "name": "stdout",
     "output_type": "stream",
     "text": [
      "Training loss: 3.193, training acc: 24.239\n",
      "Validation\n"
     ]
    },
    {
     "data": {
      "application/vnd.jupyter.widget-view+json": {
       "model_id": "a79e3e7d22f249e0b01e4bc040434cb0",
       "version_major": 2,
       "version_minor": 0
      },
      "text/plain": [
       "  0%|          | 0/126 [00:00<?, ?it/s]"
      ]
     },
     "metadata": {},
     "output_type": "display_data"
    },
    {
     "name": "stdout",
     "output_type": "stream",
     "text": [
      "Validation loss: 2.601, validation acc: 32.396\n",
      "f1 for epoch: 0.30911947565757014\n",
      "--------------------------------------------------\n",
      "[INFO]: Epoch 30 of 50\n",
      "Training\n"
     ]
    },
    {
     "data": {
      "application/vnd.jupyter.widget-view+json": {
       "model_id": "e1538be8e0544aae9679a09259164265",
       "version_major": 2,
       "version_minor": 0
      },
      "text/plain": [
       "  0%|          | 0/128 [00:00<?, ?it/s]"
      ]
     },
     "metadata": {},
     "output_type": "display_data"
    },
    {
     "name": "stdout",
     "output_type": "stream",
     "text": [
      "Training loss: 3.145, training acc: 25.246\n",
      "Validation\n"
     ]
    },
    {
     "data": {
      "application/vnd.jupyter.widget-view+json": {
       "model_id": "5b29a4dfd1cb45079c79e0821fc44cf0",
       "version_major": 2,
       "version_minor": 0
      },
      "text/plain": [
       "  0%|          | 0/126 [00:00<?, ?it/s]"
      ]
     },
     "metadata": {},
     "output_type": "display_data"
    },
    {
     "name": "stdout",
     "output_type": "stream",
     "text": [
      "Validation loss: 2.581, validation acc: 33.827\n",
      "f1 for epoch: 0.32091673901240786\n",
      "--------------------------------------------------\n",
      "[INFO]: Epoch 31 of 50\n",
      "Training\n"
     ]
    },
    {
     "data": {
      "application/vnd.jupyter.widget-view+json": {
       "model_id": "b4071d6b3b6f4a1a9ccef9b6d010e83a",
       "version_major": 2,
       "version_minor": 0
      },
      "text/plain": [
       "  0%|          | 0/128 [00:00<?, ?it/s]"
      ]
     },
     "metadata": {},
     "output_type": "display_data"
    },
    {
     "name": "stdout",
     "output_type": "stream",
     "text": [
      "Training loss: 3.109, training acc: 26.559\n",
      "Validation\n"
     ]
    },
    {
     "data": {
      "application/vnd.jupyter.widget-view+json": {
       "model_id": "a0cdc0e76f3b470a9a028a65d043b688",
       "version_major": 2,
       "version_minor": 0
      },
      "text/plain": [
       "  0%|          | 0/126 [00:00<?, ?it/s]"
      ]
     },
     "metadata": {},
     "output_type": "display_data"
    },
    {
     "name": "stdout",
     "output_type": "stream",
     "text": [
      "Validation loss: 2.555, validation acc: 33.690\n",
      "f1 for epoch: 0.3200855886092806\n",
      "--------------------------------------------------\n",
      "[INFO]: Epoch 32 of 50\n",
      "Training\n"
     ]
    },
    {
     "data": {
      "application/vnd.jupyter.widget-view+json": {
       "model_id": "0c74ba98ed27430d9c22bee5139ff4c7",
       "version_major": 2,
       "version_minor": 0
      },
      "text/plain": [
       "  0%|          | 0/128 [00:00<?, ?it/s]"
      ]
     },
     "metadata": {},
     "output_type": "display_data"
    },
    {
     "name": "stdout",
     "output_type": "stream",
     "text": [
      "Training loss: 3.089, training acc: 26.277\n",
      "Validation\n"
     ]
    },
    {
     "data": {
      "application/vnd.jupyter.widget-view+json": {
       "model_id": "a227e912806747488c13534e9435233a",
       "version_major": 2,
       "version_minor": 0
      },
      "text/plain": [
       "  0%|          | 0/126 [00:00<?, ?it/s]"
      ]
     },
     "metadata": {},
     "output_type": "display_data"
    },
    {
     "name": "stdout",
     "output_type": "stream",
     "text": [
      "Validation loss: 2.524, validation acc: 33.914\n",
      "f1 for epoch: 0.32422637854910175\n",
      "--------------------------------------------------\n",
      "[INFO]: Epoch 33 of 50\n",
      "Training\n"
     ]
    },
    {
     "data": {
      "application/vnd.jupyter.widget-view+json": {
       "model_id": "5cff39a7359b44b5bfff99e4f3c1becc",
       "version_major": 2,
       "version_minor": 0
      },
      "text/plain": [
       "  0%|          | 0/128 [00:00<?, ?it/s]"
      ]
     },
     "metadata": {},
     "output_type": "display_data"
    },
    {
     "name": "stdout",
     "output_type": "stream",
     "text": [
      "Training loss: 3.121, training acc: 25.995\n",
      "Validation\n"
     ]
    },
    {
     "data": {
      "application/vnd.jupyter.widget-view+json": {
       "model_id": "223dc2d7743040a69db81bd6e5407b54",
       "version_major": 2,
       "version_minor": 0
      },
      "text/plain": [
       "  0%|          | 0/126 [00:00<?, ?it/s]"
      ]
     },
     "metadata": {},
     "output_type": "display_data"
    },
    {
     "name": "stdout",
     "output_type": "stream",
     "text": [
      "Validation loss: 2.518, validation acc: 34.660\n",
      "f1 for epoch: 0.32685566856155956\n",
      "--------------------------------------------------\n",
      "[INFO]: Epoch 34 of 50\n",
      "Training\n"
     ]
    },
    {
     "data": {
      "application/vnd.jupyter.widget-view+json": {
       "model_id": "f3cebc46341e498abd5c81082e7c45fd",
       "version_major": 2,
       "version_minor": 0
      },
      "text/plain": [
       "  0%|          | 0/128 [00:00<?, ?it/s]"
      ]
     },
     "metadata": {},
     "output_type": "display_data"
    },
    {
     "name": "stdout",
     "output_type": "stream",
     "text": [
      "Training loss: 3.036, training acc: 27.358\n",
      "Validation\n"
     ]
    },
    {
     "data": {
      "application/vnd.jupyter.widget-view+json": {
       "model_id": "4569829d153e4999bf1a13ba30a61b48",
       "version_major": 2,
       "version_minor": 0
      },
      "text/plain": [
       "  0%|          | 0/126 [00:00<?, ?it/s]"
      ]
     },
     "metadata": {},
     "output_type": "display_data"
    },
    {
     "name": "stdout",
     "output_type": "stream",
     "text": [
      "Validation loss: 2.508, validation acc: 34.585\n",
      "f1 for epoch: 0.3263109187061143\n",
      "--------------------------------------------------\n",
      "[INFO]: Epoch 35 of 50\n",
      "Training\n"
     ]
    },
    {
     "data": {
      "application/vnd.jupyter.widget-view+json": {
       "model_id": "c7d87e517c2e40dabf30f20dab1e1c52",
       "version_major": 2,
       "version_minor": 0
      },
      "text/plain": [
       "  0%|          | 0/128 [00:00<?, ?it/s]"
      ]
     },
     "metadata": {},
     "output_type": "display_data"
    },
    {
     "name": "stdout",
     "output_type": "stream",
     "text": [
      "Training loss: 3.011, training acc: 28.659\n",
      "Validation\n"
     ]
    },
    {
     "data": {
      "application/vnd.jupyter.widget-view+json": {
       "model_id": "db018bce46de431bbe3e4ed68cd58f7e",
       "version_major": 2,
       "version_minor": 0
      },
      "text/plain": [
       "  0%|          | 0/126 [00:00<?, ?it/s]"
      ]
     },
     "metadata": {},
     "output_type": "display_data"
    },
    {
     "name": "stdout",
     "output_type": "stream",
     "text": [
      "Validation loss: 2.492, validation acc: 34.859\n",
      "f1 for epoch: 0.3323674065635584\n",
      "--------------------------------------------------\n",
      "[INFO]: Epoch 36 of 50\n",
      "Training\n"
     ]
    },
    {
     "data": {
      "application/vnd.jupyter.widget-view+json": {
       "model_id": "29e7e196fb5c49019548d9eb693ddbae",
       "version_major": 2,
       "version_minor": 0
      },
      "text/plain": [
       "  0%|          | 0/128 [00:00<?, ?it/s]"
      ]
     },
     "metadata": {},
     "output_type": "display_data"
    },
    {
     "name": "stdout",
     "output_type": "stream",
     "text": [
      "Training loss: 2.995, training acc: 28.475\n",
      "Validation\n"
     ]
    },
    {
     "data": {
      "application/vnd.jupyter.widget-view+json": {
       "model_id": "a1daed1672b749c48abd7ebb04cd1cf7",
       "version_major": 2,
       "version_minor": 0
      },
      "text/plain": [
       "  0%|          | 0/126 [00:00<?, ?it/s]"
      ]
     },
     "metadata": {},
     "output_type": "display_data"
    },
    {
     "name": "stdout",
     "output_type": "stream",
     "text": [
      "Validation loss: 2.494, validation acc: 35.058\n",
      "f1 for epoch: 0.33370779535017425\n",
      "--------------------------------------------------\n",
      "[INFO]: Epoch 37 of 50\n",
      "Training\n"
     ]
    },
    {
     "data": {
      "application/vnd.jupyter.widget-view+json": {
       "model_id": "fa2459d03dde4a98b1919c43e4a6f552",
       "version_major": 2,
       "version_minor": 0
      },
      "text/plain": [
       "  0%|          | 0/128 [00:00<?, ?it/s]"
      ]
     },
     "metadata": {},
     "output_type": "display_data"
    },
    {
     "name": "stdout",
     "output_type": "stream",
     "text": [
      "Training loss: 2.974, training acc: 28.794\n",
      "Validation\n"
     ]
    },
    {
     "data": {
      "application/vnd.jupyter.widget-view+json": {
       "model_id": "212143fe59c3412fa86e309efc2d5586",
       "version_major": 2,
       "version_minor": 0
      },
      "text/plain": [
       "  0%|          | 0/126 [00:00<?, ?it/s]"
      ]
     },
     "metadata": {},
     "output_type": "display_data"
    },
    {
     "name": "stdout",
     "output_type": "stream",
     "text": [
      "Validation loss: 2.488, validation acc: 34.324\n",
      "f1 for epoch: 0.3276522355465798\n",
      "--------------------------------------------------\n",
      "[INFO]: Epoch 38 of 50\n",
      "Training\n"
     ]
    },
    {
     "data": {
      "application/vnd.jupyter.widget-view+json": {
       "model_id": "f0f1e3ae5874419299b5976f7b8d2e69",
       "version_major": 2,
       "version_minor": 0
      },
      "text/plain": [
       "  0%|          | 0/128 [00:00<?, ?it/s]"
      ]
     },
     "metadata": {},
     "output_type": "display_data"
    },
    {
     "name": "stdout",
     "output_type": "stream",
     "text": [
      "Training loss: 2.967, training acc: 28.905\n",
      "Validation\n"
     ]
    },
    {
     "data": {
      "application/vnd.jupyter.widget-view+json": {
       "model_id": "ff7836b17b5149fdb6d4d5d7c1dd49b1",
       "version_major": 2,
       "version_minor": 0
      },
      "text/plain": [
       "  0%|          | 0/126 [00:00<?, ?it/s]"
      ]
     },
     "metadata": {},
     "output_type": "display_data"
    },
    {
     "name": "stdout",
     "output_type": "stream",
     "text": [
      "Validation loss: 2.431, validation acc: 36.488\n",
      "f1 for epoch: 0.35442796265951915\n",
      "--------------------------------------------------\n",
      "[INFO]: Epoch 39 of 50\n",
      "Training\n"
     ]
    },
    {
     "data": {
      "application/vnd.jupyter.widget-view+json": {
       "model_id": "c36f40b0750b4b9685685ded7048ff62",
       "version_major": 2,
       "version_minor": 0
      },
      "text/plain": [
       "  0%|          | 0/128 [00:00<?, ?it/s]"
      ]
     },
     "metadata": {},
     "output_type": "display_data"
    },
    {
     "name": "stdout",
     "output_type": "stream",
     "text": [
      "Training loss: 2.933, training acc: 28.856\n",
      "Validation\n"
     ]
    },
    {
     "data": {
      "application/vnd.jupyter.widget-view+json": {
       "model_id": "eb38318d5f0f40408f57c4d70fdbb203",
       "version_major": 2,
       "version_minor": 0
      },
      "text/plain": [
       "  0%|          | 0/126 [00:00<?, ?it/s]"
      ]
     },
     "metadata": {},
     "output_type": "display_data"
    },
    {
     "name": "stdout",
     "output_type": "stream",
     "text": [
      "Validation loss: 2.466, validation acc: 34.896\n",
      "f1 for epoch: 0.3377895318336679\n",
      "--------------------------------------------------\n",
      "[INFO]: Epoch 40 of 50\n",
      "Training\n"
     ]
    },
    {
     "data": {
      "application/vnd.jupyter.widget-view+json": {
       "model_id": "40062aaa96eb4460b48ec8f26e158c6a",
       "version_major": 2,
       "version_minor": 0
      },
      "text/plain": [
       "  0%|          | 0/128 [00:00<?, ?it/s]"
      ]
     },
     "metadata": {},
     "output_type": "display_data"
    },
    {
     "name": "stdout",
     "output_type": "stream",
     "text": [
      "Training loss: 2.884, training acc: 29.973\n",
      "Validation\n"
     ]
    },
    {
     "data": {
      "application/vnd.jupyter.widget-view+json": {
       "model_id": "a9d8a086788b49de870a23a8e1a5d7d6",
       "version_major": 2,
       "version_minor": 0
      },
      "text/plain": [
       "  0%|          | 0/126 [00:00<?, ?it/s]"
      ]
     },
     "metadata": {},
     "output_type": "display_data"
    },
    {
     "name": "stdout",
     "output_type": "stream",
     "text": [
      "Validation loss: 2.457, validation acc: 35.953\n",
      "f1 for epoch: 0.3462666262703399\n",
      "--------------------------------------------------\n",
      "[INFO]: Epoch 41 of 50\n",
      "Training\n"
     ]
    },
    {
     "data": {
      "application/vnd.jupyter.widget-view+json": {
       "model_id": "0f4bc4324eaf4d3ba23f0b21faa4b6ee",
       "version_major": 2,
       "version_minor": 0
      },
      "text/plain": [
       "  0%|          | 0/128 [00:00<?, ?it/s]"
      ]
     },
     "metadata": {},
     "output_type": "display_data"
    },
    {
     "name": "stdout",
     "output_type": "stream",
     "text": [
      "Training loss: 2.873, training acc: 30.403\n",
      "Validation\n"
     ]
    },
    {
     "data": {
      "application/vnd.jupyter.widget-view+json": {
       "model_id": "32c623d9825049c283c44afdc62606ed",
       "version_major": 2,
       "version_minor": 0
      },
      "text/plain": [
       "  0%|          | 0/126 [00:00<?, ?it/s]"
      ]
     },
     "metadata": {},
     "output_type": "display_data"
    },
    {
     "name": "stdout",
     "output_type": "stream",
     "text": [
      "Validation loss: 2.437, validation acc: 36.239\n",
      "f1 for epoch: 0.3466857932992071\n",
      "--------------------------------------------------\n",
      "[INFO]: Epoch 42 of 50\n",
      "Training\n"
     ]
    },
    {
     "data": {
      "application/vnd.jupyter.widget-view+json": {
       "model_id": "4cd3980b97ad450d9bf69bd0912d9afd",
       "version_major": 2,
       "version_minor": 0
      },
      "text/plain": [
       "  0%|          | 0/128 [00:00<?, ?it/s]"
      ]
     },
     "metadata": {},
     "output_type": "display_data"
    },
    {
     "name": "stdout",
     "output_type": "stream",
     "text": [
      "Training loss: 2.859, training acc: 30.685\n",
      "Validation\n"
     ]
    },
    {
     "data": {
      "application/vnd.jupyter.widget-view+json": {
       "model_id": "7352c740ad8c4c428c56fad0f31b927a",
       "version_major": 2,
       "version_minor": 0
      },
      "text/plain": [
       "  0%|          | 0/126 [00:00<?, ?it/s]"
      ]
     },
     "metadata": {},
     "output_type": "display_data"
    },
    {
     "name": "stdout",
     "output_type": "stream",
     "text": [
      "Validation loss: 2.426, validation acc: 36.239\n",
      "f1 for epoch: 0.35218045324729447\n",
      "--------------------------------------------------\n",
      "[INFO]: Epoch 43 of 50\n",
      "Training\n"
     ]
    },
    {
     "data": {
      "application/vnd.jupyter.widget-view+json": {
       "model_id": "cc16392197db48a09aef1d2d088309f4",
       "version_major": 2,
       "version_minor": 0
      },
      "text/plain": [
       "  0%|          | 0/128 [00:00<?, ?it/s]"
      ]
     },
     "metadata": {},
     "output_type": "display_data"
    },
    {
     "name": "stdout",
     "output_type": "stream",
     "text": [
      "Training loss: 2.837, training acc: 31.496\n",
      "Validation\n"
     ]
    },
    {
     "data": {
      "application/vnd.jupyter.widget-view+json": {
       "model_id": "22a1301e33cd46fca136e825ca420951",
       "version_major": 2,
       "version_minor": 0
      },
      "text/plain": [
       "  0%|          | 0/126 [00:00<?, ?it/s]"
      ]
     },
     "metadata": {},
     "output_type": "display_data"
    },
    {
     "name": "stdout",
     "output_type": "stream",
     "text": [
      "Validation loss: 2.417, validation acc: 36.289\n",
      "f1 for epoch: 0.3536385080219744\n",
      "--------------------------------------------------\n",
      "[INFO]: Epoch 44 of 50\n",
      "Training\n"
     ]
    },
    {
     "data": {
      "application/vnd.jupyter.widget-view+json": {
       "model_id": "0da9705648fa4ec69111c1b024f03d2a",
       "version_major": 2,
       "version_minor": 0
      },
      "text/plain": [
       "  0%|          | 0/128 [00:00<?, ?it/s]"
      ]
     },
     "metadata": {},
     "output_type": "display_data"
    },
    {
     "name": "stdout",
     "output_type": "stream",
     "text": [
      "Training loss: 2.843, training acc: 30.869\n",
      "Validation\n"
     ]
    },
    {
     "data": {
      "application/vnd.jupyter.widget-view+json": {
       "model_id": "3772194afd824c80a5df06baa0de502c",
       "version_major": 2,
       "version_minor": 0
      },
      "text/plain": [
       "  0%|          | 0/126 [00:00<?, ?it/s]"
      ]
     },
     "metadata": {},
     "output_type": "display_data"
    },
    {
     "name": "stdout",
     "output_type": "stream",
     "text": [
      "Validation loss: 2.376, validation acc: 37.881\n",
      "f1 for epoch: 0.3635471016355686\n",
      "--------------------------------------------------\n",
      "[INFO]: Epoch 45 of 50\n",
      "Training\n"
     ]
    },
    {
     "data": {
      "application/vnd.jupyter.widget-view+json": {
       "model_id": "e29ff660f1a848feac3c9589cc223022",
       "version_major": 2,
       "version_minor": 0
      },
      "text/plain": [
       "  0%|          | 0/128 [00:00<?, ?it/s]"
      ]
     },
     "metadata": {},
     "output_type": "display_data"
    },
    {
     "name": "stdout",
     "output_type": "stream",
     "text": [
      "Training loss: 2.798, training acc: 31.778\n",
      "Validation\n"
     ]
    },
    {
     "data": {
      "application/vnd.jupyter.widget-view+json": {
       "model_id": "4b19d923b78440cf8bdf3ff3fefc0a98",
       "version_major": 2,
       "version_minor": 0
      },
      "text/plain": [
       "  0%|          | 0/126 [00:00<?, ?it/s]"
      ]
     },
     "metadata": {},
     "output_type": "display_data"
    },
    {
     "name": "stdout",
     "output_type": "stream",
     "text": [
      "Validation loss: 2.398, validation acc: 37.209\n",
      "f1 for epoch: 0.3611960246493714\n",
      "--------------------------------------------------\n",
      "[INFO]: Epoch 46 of 50\n",
      "Training\n"
     ]
    },
    {
     "data": {
      "application/vnd.jupyter.widget-view+json": {
       "model_id": "9922a588e1764ecea819831a1f3eb14d",
       "version_major": 2,
       "version_minor": 0
      },
      "text/plain": [
       "  0%|          | 0/128 [00:00<?, ?it/s]"
      ]
     },
     "metadata": {},
     "output_type": "display_data"
    },
    {
     "name": "stdout",
     "output_type": "stream",
     "text": [
      "Training loss: 2.773, training acc: 32.011\n",
      "Validation\n"
     ]
    },
    {
     "data": {
      "application/vnd.jupyter.widget-view+json": {
       "model_id": "b796d00976874c889d5e5ef69694b84f",
       "version_major": 2,
       "version_minor": 0
      },
      "text/plain": [
       "  0%|          | 0/126 [00:00<?, ?it/s]"
      ]
     },
     "metadata": {},
     "output_type": "display_data"
    },
    {
     "name": "stdout",
     "output_type": "stream",
     "text": [
      "Validation loss: 2.350, validation acc: 38.229\n",
      "f1 for epoch: 0.37342194608944135\n",
      "--------------------------------------------------\n",
      "[INFO]: Epoch 47 of 50\n",
      "Training\n"
     ]
    },
    {
     "data": {
      "application/vnd.jupyter.widget-view+json": {
       "model_id": "468a01c533134944963daea9aeef9afd",
       "version_major": 2,
       "version_minor": 0
      },
      "text/plain": [
       "  0%|          | 0/128 [00:00<?, ?it/s]"
      ]
     },
     "metadata": {},
     "output_type": "display_data"
    },
    {
     "name": "stdout",
     "output_type": "stream",
     "text": [
      "Training loss: 2.761, training acc: 32.834\n",
      "Validation\n"
     ]
    },
    {
     "data": {
      "application/vnd.jupyter.widget-view+json": {
       "model_id": "2f4343bc0c72492d996a08b9a888c288",
       "version_major": 2,
       "version_minor": 0
      },
      "text/plain": [
       "  0%|          | 0/126 [00:00<?, ?it/s]"
      ]
     },
     "metadata": {},
     "output_type": "display_data"
    },
    {
     "name": "stdout",
     "output_type": "stream",
     "text": [
      "Validation loss: 2.350, validation acc: 38.453\n",
      "f1 for epoch: 0.37042521718737853\n",
      "--------------------------------------------------\n",
      "[INFO]: Epoch 48 of 50\n",
      "Training\n"
     ]
    },
    {
     "data": {
      "application/vnd.jupyter.widget-view+json": {
       "model_id": "f368b53941154bc1802713209e4a0587",
       "version_major": 2,
       "version_minor": 0
      },
      "text/plain": [
       "  0%|          | 0/128 [00:00<?, ?it/s]"
      ]
     },
     "metadata": {},
     "output_type": "display_data"
    },
    {
     "name": "stdout",
     "output_type": "stream",
     "text": [
      "Training loss: 2.740, training acc: 32.625\n",
      "Validation\n"
     ]
    },
    {
     "data": {
      "application/vnd.jupyter.widget-view+json": {
       "model_id": "b87649052fa846c9975901c00e8c318c",
       "version_major": 2,
       "version_minor": 0
      },
      "text/plain": [
       "  0%|          | 0/126 [00:00<?, ?it/s]"
      ]
     },
     "metadata": {},
     "output_type": "display_data"
    },
    {
     "name": "stdout",
     "output_type": "stream",
     "text": [
      "Validation loss: 2.333, validation acc: 39.286\n",
      "f1 for epoch: 0.38205580990161725\n",
      "--------------------------------------------------\n",
      "[INFO]: Epoch 49 of 50\n",
      "Training\n"
     ]
    },
    {
     "data": {
      "application/vnd.jupyter.widget-view+json": {
       "model_id": "64031203b7304376924ba8db2edb9dde",
       "version_major": 2,
       "version_minor": 0
      },
      "text/plain": [
       "  0%|          | 0/128 [00:00<?, ?it/s]"
      ]
     },
     "metadata": {},
     "output_type": "display_data"
    },
    {
     "name": "stdout",
     "output_type": "stream",
     "text": [
      "Training loss: 2.759, training acc: 32.429\n",
      "Validation\n"
     ]
    },
    {
     "data": {
      "application/vnd.jupyter.widget-view+json": {
       "model_id": "bdb690f1ad394d67a9573cd79803951d",
       "version_major": 2,
       "version_minor": 0
      },
      "text/plain": [
       "  0%|          | 0/126 [00:00<?, ?it/s]"
      ]
     },
     "metadata": {},
     "output_type": "display_data"
    },
    {
     "name": "stdout",
     "output_type": "stream",
     "text": [
      "Validation loss: 2.348, validation acc: 38.142\n",
      "f1 for epoch: 0.37198306893209737\n",
      "--------------------------------------------------\n",
      "[INFO]: Epoch 50 of 50\n",
      "Training\n"
     ]
    },
    {
     "data": {
      "application/vnd.jupyter.widget-view+json": {
       "model_id": "ac64385d62624fd19b73a8d269557c90",
       "version_major": 2,
       "version_minor": 0
      },
      "text/plain": [
       "  0%|          | 0/128 [00:00<?, ?it/s]"
      ]
     },
     "metadata": {},
     "output_type": "display_data"
    },
    {
     "name": "stdout",
     "output_type": "stream",
     "text": [
      "Training loss: 2.706, training acc: 33.399\n",
      "Validation\n"
     ]
    },
    {
     "data": {
      "application/vnd.jupyter.widget-view+json": {
       "model_id": "9ef85727aae24587b499c1086e6e19ca",
       "version_major": 2,
       "version_minor": 0
      },
      "text/plain": [
       "  0%|          | 0/126 [00:00<?, ?it/s]"
      ]
     },
     "metadata": {},
     "output_type": "display_data"
    },
    {
     "name": "stdout",
     "output_type": "stream",
     "text": [
      "Validation loss: 2.332, validation acc: 38.664\n",
      "f1 for epoch: 0.3755044415622684\n",
      "--------------------------------------------------\n",
      "TRAINING COMPLETE\n"
     ]
    },
    {
     "data": {
      "image/png": "[encoded data removed]",
      "text/plain": [
       "<Figure size 720x504 with 1 Axes>"
      ]
     },
     "metadata": {
      "needs_background": "light"
     },
     "output_type": "display_data"
    },
    {
     "data": {
      "image/png": "[encoded data removed]",
      "text/plain": [
       "<Figure size 720x504 with 1 Axes>"
      ]
     },
     "metadata": {
      "needs_background": "light"
     },
     "output_type": "display_data"
    },
    {
     "data": {
      "image/png": "[encoded data removed]",
      "text/plain": [
       "<Figure size 720x504 with 1 Axes>"
      ]
     },
     "metadata": {
      "needs_background": "light"
     },
     "output_type": "display_data"
    }
   ],
   "source": [
    "train_acc3, valid_acc3, train_loss3, valid_loss3, f1_sp3, model3 = Train(epochs=epochs, model=model3, train_loader=train_loader,\n",
    "                                                                    optimizer=optimizer, valid_loader=valid_loader,\n",
    "                                                                    dataset_classes=dataset_classes, criterion=criterion, \n",
    "                                                                    dir='/notebooks/outputs_Adabound_custom_full_dataset')"
   ]
  }
 ],
 "metadata": {
  "kernelspec": {
   "display_name": "Python 3 (ipykernel)",
   "language": "python",
   "name": "python3"
  },
  "language_info": {
   "codemirror_mode": {
    "name": "ipython",
    "version": 3
   },
   "file_extension": ".py",
   "mimetype": "text/x-python",
   "name": "python",
   "nbconvert_exporter": "python",
   "pygments_lexer": "ipython3",
   "version": "3.9.13"
  }
 },
 "nbformat": 4,
 "nbformat_minor": 4
}
